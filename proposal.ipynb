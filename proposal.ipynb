{
 "cells": [
  {
   "cell_type": "code",
   "execution_count": null,
   "metadata": {},
   "outputs": [],
   "source": [
    "#######################################################"
   ]
  },
  {
   "cell_type": "markdown",
   "metadata": {},
   "source": [
    "- Provide a summary of the data\n",
    "    - What is the source of the data?\n",
    "        - How is the data generated?\n",
    "    - What is the original format of the data?\n",
    "    - How large is the entire dataset?\n",
    "    - Describe the features of the data that you are working with\n",
    "        - Provide a statistical summary of numerical columns\n",
    "        - Provide a detailed breakdown of how you choose to clean the data\n",
    "        - What is your methodology for dealing with errors, nulls, and outliers?\n",
    "            - What quality standards are enforced for your cleaned data?\n",
    "            - Does the data to be augmented with any external data?\n",
    "    - Propsed solution\n",
    "       - ERD for raw tables\n",
    "       - A complete Entity Relationship Diagram of your final normalized schema\n",
    "       - The partitioning schema for your dataset"
   ]
  },
  {
   "cell_type": "code",
   "execution_count": null,
   "metadata": {},
   "outputs": [],
   "source": [
    "#############################################################"
   ]
  },
  {
   "cell_type": "markdown",
   "metadata": {},
   "source": [
    "## Data Summary"
   ]
  },
  {
   "cell_type": "markdown",
   "metadata": {},
   "source": [
    "##### Data Source: \n",
    "- US Imports - Automated Manifest System (AMS) Shipments 2018-2020\n",
    "- Collected by US Customs and Border Protection (CBP)\n",
    "- CBP requires that all ships entering or passing through US waters provide details about their cargo contents\n",
    "##### Original format:\n",
    "- CSV files, separated by tables\n",
    "    - [Bill of Lading Headers, General Bill Information, Shippers, Shipment Consignees, Notified Parties, Cargo Descriptions, Containers, Marks and Numbers, Tariff Codes, Toxic and Hazardous Materials, Toxic and Hazardous Materials Classification]\n",
    "- Original Size of all 3 years of data: 63.22GB"
   ]
  },
  {
   "cell_type": "code",
   "execution_count": null,
   "metadata": {},
   "outputs": [],
   "source": [
    "#######################"
   ]
  },
  {
   "cell_type": "markdown",
   "metadata": {},
   "source": [
    "## Use Case"
   ]
  },
  {
   "cell_type": "markdown",
   "metadata": {},
   "source": [
    "#### Big Question\n",
    "- Which shippers are most/least reliable (arrival time delta between estimated and actual)?\n",
    "\n",
    "#### Sub Questions\n",
    "- Identify most reliable shippers per country/region/subregion\n",
    "- Identify the most reliable carrier companies\n",
    "- Identify the reliability changes over years\n",
    "    - How did covid affect reliability metrics of shipment times?\n",
    "- Which consignees chose their shippers wisest?"
   ]
  },
  {
   "cell_type": "code",
   "execution_count": null,
   "metadata": {},
   "outputs": [],
   "source": [
    "###################################################"
   ]
  },
  {
   "cell_type": "markdown",
   "metadata": {},
   "source": [
    "#### Brief\n",
    "Initially, I had intended on pursuing shipping companies and their reliability concerning time delta between estimated and actual delivery, as well as that of their countries of origin. With that, I encountered two issues: using the carrier_code alone would limit the required tables to be used, and that there seemed to be many cases of carrier_codes being linked to multiple countries.\n",
    "\n",
    "That proved to be troublesome in more ways than one. I had hoped to be able to separate out ships or voyages into their own SQL tables, but continued to encounter issues of non-unique data -- voyages including multiple estimated times due to multiple shipments onboard, companies running under up to 5 different countries, ships belonging to multiple carrier companies, etc. \n",
    "\n",
    "So I went back and switched the main question to pertain to the shippers. This allowed for more static information by country and, based on quick pandas explorations, showed enough repeat shippers to make meaningful insights.\n",
    "\n",
    "From there, I narrowed down my pertinent fields, leaving some extraneous fields that may, as I explore and transform the data, have the potential to prove useful. From header, the most important fields concerned dates, the carrier code, and the identifier to connect with the consignee and shipper. From shipper and consignee, I pulled the identifier, name, and associated address information.\n",
    "\n",
    "Moving forward, the most challenging aspect of the cleaning process will definitely concern the address, as the input data is far from uniform.\n",
    "\n"
   ]
  },
  {
   "cell_type": "code",
   "execution_count": null,
   "metadata": {},
   "outputs": [],
   "source": [
    "#############################################################"
   ]
  },
  {
   "cell_type": "markdown",
   "metadata": {},
   "source": [
    "## Raw Data Info"
   ]
  },
  {
   "cell_type": "markdown",
   "metadata": {},
   "source": [
    "*Total size of pertinent raw data tables: 23.93GB*"
   ]
  },
  {
   "cell_type": "markdown",
   "metadata": {},
   "source": [
    "- I am currently using 3 tables from the raw data: Header, Shipper, and Consignee.\n",
    "\n",
    "- I did research and used deductive reasoning to come up with the explanations of columns\n",
    "- Using DataFrame.info() on the first file of each table, I determined the percentage of non-null values on \n",
    "- each column to help determine which cols lacked enough values to lose usefulness in my dataset"
   ]
  },
  {
   "cell_type": "markdown",
   "metadata": {},
   "source": [
    "##### Header\n",
    "| Column | Data Type | Explanation | % non-null in 1st file |\n",
    "| ------ | --------- | ----------- | ---------------------- |\n",
    "| identifier | int64 | id of manifest shipment | 100% |\n",
    "| carrier_code | String | Standard Carrier Alpha Code (SCAC) to identify Vessel Operating Common Carriers (VOCC) | 100% |\n",
    "| vessel_country_code | String | Carrier vessel country of origin | 99.99% |\n",
    "| vessel_name | String | Ship's name | 100% |\n",
    "| port_of_unlading | String | Place where vessel unloads shipment | 100% |\n",
    "| estimated_arrival_date | String | Time given as estimated shipment arrival | 100% |\n",
    "| foreign_port_of_lading_qualifier | String | Designating seaports handling waterborne shipment of foreign trade from | 100% |\n",
    "| foreign_port_of_lading | String | Foreign port where shipment was loaded | 100% |\n",
    "| manifest_quantity | int64 | Number of items in shipment manifest | 100% |\n",
    "| manifest_unit | String | Unit of which the items contained in the manifest are contained and counted | 100% |\n",
    "| weight | int64 | total weight of manifest items | 100% |\n",
    "| weight_unit | String | Weight unit of measure | 100% |\n",
    "| measurement | int64 | dimensional measurement | 100% |\n",
    "| measurement_unit | String | Unit of dimensional measurement | 68.73% |\n",
    "| record_status_indicator | String | Designation of record status: new, deleted, or amended | 100% |\n",
    "| place_of_receipt | String | Originating port of manifest items | 99.79% |\n",
    "| port_of_destination | String | Eventual destination point | 9.4% |\n",
    "| foreign_port_of_destination_qualifier | String | Designating seaports handling waterborne shipment of foreign trade to | 0.64% |\n",
    "| foreign_port_of_destination | String | Eventual destination point if foreign to US | 0.64% |\n",
    "| conveyance_id_qualifier | String | Designation of International Martitime Organization ship ID number | 100% |\n",
    "| conveyance_id | String | IMO ID | 100% |\n",
    "| in_bond_entry_type | String | Type for in-bond merchandise in shipment | 9.4% |\n",
    "| mode_of_transportation | String | Container the material is being transported | 100% |\n",
    "| secondary_notify_party_N | String | Shipping company to notify as secondary 1-10 | [56.65%, 6.48%, 0.4%, ... 0%] |\n",
    "| actual_arrival_date | String | Real date of arrival | 100% |\n",
    "\n",
    "##### consignee\n",
    "| Column | Data Type | Explanation | % non-null 1st file |\n",
    "| ------ | --------- | ----------- | ------------------- |\n",
    "| identifier | int64 | id of manifest shipment | 100% |\n",
    "| consignee_name | String | Name of company receiving manifest items | 99.99% |\n",
    "| consignee_address_1 | String | Top level address | 99.99% |\n",
    "| consignee_address_2 | String | 2nd level address | 87.80% |\n",
    "| consignee_address_3 | String | 3rd level address | 55.05% |\n",
    "| consignee_address_4  | String | 4th level address | 11.52% |\n",
    "| city | String | City name | 22.07% |\n",
    "| state_province | String | 2-digit state or province code | 19.35% |\n",
    "| zip_code | String | Address zip code | 19.41% |\n",
    "| country_code | String | 2-digit country code | 20.36% |\n",
    "| contact_name | String | Name of contact | 0.014% |\n",
    "| comm_number_qualifier | String | Type of communication used for comm_number | 18.01% |\n",
    "| comm_number | String | Communication number/website/email | 18% |\n",
    "\n",
    "##### shipper\n",
    "| Column | Data Type | Explanation | % non-null 1st file |\n",
    "| ------ | --------- | ----------- | ------------------- |\n",
    "| identifier | int64 | id of manifest shipment | 100% |\n",
    "| shipper_party_name | String | Name of company shipping manifest items | 99.99% |\n",
    "| shipper_party_address_1 | String | Top level address | 99.99% |\n",
    "| shipper_party_address_2 | String | 2nd level address | 91.55% |\n",
    "| shipper_party_address_3 | String | 3rd level address | 62.89% |\n",
    "| shipper_party_address_4 | String | 4th level address | 14.36% |\n",
    "| city | String | City name | 22.19% |\n",
    "| state_province | String | 2-digit state or province code | 8.61% |\n",
    "| zip_code | String | Zip code | 12.32% |\n",
    "| country_code | String | 2-digit country code | 21.21% |\n",
    "| contact_name | String | Name of company contact | 1.50% |\n",
    "| comm_number_qualifier | String | Type of communication used for comm_number | 17.89% |\n",
    "| comm_number | String | Communication number/website/email | 17.86% |"
   ]
  },
  {
   "cell_type": "code",
   "execution_count": null,
   "metadata": {},
   "outputs": [],
   "source": [
    "######################################"
   ]
  },
  {
   "cell_type": "markdown",
   "metadata": {},
   "source": [
    "## Curated Raw Data Info"
   ]
  },
  {
   "cell_type": "markdown",
   "metadata": {},
   "source": [
    "Here are the columns I determined pertinent to my use case from the tables"
   ]
  },
  {
   "cell_type": "markdown",
   "metadata": {},
   "source": [
    "#### Selected Columns"
   ]
  },
  {
   "cell_type": "markdown",
   "metadata": {},
   "source": [
    "##### Header\n",
    "| Column | Data Type | Explanation | % non-null in 1st file |\n",
    "| ------ | --------- | ----------- | ---------------------- |\n",
    "| identifier | int64 | id of manifest shipment | 100% |\n",
    "| carrier_code | String | Standard Carrier Alpha Code (SCAC) to identify Vessel Operating Common Carriers (VOCC) | 100% |\n",
    "| vessel_country_code | String | Carrier vessel country of origin | 99.99% |\n",
    "| vessel_name | String | Ship's name | 100% |\n",
    "| estimated_arrival_date | String | Time given as estimated shipment arrival | 100% |\n",
    "| actual_arrival_date | String | Real date of arrival | 100% |\n",
    "\n",
    "##### Consignee\n",
    "(Addresses in need of cleaning, non-uniform)\n",
    "| Column | Data Type | Explanation | % non-null 1st file |\n",
    "| ------ | --------- | ----------- | ------------------- |\n",
    "| identifier | int64 | id of manifest shipment | 100% |\n",
    "| consignee_name | String | Name of company receiving manifest items | 99.99% |\n",
    "| consignee_address_1 | String | Top level address | 99.99% |\n",
    "| consignee_address_2 | String | 2nd level address | 87.80% |\n",
    "| consignee_address_3 | String | 3rd level address | 55.05% |\n",
    "| consignee_address_4  | String | 4th level address | 11.52% |\n",
    "| country_code | String | 2-digit country code | 20.36% |\n",
    "\n",
    "##### shipper\n",
    "(Addresses in need of cleaning, non-uniform)\n",
    "| Column | Data Type | Explanation | % non-null 1st file |\n",
    "| ------ | --------- | ----------- | ------------------- |\n",
    "| identifier | int64 | id of manifest shipment | 100% |\n",
    "| shipper_party_name | String | Name of company shipping manifest items | 99.99% |\n",
    "| shipper_party_address_1 | String | Top level address | 99.99% |\n",
    "| shipper_party_address_2 | String | 2nd level address | 91.55% |\n",
    "| shipper_party_address_3 | String | 3rd level address | 62.89% |\n",
    "| shipper_party_address_4 | String | 4th level address | 14.36% |\n",
    "| country_code | String | 2-digit country code | 21.21% |"
   ]
  },
  {
   "cell_type": "code",
   "execution_count": null,
   "metadata": {},
   "outputs": [],
   "source": [
    "#############################################"
   ]
  },
  {
   "cell_type": "markdown",
   "metadata": {},
   "source": []
  },
  {
   "cell_type": "markdown",
   "metadata": {},
   "source": [
    "## Preliminary ERD"
   ]
  },
  {
   "cell_type": "markdown",
   "metadata": {},
   "source": [
    "<a href='https://app.quickdatabasediagrams.com/#/d/I1yY7B'>Quick Database Diagrams Link</a>\n"
   ]
  },
  {
   "cell_type": "markdown",
   "metadata": {},
   "source": [
    "![ERD](/Users/jesseputnam/cs-learning/skillstorm/project01/erd.png)"
   ]
  },
  {
   "cell_type": "markdown",
   "metadata": {},
   "source": [
    "#### Written Description of ERD\n",
    "\n",
    "I will have four tables. The country table will require outside sources for converting country code to country name."
   ]
  },
  {
   "cell_type": "code",
   "execution_count": null,
   "metadata": {
    "vscode": {
     "languageId": "sql"
    }
   },
   "outputs": [],
   "source": [
    "country\n",
    "-\n",
    "country_code CHAR(2) PRIMARY KEY\n",
    "country_name VARCHAR(50)\n",
    "region VARCHAR(20)\n",
    "sub_region VARCHAR(20)\n",
    "\n",
    "shipper\n",
    "-\n",
    "shipper_id INT PRIMARY KEY IDENTITY\n",
    "shipper_name VARCHAR(100)\n",
    "country_code CHAR(2) FOREIGN KEY REFERENCES country(country_code)\n",
    "\n",
    "consignee\n",
    "-\n",
    "consignee_id INT PRIMARY KEY IDENTITY\n",
    "consignee_name VARCHAR(100)\n",
    "country_code CHAR(2) FOREIGN KEY REFERENCES country(country_code)\n",
    "\n",
    "shipment\n",
    "-\n",
    "shipment_id INT PRIMARY KEY\n",
    "carrier_code VARCHAR(4)\n",
    "vessel_name VARCHAR(25)\n",
    "vessel_country CHAR(2) FOREIGN KEY REFERENCES country(country_code)\n",
    "port_of_unlading VARCHAR(100)\n",
    "foreign_port_of_lading VARCHAR(100)\n",
    "estimated_arrival_date DATETIME\n",
    "actual_arrival_date DATETIME\n",
    "shipper_id INT FOREIGN KEY REFERENCES shipper(shipper_id)\n",
    "consignee_id INT FOREIGN KEY REFERENCES consignee(consignee_id)"
   ]
  },
  {
   "cell_type": "code",
   "execution_count": null,
   "metadata": {},
   "outputs": [],
   "source": [
    "###############################################"
   ]
  },
  {
   "cell_type": "markdown",
   "metadata": {},
   "source": [
    "## Data Cleaning Outline/notes"
   ]
  },
  {
   "cell_type": "markdown",
   "metadata": {},
   "source": [
    "#### Header\n",
    "- Cleaning\n",
    "    - header.estimate_arrival_date & header.actual_arrival_date will need to be converted to datetime\n",
    "    - vessel_country_code will need outside reference for full country name\n",
    "        - another table to designate continents?\n",
    "- Null Values\n",
    "    - The only null values of true significance would be identifier, estimated and actual arrival times. If any of those are missing, I will have to drop them from the data set.\n",
    "    - Of secondary importance would be vessel_country_code, carrier_code for my secondary questions. I will keep them in my data for the primary question, but drop them from those\n"
   ]
  },
  {
   "cell_type": "markdown",
   "metadata": {},
   "source": [
    "#### Shipper & Consignee\n",
    "- Cleaning\n",
    "    - shipper_part_address1...4, city, state_province, zip_code, country_code\n",
    "        - All will need a lot of cleaning to standardize\n",
    "        - Work will include conditionals looking at the part_address_1-4\n",
    "            - 1 generally is for street address, but can also be C/O or Attn\n",
    "            - Will still need to drill down on the scenarios involved\n",
    "            - At 22% and 21% non-null entries, state_province and country_code will be useful first-checks, but not statistically enough\n",
    "        - Final product will hopefully split into 4 columns:\n",
    "            - address, city_province, zip_code, country\n",
    "- Null Values\n",
    "    - identifier is the primary null value to deal with, and must drop the record if so\n",
    "    - shipper/consignee name erroneous values will also have to be dropped when considering the connected questions, but included for region specific data if region data is present\n",
    "    - region data will similarly force records to be dropped when considering the region specific questions"
   ]
  }
 ],
 "metadata": {
  "kernelspec": {
   "display_name": "Python 3",
   "language": "python",
   "name": "python3"
  },
  "language_info": {
   "name": "python",
   "version": "3.11.5"
  },
  "orig_nbformat": 4
 },
 "nbformat": 4,
 "nbformat_minor": 2
}
