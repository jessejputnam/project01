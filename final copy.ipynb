{
 "cells": [
  {
   "cell_type": "markdown",
   "metadata": {},
   "source": [
    "# Proposal"
   ]
  },
  {
   "cell_type": "markdown",
   "metadata": {},
   "source": [
    "## Use Case"
   ]
  },
  {
   "cell_type": "markdown",
   "metadata": {},
   "source": [
    "#### Big Question\n",
    "- Which shippers are most/least reliable (arrival time delta between estimated and actual)?\n",
    "\n",
    "#### Sub Questions\n",
    "- Which are the most reliable shippers per country/region/subregion\n",
    "- Which carrier companies are the most reliable?\n",
    "- What, if any, were the reliability changes over the years?\n",
    "    - How did covid affect reliability metrics of shipment times?\n",
    "- Which consignees chose their shippers wisest?"
   ]
  },
  {
   "cell_type": "markdown",
   "metadata": {},
   "source": [
    "## Raw Denormalized Tables"
   ]
  },
  {
   "cell_type": "markdown",
   "metadata": {},
   "source": [
    "##### Header\n",
    "| Column | Data Type | Explanation | % non-null in 1st file |\n",
    "| ------ | --------- | ----------- | ---------------------- |\n",
    "| identifier | int64 | id of manifest shipment | 100% |\n",
    "| carrier_code | String | Standard Carrier Alpha Code (SCAC) to identify Vessel Operating Common Carriers (VOCC) | 100% |\n",
    "| vessel_country_code | String | Carrier vessel country of origin | 99.99% |\n",
    "| vessel_name | String | Ship's name | 100% |\n",
    "| estimated_arrival_date | String | Time given as estimated shipment arrival | 100% |\n",
    "| actual_arrival_date | String | Real date of arrival | 100% |\n",
    "\n",
    "##### Consignee\n",
    "| Column | Data Type | Explanation | % non-null 1st file |\n",
    "| ------ | --------- | ----------- | ------------------- |\n",
    "| identifier | int64 | id of manifest shipment | 100% |\n",
    "| consignee_name | String | Name of company receiving manifest items | 99.99% |\n",
    "| consignee_address_1 | String | Top level address | 99.99% |\n",
    "| consignee_address_2 | String | 2nd level address | 87.80% |\n",
    "| consignee_address_3 | String | 3rd level address | 55.05% |\n",
    "| consignee_address_4  | String | 4th level address | 11.52% |\n",
    "| country_code | String | 2-digit country code | 20.36% |\n",
    "\n",
    "##### shipper\n",
    "| Column | Data Type | Explanation | % non-null 1st file |\n",
    "| ------ | --------- | ----------- | ------------------- |\n",
    "| identifier | int64 | id of manifest shipment | 100% |\n",
    "| shipper_party_name | String | Name of company shipping manifest items | 99.99% |\n",
    "| shipper_party_address_1 | String | Top level address | 99.99% |\n",
    "| shipper_party_address_2 | String | 2nd level address | 91.55% |\n",
    "| shipper_party_address_3 | String | 3rd level address | 62.89% |\n",
    "| shipper_party_address_4 | String | 4th level address | 14.36% |\n",
    "| country_code | String | 2-digit country code | 21.21% |"
   ]
  },
  {
   "cell_type": "markdown",
   "metadata": {},
   "source": [
    "## Proposed Normalized Schema"
   ]
  },
  {
   "cell_type": "markdown",
   "metadata": {},
   "source": [
    "![ERD](/Users/jesseputnam/cs-learning/skillstorm/project01/erd.png)"
   ]
  },
  {
   "cell_type": "markdown",
   "metadata": {},
   "source": [
    "# ETL Pipeline"
   ]
  },
  {
   "cell_type": "code",
   "execution_count": 1,
   "metadata": {},
   "outputs": [],
   "source": [
    "import pandas as pd\n",
    "\n",
    "from lib.utils import get_id_nums, clean_row, remove_incorrect_codes"
   ]
  },
  {
   "cell_type": "markdown",
   "metadata": {},
   "source": [
    "## Set up countries table"
   ]
  },
  {
   "cell_type": "markdown",
   "metadata": {},
   "source": [
    "- Get table of countries with alpha-2 code that includes region from repository\n",
    "    - https://github.com/lukes/ISO-3166-Countries-with-Regional-Codes"
   ]
  },
  {
   "cell_type": "code",
   "execution_count": 2,
   "metadata": {},
   "outputs": [],
   "source": [
    "countries_cols = ['name', 'alpha-2', 'region', 'sub-region']\n",
    "countries = pd.read_csv('/Users/jesseputnam/cs-learning/skillstorm/project01/data/all.csv', usecols=countries_cols, keep_default_na=False)\n",
    "\n",
    "extra_codes = pd.DataFrame(\n",
    "    {'name': ['Czechia', 'Netherland Antilles', 'Germany', 'European Union'], \n",
    "    'alpha-2': ['XC', 'AN', 'DD', 'EU'], \n",
    "    'region': ['Europe', 'Americas', 'Europe', 'Europe'], \n",
    "    'sub-region': ['Eastern Europe', 'Latin America and the Caribbean', 'Western Europe', 'Western Europe']}\n",
    "    )\n",
    "\n",
    "extra_codes\n",
    "countries = pd.concat([countries, extra_codes], ignore_index=True, keys=['alpha-2', 'name'])\n",
    "\n",
    "# Change countries index column to be alpha-2 values and rename to id\n",
    "countries.set_index('alpha-2', inplace=True)\n",
    "countries.index.name = 'id'\n",
    "countries.sort_index(inplace=True)\n",
    "\n",
    "# Create country code set with O(1) lookup for table cleaning\n",
    "alpha_2_set = set(countries.index)\n",
    "\n",
    "# Create country name dictionary with O(1) lookup for table cleaning\n",
    "country_dict = {x[1].upper(): x[0] for x in countries.itertuples()}\n",
    "\n",
    "# Add some statistically siginificant outliers, including common 2 common 'typos'\n",
    "country_dict['TAIWAN'] = 'TW'\n",
    "country_dict['SOUTH KOREA'] = 'KR'\n",
    "country_dict['SHANGHAI CN'] = 'CN'\n",
    "country_dict['SHANGHAI'] = 'CN'\n",
    "country_dict['SHANGHAI .'] = 'CN'\n",
    "country_dict['HONG KONG .'] = 'CN'\n",
    "country_dict['TAIPEI .'] = 'TW'\n",
    "country_dict['USA'] = 'US'\n",
    "country_dict['U.S.A.'] = 'US'"
   ]
  },
  {
   "cell_type": "markdown",
   "metadata": {},
   "source": [
    "- Convert altered countries dataframe to csv"
   ]
  },
  {
   "cell_type": "code",
   "execution_count": 20,
   "metadata": {},
   "outputs": [],
   "source": [
    "countries_sql_path = '/Users/jesseputnam/cs-learning/skillstorm/project01/data/sql/countries.csv'\n",
    "countries.to_csv(countries_sql_path, mode='w')\n"
   ]
  },
  {
   "cell_type": "markdown",
   "metadata": {},
   "source": [
    "## Shipper/Consignee"
   ]
  },
  {
   "cell_type": "markdown",
   "metadata": {},
   "source": [
    "- Identify the necessary columns"
   ]
  },
  {
   "cell_type": "code",
   "execution_count": 6,
   "metadata": {},
   "outputs": [],
   "source": [
    "# Choose columns to keep\n",
    "shipper_cols = ['identifier', 'shipper_party_name', 'shipper_party_address_1', 'shipper_party_address_2', 'shipper_party_address_3', 'shipper_party_address_4', 'country_code']\n",
    "\n",
    "shipper_final_path = '/Users/jesseputnam/cs-learning/skillstorm/project01/data/final/shippers_clean.csv'"
   ]
  },
  {
   "cell_type": "markdown",
   "metadata": {},
   "source": [
    "- Read CSVs to DataFrames with only necessary columns"
   ]
  },
  {
   "cell_type": "code",
   "execution_count": 4,
   "metadata": {},
   "outputs": [],
   "source": [
    "shipper_0 = pd.read_csv('/Users/jesseputnam/cs-learning/skillstorm/project01/data/2018/shipper_2018_part_0.csv', usecols=shipper_cols)\n",
    "shipper_1 = pd.read_csv('/Users/jesseputnam/cs-learning/skillstorm/project01/data/2018/shipper_2018_part_1.csv', usecols=shipper_cols)\n",
    "shipper_2 = pd.read_csv('/Users/jesseputnam/cs-learning/skillstorm/project01/data/2019/shipper_2019_part_0.csv', usecols=shipper_cols)\n",
    "shipper_3 = pd.read_csv('/Users/jesseputnam/cs-learning/skillstorm/project01/data/2019/shipper_2019_part_1.csv', usecols=shipper_cols)\n",
    "shipper_4 = pd.read_csv('/Users/jesseputnam/cs-learning/skillstorm/project01/data/2020/shipper_2020_part_0.csv', usecols=shipper_cols)\n",
    "shipper_5 = pd.read_csv('/Users/jesseputnam/cs-learning/skillstorm/project01/data/2020/shipper_2020_part_1.csv', usecols=shipper_cols)"
   ]
  },
  {
   "cell_type": "markdown",
   "metadata": {},
   "source": [
    "- Concatenate shippers DataFrames to single DataFrame"
   ]
  },
  {
   "cell_type": "code",
   "execution_count": 6,
   "metadata": {},
   "outputs": [],
   "source": [
    "shippers = pd.concat([shipper_0, shipper_1, shipper_2, shipper_3, shipper_4, shipper_5], ignore_index=True)"
   ]
  },
  {
   "cell_type": "code",
   "execution_count": 8,
   "metadata": {},
   "outputs": [],
   "source": [
    "# Replace NaN in name with Unknown\n",
    "shippers['shipper_party_name'].fillna('N/A', inplace=True)"
   ]
  },
  {
   "cell_type": "markdown",
   "metadata": {},
   "source": [
    "- Clean shipper rows and remove remaining unnecessary columns - (see utils.py for **CLEAN_ROW** function)"
   ]
  },
  {
   "cell_type": "code",
   "execution_count": 9,
   "metadata": {},
   "outputs": [],
   "source": [
    "shippers_clean = shippers.apply(lambda row: clean_row(row, 'shipper_party', alpha_2_set, country_dict), axis=1)\n",
    "shippers_clean = shippers_clean[['identifier', 'shipper_party_name', 'country_code']]"
   ]
  },
  {
   "cell_type": "markdown",
   "metadata": {},
   "source": [
    "- **Result:** out of 40,240,366 values\n",
    "\n",
    "\n",
    "|  | Before Cleaning | After Cleaning |\n",
    "| - | - | - |\n",
    "| country_codes #| 9,911,774 | 13,100,153| \n",
    "| country_codes %| 24.6% | 32.55% |"
   ]
  },
  {
   "cell_type": "markdown",
   "metadata": {},
   "source": [
    "- Create shipper id column and map IDs by name - (see utils.py for **GET_ID_NUMS** function)"
   ]
  },
  {
   "cell_type": "code",
   "execution_count": 13,
   "metadata": {},
   "outputs": [],
   "source": [
    "shipper_id_dict = get_id_nums(shippers_clean['shipper_party_name'])\n",
    "shippers_clean['shipper_id'] = shippers_clean['shipper_party_name'].map(shipper_id_dict)"
   ]
  },
  {
   "cell_type": "markdown",
   "metadata": {},
   "source": [
    "- Write cleaned data to CSV (time consuming process -- no mistakes)"
   ]
  },
  {
   "cell_type": "code",
   "execution_count": 16,
   "metadata": {},
   "outputs": [],
   "source": [
    "shippers_clean.to_csv(shipper_final_path, mode='w')"
   ]
  },
  {
   "cell_type": "markdown",
   "metadata": {},
   "source": [
    "## Header"
   ]
  },
  {
   "cell_type": "markdown",
   "metadata": {},
   "source": [
    "- Identify necessary columns"
   ]
  },
  {
   "cell_type": "code",
   "execution_count": 44,
   "metadata": {},
   "outputs": [],
   "source": [
    "header_cols = ['identifier', 'carrier_code', 'vessel_country_code', 'vessel_name', 'estimated_arrival_date','actual_arrival_date']\n",
    "header_final_path = '/Users/jesseputnam/cs-learning/skillstorm/project01/data/final/header_clean.csv'"
   ]
  },
  {
   "cell_type": "markdown",
   "metadata": {},
   "source": [
    "- Read header CSV files"
   ]
  },
  {
   "cell_type": "code",
   "execution_count": 45,
   "metadata": {},
   "outputs": [],
   "source": [
    "header_0 = pd.read_csv('/Users/jesseputnam/cs-learning/skillstorm/project01/data/2018/header_2018_part_0.csv', usecols=header_cols)\n",
    "header_1 = pd.read_csv('/Users/jesseputnam/cs-learning/skillstorm/project01/data/2018/header_2018_part_1.csv', usecols=header_cols)\n",
    "header_2 = pd.read_csv('/Users/jesseputnam/cs-learning/skillstorm/project01/data/2018/header_2018_part_2.csv', usecols=header_cols)\n",
    "header_3 = pd.read_csv('/Users/jesseputnam/cs-learning/skillstorm/project01/data/2018/header_2018_part_3.csv', usecols=header_cols)\n",
    "header_4 = pd.read_csv('/Users/jesseputnam/cs-learning/skillstorm/project01/data/2019/header_2019_part_0.csv', usecols=header_cols)\n",
    "header_5 = pd.read_csv('/Users/jesseputnam/cs-learning/skillstorm/project01/data/2019/header_2019_part_1.csv', usecols=header_cols)\n",
    "header_6 = pd.read_csv('/Users/jesseputnam/cs-learning/skillstorm/project01/data/2019/header_2019_part_2.csv', usecols=header_cols)\n",
    "header_7 = pd.read_csv('/Users/jesseputnam/cs-learning/skillstorm/project01/data/2019/header_2019_part_3.csv', usecols=header_cols)\n",
    "header_8 = pd.read_csv('/Users/jesseputnam/cs-learning/skillstorm/project01/data/2020/header_2020_part_0.csv', usecols=header_cols)\n",
    "header_9 = pd.read_csv('/Users/jesseputnam/cs-learning/skillstorm/project01/data/2020/header_2020_part_1.csv', usecols=header_cols)\n",
    "header_10 = pd.read_csv('/Users/jesseputnam/cs-learning/skillstorm/project01/data/2020/header_2020_part_2.csv', usecols=header_cols)\n"
   ]
  },
  {
   "cell_type": "markdown",
   "metadata": {},
   "source": [
    "- Concat to a single DataFrame"
   ]
  },
  {
   "cell_type": "code",
   "execution_count": 46,
   "metadata": {},
   "outputs": [],
   "source": [
    "headers = pd.concat([header_0, header_1, header_2, header_3, header_4, header_5, header_6, header_7, header_8, header_9, header_10], ignore_index=True)"
   ]
  },
  {
   "cell_type": "markdown",
   "metadata": {},
   "source": [
    "- Remove erroneous or unknown country codes"
   ]
  },
  {
   "cell_type": "code",
   "execution_count": 51,
   "metadata": {},
   "outputs": [],
   "source": [
    "headers['vessel_country_code'] = headers['vessel_country_code'].apply(lambda row: remove_incorrect_codes(row, alpha_2_set))"
   ]
  },
  {
   "cell_type": "markdown",
   "metadata": {},
   "source": [
    "- Merge header with consignee and shipper on IDs only"
   ]
  },
  {
   "cell_type": "code",
   "execution_count": 97,
   "metadata": {},
   "outputs": [],
   "source": [
    "## Merge on identifier, adding just the IDs for shipper and consignee\n",
    "headers_full = headers.merge(shippers_clean[['identifier', 'shipper_id']], on='identifier', how='inner')\n",
    "headers_full = headers_full.merge(consignees_clean[['identifier', 'consignee_id']], on='identifier', how='inner')"
   ]
  },
  {
   "cell_type": "code",
   "execution_count": 100,
   "metadata": {},
   "outputs": [
    {
     "data": {
      "text/html": [
       "<div>\n",
       "<style scoped>\n",
       "    .dataframe tbody tr th:only-of-type {\n",
       "        vertical-align: middle;\n",
       "    }\n",
       "\n",
       "    .dataframe tbody tr th {\n",
       "        vertical-align: top;\n",
       "    }\n",
       "\n",
       "    .dataframe thead th {\n",
       "        text-align: right;\n",
       "    }\n",
       "</style>\n",
       "<table border=\"1\" class=\"dataframe\">\n",
       "  <thead>\n",
       "    <tr style=\"text-align: right;\">\n",
       "      <th></th>\n",
       "      <th>identifier</th>\n",
       "      <th>carrier_code</th>\n",
       "      <th>vessel_country_code</th>\n",
       "      <th>vessel_name</th>\n",
       "      <th>estimated_arrival_date</th>\n",
       "      <th>actual_arrival_date</th>\n",
       "      <th>shipper_id</th>\n",
       "      <th>consignee_id</th>\n",
       "    </tr>\n",
       "  </thead>\n",
       "  <tbody>\n",
       "    <tr>\n",
       "      <th>0</th>\n",
       "      <td>201801010</td>\n",
       "      <td>DFDS</td>\n",
       "      <td>GB</td>\n",
       "      <td>EVER SIGMA</td>\n",
       "      <td>2017-02-14</td>\n",
       "      <td>2017-02-15</td>\n",
       "      <td>0</td>\n",
       "      <td>0</td>\n",
       "    </tr>\n",
       "    <tr>\n",
       "      <th>1</th>\n",
       "      <td>201801011</td>\n",
       "      <td>DFDS</td>\n",
       "      <td>GB</td>\n",
       "      <td>EVER SIGMA</td>\n",
       "      <td>2017-02-14</td>\n",
       "      <td>2017-02-15</td>\n",
       "      <td>1</td>\n",
       "      <td>1</td>\n",
       "    </tr>\n",
       "    <tr>\n",
       "      <th>2</th>\n",
       "      <td>201801012</td>\n",
       "      <td>DFDS</td>\n",
       "      <td>GB</td>\n",
       "      <td>EVER SIGMA</td>\n",
       "      <td>2017-02-14</td>\n",
       "      <td>2017-02-15</td>\n",
       "      <td>2</td>\n",
       "      <td>0</td>\n",
       "    </tr>\n",
       "    <tr>\n",
       "      <th>3</th>\n",
       "      <td>201801013</td>\n",
       "      <td>DFDS</td>\n",
       "      <td>GB</td>\n",
       "      <td>EVER SIGMA</td>\n",
       "      <td>2017-02-14</td>\n",
       "      <td>2017-02-15</td>\n",
       "      <td>3</td>\n",
       "      <td>2</td>\n",
       "    </tr>\n",
       "    <tr>\n",
       "      <th>4</th>\n",
       "      <td>201801014</td>\n",
       "      <td>DFDS</td>\n",
       "      <td>GB</td>\n",
       "      <td>EVER SIGMA</td>\n",
       "      <td>2017-02-14</td>\n",
       "      <td>2017-02-15</td>\n",
       "      <td>4</td>\n",
       "      <td>3</td>\n",
       "    </tr>\n",
       "    <tr>\n",
       "      <th>...</th>\n",
       "      <td>...</td>\n",
       "      <td>...</td>\n",
       "      <td>...</td>\n",
       "      <td>...</td>\n",
       "      <td>...</td>\n",
       "      <td>...</td>\n",
       "      <td>...</td>\n",
       "      <td>...</td>\n",
       "    </tr>\n",
       "    <tr>\n",
       "      <th>40972605</th>\n",
       "      <td>2020092382683</td>\n",
       "      <td>OERT</td>\n",
       "      <td>LR</td>\n",
       "      <td>DS KOI</td>\n",
       "      <td>2020-09-06</td>\n",
       "      <td>2020-09-08</td>\n",
       "      <td>1714562</td>\n",
       "      <td>55123</td>\n",
       "    </tr>\n",
       "    <tr>\n",
       "      <th>40972606</th>\n",
       "      <td>2020092382684</td>\n",
       "      <td>FEVM</td>\n",
       "      <td>US</td>\n",
       "      <td>SEASPAN GANGES</td>\n",
       "      <td>2020-09-08</td>\n",
       "      <td>2020-09-11</td>\n",
       "      <td>1743310</td>\n",
       "      <td>2260669</td>\n",
       "    </tr>\n",
       "    <tr>\n",
       "      <th>40972607</th>\n",
       "      <td>2020092382685</td>\n",
       "      <td>MOSJ</td>\n",
       "      <td>PA</td>\n",
       "      <td>COSCO AMERICA</td>\n",
       "      <td>2020-07-19</td>\n",
       "      <td>2020-07-20</td>\n",
       "      <td>269749</td>\n",
       "      <td>229332</td>\n",
       "    </tr>\n",
       "    <tr>\n",
       "      <th>40972608</th>\n",
       "      <td>2020092382686</td>\n",
       "      <td>MOSJ</td>\n",
       "      <td>PA</td>\n",
       "      <td>COSCO AMERICA</td>\n",
       "      <td>2020-07-19</td>\n",
       "      <td>2020-07-20</td>\n",
       "      <td>269749</td>\n",
       "      <td>229332</td>\n",
       "    </tr>\n",
       "    <tr>\n",
       "      <th>40972609</th>\n",
       "      <td>2020092382688</td>\n",
       "      <td>HLCU</td>\n",
       "      <td>PA</td>\n",
       "      <td>NYK LAURA</td>\n",
       "      <td>2020-09-29</td>\n",
       "      <td>2020-09-22</td>\n",
       "      <td>1408247</td>\n",
       "      <td>56363</td>\n",
       "    </tr>\n",
       "  </tbody>\n",
       "</table>\n",
       "<p>40972610 rows × 8 columns</p>\n",
       "</div>"
      ],
      "text/plain": [
       "             identifier carrier_code vessel_country_code     vessel_name  \\\n",
       "0             201801010         DFDS                  GB      EVER SIGMA   \n",
       "1             201801011         DFDS                  GB      EVER SIGMA   \n",
       "2             201801012         DFDS                  GB      EVER SIGMA   \n",
       "3             201801013         DFDS                  GB      EVER SIGMA   \n",
       "4             201801014         DFDS                  GB      EVER SIGMA   \n",
       "...                 ...          ...                 ...             ...   \n",
       "40972605  2020092382683         OERT                  LR          DS KOI   \n",
       "40972606  2020092382684         FEVM                  US  SEASPAN GANGES   \n",
       "40972607  2020092382685         MOSJ                  PA   COSCO AMERICA   \n",
       "40972608  2020092382686         MOSJ                  PA   COSCO AMERICA   \n",
       "40972609  2020092382688         HLCU                  PA       NYK LAURA   \n",
       "\n",
       "         estimated_arrival_date actual_arrival_date  shipper_id  consignee_id  \n",
       "0                    2017-02-14          2017-02-15           0             0  \n",
       "1                    2017-02-14          2017-02-15           1             1  \n",
       "2                    2017-02-14          2017-02-15           2             0  \n",
       "3                    2017-02-14          2017-02-15           3             2  \n",
       "4                    2017-02-14          2017-02-15           4             3  \n",
       "...                         ...                 ...         ...           ...  \n",
       "40972605             2020-09-06          2020-09-08     1714562         55123  \n",
       "40972606             2020-09-08          2020-09-11     1743310       2260669  \n",
       "40972607             2020-07-19          2020-07-20      269749        229332  \n",
       "40972608             2020-07-19          2020-07-20      269749        229332  \n",
       "40972609             2020-09-29          2020-09-22     1408247         56363  \n",
       "\n",
       "[40972610 rows x 8 columns]"
      ]
     },
     "execution_count": 100,
     "metadata": {},
     "output_type": "execute_result"
    }
   ],
   "source": [
    "headers_full"
   ]
  },
  {
   "cell_type": "code",
   "execution_count": 99,
   "metadata": {},
   "outputs": [
    {
     "data": {
      "text/html": [
       "<div>\n",
       "<style scoped>\n",
       "    .dataframe tbody tr th:only-of-type {\n",
       "        vertical-align: middle;\n",
       "    }\n",
       "\n",
       "    .dataframe tbody tr th {\n",
       "        vertical-align: top;\n",
       "    }\n",
       "\n",
       "    .dataframe thead th {\n",
       "        text-align: right;\n",
       "    }\n",
       "</style>\n",
       "<table border=\"1\" class=\"dataframe\">\n",
       "  <thead>\n",
       "    <tr style=\"text-align: right;\">\n",
       "      <th></th>\n",
       "      <th>identifier</th>\n",
       "      <th>carrier_code</th>\n",
       "      <th>vessel_country_code</th>\n",
       "      <th>vessel_name</th>\n",
       "      <th>estimated_arrival_date</th>\n",
       "      <th>actual_arrival_date</th>\n",
       "      <th>shipper_id</th>\n",
       "      <th>consignee_id</th>\n",
       "    </tr>\n",
       "  </thead>\n",
       "  <tbody>\n",
       "    <tr>\n",
       "      <th>65839</th>\n",
       "      <td>2018010327496</td>\n",
       "      <td>SEAG</td>\n",
       "      <td>HK</td>\n",
       "      <td>COSCO DEVELOPMENT</td>\n",
       "      <td>2017-12-30</td>\n",
       "      <td>2017-12-30</td>\n",
       "      <td>32931</td>\n",
       "      <td>29064</td>\n",
       "    </tr>\n",
       "    <tr>\n",
       "      <th>65840</th>\n",
       "      <td>2018010327496</td>\n",
       "      <td>SEAG</td>\n",
       "      <td>HK</td>\n",
       "      <td>COSCO DEVELOPMENT</td>\n",
       "      <td>2017-12-30</td>\n",
       "      <td>2017-12-30</td>\n",
       "      <td>32931</td>\n",
       "      <td>29064</td>\n",
       "    </tr>\n",
       "    <tr>\n",
       "      <th>65841</th>\n",
       "      <td>2018010327496</td>\n",
       "      <td>SEAG</td>\n",
       "      <td>HK</td>\n",
       "      <td>COSCO DEVELOPMENT</td>\n",
       "      <td>2017-12-30</td>\n",
       "      <td>2017-12-30</td>\n",
       "      <td>32931</td>\n",
       "      <td>29064</td>\n",
       "    </tr>\n",
       "    <tr>\n",
       "      <th>65842</th>\n",
       "      <td>2018010327496</td>\n",
       "      <td>SEAG</td>\n",
       "      <td>HK</td>\n",
       "      <td>COSCO DEVELOPMENT</td>\n",
       "      <td>2017-12-30</td>\n",
       "      <td>2017-12-30</td>\n",
       "      <td>32932</td>\n",
       "      <td>29064</td>\n",
       "    </tr>\n",
       "    <tr>\n",
       "      <th>65843</th>\n",
       "      <td>2018010327496</td>\n",
       "      <td>SEAG</td>\n",
       "      <td>HK</td>\n",
       "      <td>COSCO DEVELOPMENT</td>\n",
       "      <td>2017-12-30</td>\n",
       "      <td>2017-12-30</td>\n",
       "      <td>32932</td>\n",
       "      <td>29064</td>\n",
       "    </tr>\n",
       "    <tr>\n",
       "      <th>65844</th>\n",
       "      <td>2018010327496</td>\n",
       "      <td>SEAG</td>\n",
       "      <td>HK</td>\n",
       "      <td>COSCO DEVELOPMENT</td>\n",
       "      <td>2017-12-30</td>\n",
       "      <td>2017-12-30</td>\n",
       "      <td>32932</td>\n",
       "      <td>29064</td>\n",
       "    </tr>\n",
       "    <tr>\n",
       "      <th>65845</th>\n",
       "      <td>2018010327496</td>\n",
       "      <td>SEAG</td>\n",
       "      <td>HK</td>\n",
       "      <td>COSCO DEVELOPMENT</td>\n",
       "      <td>2017-12-30</td>\n",
       "      <td>2017-12-30</td>\n",
       "      <td>32932</td>\n",
       "      <td>29064</td>\n",
       "    </tr>\n",
       "    <tr>\n",
       "      <th>65846</th>\n",
       "      <td>2018010327496</td>\n",
       "      <td>SEAG</td>\n",
       "      <td>HK</td>\n",
       "      <td>COSCO DEVELOPMENT</td>\n",
       "      <td>2017-12-30</td>\n",
       "      <td>2017-12-30</td>\n",
       "      <td>32932</td>\n",
       "      <td>29064</td>\n",
       "    </tr>\n",
       "    <tr>\n",
       "      <th>65847</th>\n",
       "      <td>2018010327496</td>\n",
       "      <td>SEAG</td>\n",
       "      <td>HK</td>\n",
       "      <td>COSCO DEVELOPMENT</td>\n",
       "      <td>2017-12-30</td>\n",
       "      <td>2017-12-30</td>\n",
       "      <td>32932</td>\n",
       "      <td>29064</td>\n",
       "    </tr>\n",
       "  </tbody>\n",
       "</table>\n",
       "</div>"
      ],
      "text/plain": [
       "          identifier carrier_code vessel_country_code        vessel_name  \\\n",
       "65839  2018010327496         SEAG                  HK  COSCO DEVELOPMENT   \n",
       "65840  2018010327496         SEAG                  HK  COSCO DEVELOPMENT   \n",
       "65841  2018010327496         SEAG                  HK  COSCO DEVELOPMENT   \n",
       "65842  2018010327496         SEAG                  HK  COSCO DEVELOPMENT   \n",
       "65843  2018010327496         SEAG                  HK  COSCO DEVELOPMENT   \n",
       "65844  2018010327496         SEAG                  HK  COSCO DEVELOPMENT   \n",
       "65845  2018010327496         SEAG                  HK  COSCO DEVELOPMENT   \n",
       "65846  2018010327496         SEAG                  HK  COSCO DEVELOPMENT   \n",
       "65847  2018010327496         SEAG                  HK  COSCO DEVELOPMENT   \n",
       "\n",
       "      estimated_arrival_date actual_arrival_date  shipper_id  consignee_id  \n",
       "65839             2017-12-30          2017-12-30       32931         29064  \n",
       "65840             2017-12-30          2017-12-30       32931         29064  \n",
       "65841             2017-12-30          2017-12-30       32931         29064  \n",
       "65842             2017-12-30          2017-12-30       32932         29064  \n",
       "65843             2017-12-30          2017-12-30       32932         29064  \n",
       "65844             2017-12-30          2017-12-30       32932         29064  \n",
       "65845             2017-12-30          2017-12-30       32932         29064  \n",
       "65846             2017-12-30          2017-12-30       32932         29064  \n",
       "65847             2017-12-30          2017-12-30       32932         29064  "
      ]
     },
     "execution_count": 99,
     "metadata": {},
     "output_type": "execute_result"
    }
   ],
   "source": [
    "headers_full[headers_full['identifier'] == 2018010327496]"
   ]
  },
  {
   "cell_type": "code",
   "execution_count": 92,
   "metadata": {},
   "outputs": [
    {
     "data": {
      "text/html": [
       "<div>\n",
       "<style scoped>\n",
       "    .dataframe tbody tr th:only-of-type {\n",
       "        vertical-align: middle;\n",
       "    }\n",
       "\n",
       "    .dataframe tbody tr th {\n",
       "        vertical-align: top;\n",
       "    }\n",
       "\n",
       "    .dataframe thead th {\n",
       "        text-align: right;\n",
       "    }\n",
       "</style>\n",
       "<table border=\"1\" class=\"dataframe\">\n",
       "  <thead>\n",
       "    <tr style=\"text-align: right;\">\n",
       "      <th></th>\n",
       "      <th>identifier</th>\n",
       "      <th>carrier_code</th>\n",
       "      <th>vessel_country_code</th>\n",
       "      <th>vessel_name</th>\n",
       "      <th>estimated_arrival_date</th>\n",
       "      <th>actual_arrival_date</th>\n",
       "    </tr>\n",
       "  </thead>\n",
       "  <tbody>\n",
       "    <tr>\n",
       "      <th>89642</th>\n",
       "      <td>2018010327496</td>\n",
       "      <td>SEAG</td>\n",
       "      <td>HK</td>\n",
       "      <td>COSCO DEVELOPMENT</td>\n",
       "      <td>2017-12-30</td>\n",
       "      <td>2017-12-30</td>\n",
       "    </tr>\n",
       "  </tbody>\n",
       "</table>\n",
       "</div>"
      ],
      "text/plain": [
       "          identifier carrier_code vessel_country_code        vessel_name  \\\n",
       "89642  2018010327496         SEAG                  HK  COSCO DEVELOPMENT   \n",
       "\n",
       "      estimated_arrival_date actual_arrival_date  \n",
       "89642             2017-12-30          2017-12-30  "
      ]
     },
     "execution_count": 92,
     "metadata": {},
     "output_type": "execute_result"
    }
   ],
   "source": [
    "headers[headers['identifier'] == 2018010327496]"
   ]
  },
  {
   "cell_type": "code",
   "execution_count": 93,
   "metadata": {},
   "outputs": [
    {
     "data": {
      "text/plain": [
       "325292088"
      ]
     },
     "execution_count": 93,
     "metadata": {},
     "output_type": "execute_result"
    }
   ],
   "source": [
    "headers.size"
   ]
  },
  {
   "cell_type": "code",
   "execution_count": 98,
   "metadata": {},
   "outputs": [
    {
     "data": {
      "text/plain": [
       "327780880"
      ]
     },
     "execution_count": 98,
     "metadata": {},
     "output_type": "execute_result"
    }
   ],
   "source": [
    "headers_full.size"
   ]
  },
  {
   "cell_type": "code",
   "execution_count": 96,
   "metadata": {},
   "outputs": [
    {
     "data": {
      "text/html": [
       "<div>\n",
       "<style scoped>\n",
       "    .dataframe tbody tr th:only-of-type {\n",
       "        vertical-align: middle;\n",
       "    }\n",
       "\n",
       "    .dataframe tbody tr th {\n",
       "        vertical-align: top;\n",
       "    }\n",
       "\n",
       "    .dataframe thead th {\n",
       "        text-align: right;\n",
       "    }\n",
       "</style>\n",
       "<table border=\"1\" class=\"dataframe\">\n",
       "  <thead>\n",
       "    <tr style=\"text-align: right;\">\n",
       "      <th></th>\n",
       "      <th>identifier</th>\n",
       "      <th>shipper_party_name</th>\n",
       "      <th>country_code</th>\n",
       "      <th>shipper_id</th>\n",
       "    </tr>\n",
       "  </thead>\n",
       "  <tbody>\n",
       "    <tr>\n",
       "      <th>64830</th>\n",
       "      <td>2018010327496</td>\n",
       "      <td>NINGBO HEMING IMPORT AND EXPORT</td>\n",
       "      <td>NaN</td>\n",
       "      <td>32931</td>\n",
       "    </tr>\n",
       "    <tr>\n",
       "      <th>64831</th>\n",
       "      <td>2018010327496</td>\n",
       "      <td>SHAOXING SHANGYU TIANYA PHOTOGRAPHI</td>\n",
       "      <td>NaN</td>\n",
       "      <td>32932</td>\n",
       "    </tr>\n",
       "    <tr>\n",
       "      <th>64832</th>\n",
       "      <td>2018010327496</td>\n",
       "      <td>SHAOXING SHANGYU TIANYA PHOTOGRAPHI</td>\n",
       "      <td>NaN</td>\n",
       "      <td>32932</td>\n",
       "    </tr>\n",
       "  </tbody>\n",
       "</table>\n",
       "</div>"
      ],
      "text/plain": [
       "          identifier                   shipper_party_name country_code  \\\n",
       "64830  2018010327496      NINGBO HEMING IMPORT AND EXPORT          NaN   \n",
       "64831  2018010327496  SHAOXING SHANGYU TIANYA PHOTOGRAPHI          NaN   \n",
       "64832  2018010327496  SHAOXING SHANGYU TIANYA PHOTOGRAPHI          NaN   \n",
       "\n",
       "       shipper_id  \n",
       "64830       32931  \n",
       "64831       32932  \n",
       "64832       32932  "
      ]
     },
     "execution_count": 96,
     "metadata": {},
     "output_type": "execute_result"
    }
   ],
   "source": [
    "shippers_clean[shippers_clean['identifier'] == 2018010327496]"
   ]
  },
  {
   "cell_type": "code",
   "execution_count": 104,
   "metadata": {},
   "outputs": [
    {
     "data": {
      "text/plain": [
       "identifier\n",
       "2019071522115    3\n",
       "2018010327496    3\n",
       "2019021832036    3\n",
       "2018091226571    2\n",
       "2020032728109    2\n",
       "2019032810956    2\n",
       "2020082070417    2\n",
       "2020082070405    2\n",
       "2020032728185    2\n",
       "2020032728227    2\n",
       "2020082070357    2\n",
       "2020082070292    2\n",
       "2018102712160    2\n",
       "2020032728327    2\n",
       "2020032728336    2\n",
       "2019070419873    2\n",
       "2018102712218    2\n",
       "2019070419621    2\n",
       "2020082070195    2\n",
       "2019120631445    2\n",
       "2018080136090    2\n",
       "2018080136089    2\n",
       "2019070419988    2\n",
       "2019070419995    2\n",
       "2018102712319    2\n",
       "2019032810630    2\n",
       "2019032810628    2\n",
       "2018080136061    2\n",
       "2019120631417    2\n",
       "2018080136037    2\n",
       "2019070419623    2\n",
       "2019070419619    2\n",
       "2019070419620    2\n",
       "2018080136606    2\n",
       "2018080136902    2\n",
       "2018080136886    2\n",
       "2018080136880    2\n",
       "2018080136879    2\n",
       "2020032727691    2\n",
       "2018080136825    2\n",
       "2019120632371    2\n",
       "2020032727746    2\n",
       "2018080136786    2\n",
       "2020032727895    2\n",
       "2020082070670    2\n",
       "2018080136613    2\n",
       "2020082070632    2\n",
       "2018080135985    2\n",
       "2018102711873    2\n",
       "2020032727956    2\n",
       "Name: count, dtype: int64"
      ]
     },
     "execution_count": 104,
     "metadata": {},
     "output_type": "execute_result"
    }
   ],
   "source": [
    "consignees_clean['identifier'].value_counts().head(50)"
   ]
  },
  {
   "cell_type": "markdown",
   "metadata": {},
   "source": [
    "# SQL File Creation"
   ]
  },
  {
   "cell_type": "markdown",
   "metadata": {},
   "source": [
    "- Remove identifier from consignee and shipper, change index to IDs"
   ]
  },
  {
   "cell_type": "markdown",
   "metadata": {},
   "source": [
    "- Change index on header to identifier?"
   ]
  },
  {
   "cell_type": "markdown",
   "metadata": {},
   "source": [
    "- Upload shipper, header, consignee as as csv for SQL batch loading"
   ]
  },
  {
   "cell_type": "markdown",
   "metadata": {},
   "source": [
    "- Write SQL table creation file"
   ]
  }
 ],
 "metadata": {
  "kernelspec": {
   "display_name": "Python 3",
   "language": "python",
   "name": "python3"
  },
  "language_info": {
   "codemirror_mode": {
    "name": "ipython",
    "version": 3
   },
   "file_extension": ".py",
   "mimetype": "text/x-python",
   "name": "python",
   "nbconvert_exporter": "python",
   "pygments_lexer": "ipython3",
   "version": "3.11.5"
  },
  "orig_nbformat": 4
 },
 "nbformat": 4,
 "nbformat_minor": 2
}
