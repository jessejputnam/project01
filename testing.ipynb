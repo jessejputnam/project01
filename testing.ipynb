{
 "cells": [
  {
   "cell_type": "code",
   "execution_count": 22,
   "metadata": {},
   "outputs": [],
   "source": [
    "import pandas as pd\n",
    "from lib.utils import get_id_nums, clean_row, remove_incorrect_codes"
   ]
  },
  {
   "cell_type": "code",
   "execution_count": 7,
   "metadata": {},
   "outputs": [],
   "source": [
    "pd.set_option('display.max_rows', 100)"
   ]
  },
  {
   "cell_type": "code",
   "execution_count": 4,
   "metadata": {},
   "outputs": [],
   "source": [
    "ct = pd.read_csv('/Users/jesseputnam/cs-learning/skillstorm/project01/data/final/countries.csv')"
   ]
  },
  {
   "cell_type": "markdown",
   "metadata": {},
   "source": [
    "## Country Work"
   ]
  },
  {
   "cell_type": "code",
   "execution_count": 23,
   "metadata": {},
   "outputs": [],
   "source": [
    "countries_cols = ['name', 'alpha-2', 'region', 'sub-region']\n",
    "countries = pd.read_csv('/Users/jesseputnam/cs-learning/skillstorm/project01/data/all.csv', usecols=countries_cols, keep_default_na=False)\n",
    "\n",
    "extra_codes = pd.DataFrame({'name': ['Czechia', 'Netherland Antilles', 'Germany', 'European Union'], 'alpha-2': ['XC', 'AN', 'DD', 'EU'], 'region': ['Europe', 'Americas', 'Europe', 'Europe'], 'sub-region': ['Eastern Europe', 'Latin America and the Caribbean', 'Western Europe', 'Western Europe']})\n",
    "\n",
    "extra_codes\n",
    "countries = pd.concat([countries, extra_codes], ignore_index=True, keys=['alpha-2', 'name'])\n",
    "\n",
    "# Change countries index column to be alpha-2 values and rename to id\n",
    "countries.set_index('alpha-2', inplace=True)\n",
    "countries.index.name = 'id'\n",
    "countries.sort_index(inplace=True)\n",
    "\n",
    "alpha_2_set = set(countries.index)\n",
    "\n",
    "country_dict = {x[1].upper(): x[0] for x in countries.itertuples()}\n",
    "country_dict['TAIWAN'] = 'TW'\n",
    "country_dict['SOUTH KOREA'] = 'KR'\n",
    "country_dict['SHANGHAI CN'] = 'CN'\n",
    "country_dict['SHANGHAI'] = 'CN'\n",
    "country_dict['SHANGHAI .'] = 'CN'\n",
    "country_dict['HONG KONG .'] = 'CN'\n",
    "country_dict['TAIPEI .'] = 'TW'\n",
    "country_dict['USA'] = 'US'\n",
    "country_dict['U.S.A.'] = 'US'"
   ]
  },
  {
   "cell_type": "code",
   "execution_count": null,
   "metadata": {},
   "outputs": [],
   "source": [
    "countries"
   ]
  },
  {
   "cell_type": "code",
   "execution_count": 6,
   "metadata": {},
   "outputs": [],
   "source": [
    "countries_file_path = '/Users/jesseputnam/cs-learning/skillstorm/project01/data/final/countries.csv'\n",
    "countries.to_csv(countries_file_path)"
   ]
  },
  {
   "cell_type": "markdown",
   "metadata": {},
   "source": [
    "# Shipper work"
   ]
  },
  {
   "cell_type": "code",
   "execution_count": 40,
   "metadata": {},
   "outputs": [],
   "source": [
    "shipper_sample = pd.read_csv('/Users/jesseputnam/cs-learning/skillstorm/project01/data/sample/shipper_2018.csv')\n",
    "shipper_sample['shipper_party_name'].fillna('N/A', inplace=True)"
   ]
  },
  {
   "cell_type": "code",
   "execution_count": 41,
   "metadata": {},
   "outputs": [],
   "source": [
    "shipper_sample_clean = shipper_sample.apply(lambda row: clean_row(row, 'shipper_party', alpha_2_set, country_dict), axis=1)\n",
    "shipper_sample_clean = shipper_sample_clean[['identifier', 'shipper_party_name', 'country_code']]\n",
    "shipper_sample_ids = get_id_nums(shipper_sample_clean['shipper_party_name'])\n",
    "shipper_sample_clean['shipper_id'] = shipper_sample_clean['shipper_party_name'].map(shipper_sample_ids)"
   ]
  },
  {
   "cell_type": "code",
   "execution_count": null,
   "metadata": {},
   "outputs": [],
   "source": [
    "shipper_sample_clean"
   ]
  },
  {
   "cell_type": "code",
   "execution_count": null,
   "metadata": {},
   "outputs": [],
   "source": [
    "shipper_sample_clean.info()"
   ]
  },
  {
   "cell_type": "code",
   "execution_count": 82,
   "metadata": {},
   "outputs": [],
   "source": [
    "shipper_keep_cols = ['identifier', 'shipper_party_name', 'shipper_party_address_1', 'shipper_party_address_2', 'shipper_party_address_3', 'shipper_party_address_4', 'country_code']\n",
    "\n",
    "shipper_2018_0 = pd.read_csv('/Users/jesseputnam/cs-learning/skillstorm/project01/data/2018/shipper_2018_part_0.csv', index_col=False, usecols=shipper_keep_cols)\n",
    "\n",
    "# Dealing with missing names\n",
    "shipper_2018_0['shipper_party_name'].fillna('N/A', inplace=True)"
   ]
  },
  {
   "cell_type": "code",
   "execution_count": null,
   "metadata": {},
   "outputs": [],
   "source": [
    "shipper_2018_0[shipper_2018_0['shipper_party_name'] == \"MR. AND/OR MRS.\"]"
   ]
  },
  {
   "cell_type": "code",
   "execution_count": 4,
   "metadata": {},
   "outputs": [],
   "source": [
    "# shipper_test = shipper_2018_0.apply(lambda row: clean_shipper(row, alpha_2_set, country_dict), axis=1)"
   ]
  },
  {
   "cell_type": "code",
   "execution_count": null,
   "metadata": {},
   "outputs": [],
   "source": [
    "# shipper_test['shipper_party_name'].value_counts().sort_index().head(90)"
   ]
  },
  {
   "cell_type": "code",
   "execution_count": 6,
   "metadata": {},
   "outputs": [],
   "source": [
    "# shipper_test = shipper_test[['identifier', 'shipper_party_name', 'country_code']]"
   ]
  },
  {
   "cell_type": "code",
   "execution_count": null,
   "metadata": {},
   "outputs": [],
   "source": [
    "# shipper_test.info(show_counts=True)"
   ]
  },
  {
   "cell_type": "markdown",
   "metadata": {},
   "source": [
    "### Dealing with Names"
   ]
  },
  {
   "cell_type": "code",
   "execution_count": 12,
   "metadata": {},
   "outputs": [],
   "source": [
    "# shipper_sample_cleaned = shipper_sample.apply(lambda row: clean_shipper(row, alpha_2_set, country_dict), axis=1)\n",
    "# shipper_sample_cleaned = shipper_sample_cleaned[['identifier', 'shipper_party_name', 'country_code']]"
   ]
  },
  {
   "cell_type": "markdown",
   "metadata": {},
   "source": [
    "## Mapping names to id numbers"
   ]
  },
  {
   "cell_type": "code",
   "execution_count": null,
   "metadata": {},
   "outputs": [],
   "source": [
    "# shipper_id_dict = {}\n",
    "# shipper_id_count = 0\n",
    "\n",
    "# for name in shipper_sample_cleaned['shipper_party_name'].unique():\n",
    "#     shipper_id_dict[name] = shipper_id_count\n",
    "#     shipper_id_count += 1\n",
    "\n",
    "# shipper_sample_cleaned['shipper_id'] = shipper_sample_cleaned['shipper_party_name'].map(shipper_id_dict)\n",
    "# shipper_sample_cleaned\n"
   ]
  },
  {
   "cell_type": "markdown",
   "metadata": {},
   "source": [
    "### Combine shipper csv's to one file"
   ]
  },
  {
   "cell_type": "code",
   "execution_count": null,
   "metadata": {},
   "outputs": [],
   "source": [
    "# shipper_raw_path = '/Users/jesseputnam/cs-learning/skillstorm/project01/data/final_raw/shipper.csv'\n",
    "\n",
    "# shipper_0 = pd.read_csv('/Users/jesseputnam/cs-learning/skillstorm/project01/data/2018/shipper_2018_part_0.csv', usecols=shipper_keep_cols)\n",
    "# shipper_1 = pd.read_csv('/Users/jesseputnam/cs-learning/skillstorm/project01/data/2018/shipper_2018_part_1.csv', usecols=shipper_keep_cols)\n",
    "# shipper_2 = pd.read_csv('/Users/jesseputnam/cs-learning/skillstorm/project01/data/2019/shipper_2019_part_0.csv', usecols=shipper_keep_cols)\n",
    "# shipper_3 = pd.read_csv('/Users/jesseputnam/cs-learning/skillstorm/project01/data/2019/shipper_2019_part_1.csv', usecols=shipper_keep_cols)\n",
    "# shipper_4 = pd.read_csv('/Users/jesseputnam/cs-learning/skillstorm/project01/data/2020/shipper_2020_part_0.csv', usecols=shipper_keep_cols)\n",
    "# shipper_5 = pd.read_csv('/Users/jesseputnam/cs-learning/skillstorm/project01/data/2020/shipper_2020_part_1.csv', usecols=shipper_keep_cols)"
   ]
  },
  {
   "cell_type": "code",
   "execution_count": null,
   "metadata": {},
   "outputs": [],
   "source": [
    "consignee_sample = pd.read_csv('/Users/jesseputnam/cs-learning/skillstorm/project01/data/sample/consignee_2018.csv')\n",
    "consignee_sample['consignee_name'].fillna('N/A', inplace=True)"
   ]
  },
  {
   "cell_type": "code",
   "execution_count": 46,
   "metadata": {},
   "outputs": [],
   "source": [
    "consignee_sample_clean = consignee_sample.apply(lambda row: clean_row(row, 'consignee', alpha_2_set, country_dict), axis=1)\n",
    "consignee_sample_clean = consignee_sample_clean[['identifier', \"consignee_name\", 'country_code']]"
   ]
  },
  {
   "cell_type": "code",
   "execution_count": 48,
   "metadata": {},
   "outputs": [],
   "source": [
    "consignee_sample_ids = get_id_nums(consignee_sample_clean['consignee_name'])\n",
    "consignee_sample_clean['consignee_id'] = consignee_sample_clean['consignee_name'].map(consignee_sample_ids)"
   ]
  },
  {
   "cell_type": "code",
   "execution_count": 12,
   "metadata": {},
   "outputs": [],
   "source": [
    "consignee_cols = ['identifier', 'consignee_name', 'consignee_address_1', 'consignee_address_2', 'consignee_address_3', 'consignee_address_4', 'country_code']\n",
    "\n",
    "consignee_full = pd.read_csv('/Users/jesseputnam/cs-learning/skillstorm/project01/data/2018/consignee_2018_part_0.csv', usecols=consignee_cols)\n",
    "consignee_full['consignee_name'].fillna('N/A', inplace=True)"
   ]
  },
  {
   "cell_type": "code",
   "execution_count": null,
   "metadata": {},
   "outputs": [],
   "source": [
    "consignee_full['consignee_address_3'].value_counts()"
   ]
  },
  {
   "cell_type": "code",
   "execution_count": null,
   "metadata": {},
   "outputs": [],
   "source": [
    "consignee_full.info(show_counts=True)"
   ]
  },
  {
   "cell_type": "markdown",
   "metadata": {},
   "source": [
    "- Remove erroneous country codes"
   ]
  },
  {
   "cell_type": "code",
   "execution_count": 6,
   "metadata": {},
   "outputs": [],
   "source": [
    "# consignee_full_clean = consignee_full.apply(lambda row: clean_consignee(row, alpha_2_set), axis=1)"
   ]
  },
  {
   "cell_type": "code",
   "execution_count": null,
   "metadata": {},
   "outputs": [],
   "source": [
    "consignee_full['consignee_name'].value_counts(sort=False).sort_index().head(50)"
   ]
  },
  {
   "cell_type": "code",
   "execution_count": null,
   "metadata": {},
   "outputs": [],
   "source": [
    "# consignee_full_clean['consignee_name'].value_counts(sort=False).sort_index().head(50)"
   ]
  },
  {
   "cell_type": "code",
   "execution_count": 9,
   "metadata": {},
   "outputs": [],
   "source": [
    "# consignee_id_dict = get_id_nums(consignee_full_clean['consignee_name'])\n",
    "# consignee_full_clean['consignee_id'] = consignee_full_clean['consignee_name'].map(consignee_id_dict)"
   ]
  },
  {
   "cell_type": "code",
   "execution_count": null,
   "metadata": {},
   "outputs": [],
   "source": [
    "# consignee_full_clean['consignee_id'].value_counts()"
   ]
  },
  {
   "cell_type": "markdown",
   "metadata": {},
   "source": [
    "## Header Work"
   ]
  },
  {
   "cell_type": "code",
   "execution_count": 80,
   "metadata": {},
   "outputs": [],
   "source": [
    "header_keep_cols = ['vessel_name', 'vessel_country_code', 'carrier_code', 'identifier', 'estimated_arrival_date', 'actual_arrival_date']\n",
    "\n",
    "header_2018_0 = pd.read_csv('/Users/jesseputnam/cs-learning/skillstorm/project01/data/2018/header_2018_part_0.csv', parse_dates=['estimated_arrival_date', 'actual_arrival_date'], usecols=header_keep_cols)"
   ]
  },
  {
   "cell_type": "code",
   "execution_count": 70,
   "metadata": {},
   "outputs": [],
   "source": [
    "header_2018_0['vessel_country_code'] = header_2018_0['vessel_country_code'].apply(lambda code: remove_incorrect_codes(code, alpha_2_set))"
   ]
  },
  {
   "cell_type": "code",
   "execution_count": 81,
   "metadata": {},
   "outputs": [],
   "source": [
    "header_sample = pd.read_csv('/Users/jesseputnam/cs-learning/skillstorm/project01/data/sample/header_2018.csv', usecols=header_keep_cols)"
   ]
  },
  {
   "cell_type": "code",
   "execution_count": null,
   "metadata": {},
   "outputs": [],
   "source": [
    "consignee_sample_clean.head()"
   ]
  },
  {
   "cell_type": "code",
   "execution_count": null,
   "metadata": {},
   "outputs": [],
   "source": [
    "shipper_sample_clean.head()"
   ]
  },
  {
   "cell_type": "code",
   "execution_count": 106,
   "metadata": {},
   "outputs": [],
   "source": [
    "header_full_table = header_sample.merge(shipper_sample_clean[['identifier', 'shipper_id']], on='identifier', how='inner')\n",
    "header_full_table = header_full_table.merge(consignee_sample_clean[['identifier', 'consignee_id']], on='identifier', how='inner')"
   ]
  },
  {
   "cell_type": "code",
   "execution_count": null,
   "metadata": {},
   "outputs": [],
   "source": [
    "header_full_table.head(10)"
   ]
  },
  {
   "cell_type": "code",
   "execution_count": null,
   "metadata": {},
   "outputs": [],
   "source": [
    "header_sample.info()"
   ]
  }
 ],
 "metadata": {
  "kernelspec": {
   "display_name": "Python 3",
   "language": "python",
   "name": "python3"
  },
  "language_info": {
   "codemirror_mode": {
    "name": "ipython",
    "version": 3
   },
   "file_extension": ".py",
   "mimetype": "text/x-python",
   "name": "python",
   "nbconvert_exporter": "python",
   "pygments_lexer": "ipython3",
   "version": "3.11.5"
  },
  "orig_nbformat": 4
 },
 "nbformat": 4,
 "nbformat_minor": 2
}
