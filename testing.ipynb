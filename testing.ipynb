{
 "cells": [
  {
   "cell_type": "code",
   "execution_count": 2,
   "metadata": {},
   "outputs": [],
   "source": [
    "import pandas as pd\n",
    "from lib.utils import get_id_nums\n",
    "from lib.clean_shipper import clean_shipper\n",
    "from lib.clean_consignee import clean_consignee"
   ]
  },
  {
   "cell_type": "code",
   "execution_count": 7,
   "metadata": {},
   "outputs": [],
   "source": [
    "pd.set_option('display.max_rows', 100)"
   ]
  },
  {
   "cell_type": "code",
   "execution_count": 4,
   "metadata": {},
   "outputs": [],
   "source": [
    "ct = pd.read_csv('/Users/jesseputnam/cs-learning/skillstorm/project01/data/final/countries.csv')"
   ]
  },
  {
   "cell_type": "markdown",
   "metadata": {},
   "source": [
    "## Country Work"
   ]
  },
  {
   "cell_type": "code",
   "execution_count": 3,
   "metadata": {},
   "outputs": [],
   "source": [
    "countries_cols = ['name', 'alpha-2', 'region', 'sub-region']\n",
    "countries = pd.read_csv('/Users/jesseputnam/cs-learning/skillstorm/project01/data/all.csv', usecols=countries_cols, keep_default_na=False)\n",
    "\n",
    "# Change countries index column to be alpha-2 values and rename to id\n",
    "countries.set_index('alpha-2', inplace=True)\n",
    "countries.index.name = 'id'\n",
    "\n",
    "alpha_2_set = set(countries.index)\n",
    "\n",
    "country_dict = {x[1].upper(): x[0] for x in countries.itertuples()}\n",
    "country_dict['TAIWAN'] = 'TW'\n",
    "country_dict['SOUTH KOREA'] = 'KR'\n",
    "country_dict['SHANGHAI CN'] = 'CN'\n",
    "country_dict['SHANGHAI'] = 'CN'\n",
    "country_dict['SHANGHAI .'] = 'CN'\n",
    "country_dict['HONG KONG .'] = 'CN'\n",
    "country_dict['TAIPEI .'] = 'TW'"
   ]
  },
  {
   "cell_type": "code",
   "execution_count": 6,
   "metadata": {},
   "outputs": [],
   "source": [
    "countries_file_path = '/Users/jesseputnam/cs-learning/skillstorm/project01/data/final/countries.csv'\n",
    "countries.to_csv(countries_file_path)"
   ]
  },
  {
   "cell_type": "code",
   "execution_count": 7,
   "metadata": {},
   "outputs": [],
   "source": [
    "header_keep_cols = ['conveyance_id', 'vessel_name', 'vessel_country_code', 'carrier_code', 'identifier', 'estimated_arrival_date', 'actual_arrival_date', 'foreign_port_of_lading', 'place_of_receipt', 'port_of_unlading', 'record_status_indicator']\n",
    "\n",
    "header_2018_0 = pd.read_csv('/Users/jesseputnam/cs-learning/skillstorm/project01/data/2018/header_2018_part_0.csv', parse_dates=['estimated_arrival_date', 'actual_arrival_date'], usecols=header_keep_cols)"
   ]
  },
  {
   "cell_type": "code",
   "execution_count": null,
   "metadata": {},
   "outputs": [
    {
     "data": {
      "text/html": [
       "<div>\n",
       "<style scoped>\n",
       "    .dataframe tbody tr th:only-of-type {\n",
       "        vertical-align: middle;\n",
       "    }\n",
       "\n",
       "    .dataframe tbody tr th {\n",
       "        vertical-align: top;\n",
       "    }\n",
       "\n",
       "    .dataframe thead th {\n",
       "        text-align: right;\n",
       "    }\n",
       "</style>\n",
       "<table border=\"1\" class=\"dataframe\">\n",
       "  <thead>\n",
       "    <tr style=\"text-align: right;\">\n",
       "      <th></th>\n",
       "      <th>identifier</th>\n",
       "      <th>carrier_code</th>\n",
       "      <th>vessel_country_code</th>\n",
       "      <th>vessel_name</th>\n",
       "      <th>port_of_unlading</th>\n",
       "      <th>estimated_arrival_date</th>\n",
       "      <th>foreign_port_of_lading</th>\n",
       "      <th>record_status_indicator</th>\n",
       "      <th>place_of_receipt</th>\n",
       "      <th>conveyance_id</th>\n",
       "      <th>actual_arrival_date</th>\n",
       "    </tr>\n",
       "  </thead>\n",
       "  <tbody>\n",
       "    <tr>\n",
       "      <th>1026717</th>\n",
       "      <td>2018012038125</td>\n",
       "      <td>EGLV</td>\n",
       "      <td>GB</td>\n",
       "      <td>EVER SIGMA</td>\n",
       "      <td>Los Angeles, California</td>\n",
       "      <td>2018-01-18</td>\n",
       "      <td>Yantian,China (Mainland)</td>\n",
       "      <td>New</td>\n",
       "      <td>YANTIAN, CHINA</td>\n",
       "      <td>9300398</td>\n",
       "      <td>2018-01-19</td>\n",
       "    </tr>\n",
       "  </tbody>\n",
       "</table>\n",
       "</div>"
      ],
      "text/plain": [
       "            identifier carrier_code vessel_country_code vessel_name  \\\n",
       "1026717  2018012038125         EGLV                  GB  EVER SIGMA   \n",
       "\n",
       "                port_of_unlading estimated_arrival_date  \\\n",
       "1026717  Los Angeles, California             2018-01-18   \n",
       "\n",
       "           foreign_port_of_lading record_status_indicator place_of_receipt  \\\n",
       "1026717  Yantian,China (Mainland)                     New   YANTIAN, CHINA   \n",
       "\n",
       "        conveyance_id actual_arrival_date  \n",
       "1026717       9300398          2018-01-19  "
      ]
     },
     "execution_count": 105,
     "metadata": {},
     "output_type": "execute_result"
    }
   ],
   "source": [
    "# header_2018_0.info()\n",
    "# header_2018_0[header_2018_0['record_status_indicator'] == 'Deleted']\n",
    "# header_2018_0[['vessel_name', 'vessel_country_code']].value_counts(sort=False).tail(100)\n",
    "# header_2018_0[['vessel_name', 'vessel_country_code', 'carrier_code']].value_counts(sort=False).tail(100)\n",
    "# header_2018_0.loc[header_2018_0['vessel_name'] == 'EVER SIGMA']\n",
    "# header_2018_0[['port_of_unlading', 'foreign_port_of_lading']].value_counts()\n",
    "header_2018_0[header_2018_0['identifier'] == 2018012038125]"
   ]
  },
  {
   "cell_type": "code",
   "execution_count": null,
   "metadata": {},
   "outputs": [],
   "source": [
    "header_2018_0.info()"
   ]
  },
  {
   "cell_type": "markdown",
   "metadata": {},
   "source": [
    "# Shipper work"
   ]
  },
  {
   "cell_type": "code",
   "execution_count": 9,
   "metadata": {},
   "outputs": [],
   "source": [
    "shipper_sample = pd.read_csv('/Users/jesseputnam/cs-learning/skillstorm/project01/data/sample/shipper_2018.csv')"
   ]
  },
  {
   "cell_type": "code",
   "execution_count": 4,
   "metadata": {},
   "outputs": [],
   "source": [
    "shipper_keep_cols = ['identifier', 'shipper_party_name', 'shipper_party_address_1', 'shipper_party_address_2', 'shipper_party_address_3', 'shipper_party_address_4', 'country_code']\n",
    "\n",
    "shipper_2018_0 = pd.read_csv('/Users/jesseputnam/cs-learning/skillstorm/project01/data/2018/shipper_2018_part_0.csv', index_col=False, usecols=shipper_keep_cols)\n",
    "\n",
    "# Dealing with missing names\n",
    "shipper_2018_0['shipper_party_name'].fillna('N/A', inplace=True)"
   ]
  },
  {
   "cell_type": "code",
   "execution_count": 20,
   "metadata": {},
   "outputs": [
    {
     "data": {
      "text/html": [
       "<div>\n",
       "<style scoped>\n",
       "    .dataframe tbody tr th:only-of-type {\n",
       "        vertical-align: middle;\n",
       "    }\n",
       "\n",
       "    .dataframe tbody tr th {\n",
       "        vertical-align: top;\n",
       "    }\n",
       "\n",
       "    .dataframe thead th {\n",
       "        text-align: right;\n",
       "    }\n",
       "</style>\n",
       "<table border=\"1\" class=\"dataframe\">\n",
       "  <thead>\n",
       "    <tr style=\"text-align: right;\">\n",
       "      <th></th>\n",
       "      <th>identifier</th>\n",
       "      <th>shipper_party_name</th>\n",
       "      <th>shipper_party_address_1</th>\n",
       "      <th>shipper_party_address_2</th>\n",
       "      <th>shipper_party_address_3</th>\n",
       "      <th>shipper_party_address_4</th>\n",
       "      <th>country_code</th>\n",
       "    </tr>\n",
       "  </thead>\n",
       "  <tbody>\n",
       "    <tr>\n",
       "      <th>111</th>\n",
       "      <td>20180101122</td>\n",
       "      <td>MR. AND/OR MRS.</td>\n",
       "      <td>CARLOS AND/OR LUZ GUARDADO</td>\n",
       "      <td>RODENBACHER STR. 33</td>\n",
       "      <td>DE-67661 KAISERSLAUTERN</td>\n",
       "      <td>NaN</td>\n",
       "      <td>NaN</td>\n",
       "    </tr>\n",
       "    <tr>\n",
       "      <th>3083058</th>\n",
       "      <td>2018032624392</td>\n",
       "      <td>MR. AND/OR MRS.</td>\n",
       "      <td>SHANNON AND/OR LORINA HARRIS</td>\n",
       "      <td>VIRGINIA BLVD.</td>\n",
       "      <td>RAMSTEIN 66877</td>\n",
       "      <td>NaN</td>\n",
       "      <td>NaN</td>\n",
       "    </tr>\n",
       "    <tr>\n",
       "      <th>6151178</th>\n",
       "      <td>2018061335367</td>\n",
       "      <td>MR. AND/OR MRS.</td>\n",
       "      <td>COREY AND/OR SHANNON WOODS</td>\n",
       "      <td>VERMONTSTR. BLDG 2502 - APT. B5</td>\n",
       "      <td>STUTTGART 70569</td>\n",
       "      <td>NaN</td>\n",
       "      <td>NaN</td>\n",
       "    </tr>\n",
       "    <tr>\n",
       "      <th>6512075</th>\n",
       "      <td>2018062150670</td>\n",
       "      <td>MR. AND/OR MRS.</td>\n",
       "      <td>MICHAEL AND/OR VERONIKA FAZEN</td>\n",
       "      <td>PARACELSUSTR. 35</td>\n",
       "      <td>DE-70771 LEINFELDEN-ECHTERDINGEN</td>\n",
       "      <td>NaN</td>\n",
       "      <td>NaN</td>\n",
       "    </tr>\n",
       "    <tr>\n",
       "      <th>9873738</th>\n",
       "      <td>2018091042040</td>\n",
       "      <td>MR. AND/OR MRS.</td>\n",
       "      <td>SARA AND/OR SEAN GILLESBY</td>\n",
       "      <td>LEINIGER STR. 31</td>\n",
       "      <td>DE-66919 OBERNHEIM-KIRCHENARNBACH</td>\n",
       "      <td>NaN</td>\n",
       "      <td>NaN</td>\n",
       "    </tr>\n",
       "  </tbody>\n",
       "</table>\n",
       "</div>"
      ],
      "text/plain": [
       "            identifier shipper_party_name        shipper_party_address_1  \\\n",
       "111        20180101122    MR. AND/OR MRS.     CARLOS AND/OR LUZ GUARDADO   \n",
       "3083058  2018032624392    MR. AND/OR MRS.   SHANNON AND/OR LORINA HARRIS   \n",
       "6151178  2018061335367    MR. AND/OR MRS.     COREY AND/OR SHANNON WOODS   \n",
       "6512075  2018062150670    MR. AND/OR MRS.  MICHAEL AND/OR VERONIKA FAZEN   \n",
       "9873738  2018091042040    MR. AND/OR MRS.      SARA AND/OR SEAN GILLESBY   \n",
       "\n",
       "                 shipper_party_address_2            shipper_party_address_3  \\\n",
       "111                  RODENBACHER STR. 33            DE-67661 KAISERSLAUTERN   \n",
       "3083058                   VIRGINIA BLVD.                     RAMSTEIN 66877   \n",
       "6151178  VERMONTSTR. BLDG 2502 - APT. B5                    STUTTGART 70569   \n",
       "6512075                 PARACELSUSTR. 35   DE-70771 LEINFELDEN-ECHTERDINGEN   \n",
       "9873738                 LEINIGER STR. 31  DE-66919 OBERNHEIM-KIRCHENARNBACH   \n",
       "\n",
       "        shipper_party_address_4 country_code  \n",
       "111                         NaN          NaN  \n",
       "3083058                     NaN          NaN  \n",
       "6151178                     NaN          NaN  \n",
       "6512075                     NaN          NaN  \n",
       "9873738                     NaN          NaN  "
      ]
     },
     "execution_count": 20,
     "metadata": {},
     "output_type": "execute_result"
    }
   ],
   "source": [
    "shipper_2018_0[shipper_2018_0['shipper_party_name'] == \"MR. AND/OR MRS.\"]"
   ]
  },
  {
   "cell_type": "code",
   "execution_count": 4,
   "metadata": {},
   "outputs": [],
   "source": [
    "shipper_test = shipper_2018_0.apply(lambda row: clean_shipper(row, alpha_2_set, country_dict), axis=1)"
   ]
  },
  {
   "cell_type": "code",
   "execution_count": 8,
   "metadata": {},
   "outputs": [
    {
     "data": {
      "text/plain": [
       "shipper_party_name\n",
       " G L O B U S  INTERNATIONAL              2\n",
       "!!! MUST CHANGE ACCOUNT!!!               1\n",
       "#7 MAHESHWAR NAGAR #1,29 TILAK ROAD      1\n",
       "#MOER MATBAACLK A.@                      1\n",
       "& TRADITION A/S                          1\n",
       "&#304;STANBUL SERAMIK MOZAIK LAMBA       1\n",
       "&'COSTA S.R.L.                           1\n",
       "&'COSTA SRL                              1\n",
       "&J HOUSEHOLD ARTICLES CO., LTD           3\n",
       "&K                                       1\n",
       "&P FOOD INGREDIENT CO.,LTD               1\n",
       "&TRADITION                               9\n",
       "&TRADITION A S                           4\n",
       "&TRADITION A/S                          11\n",
       "&TRADITION A/S /ANDTRADITION            31\n",
       "&TRADITION AS                            4\n",
       "&TRADITION, &TRADITION                   2\n",
       "' COSTA SRL                             28\n",
       "''K'' LOGISTICS SERVICES NV              4\n",
       "''K''LINE ZHENHUA LOGISTICS(TIANJIN      1\n",
       "''KLAS '' LTD.                           1\n",
       "''KURSKHIMVOLOKNO'' LTD                  4\n",
       "'CRICOVA\" SA                             9\n",
       "'H AND N TEXTILES LIMITED                1\n",
       "'HECNY SHIPPING LIMITED                  3\n",
       "'HWL-TR-IZM HELLMANN WORLDWIDE           6\n",
       "'LG CNS CO., LTD.                        3\n",
       "'NINGBO YINZHOU TAIFENG GARMENTS CO      1\n",
       "'OSTTOR' BETEILIGUNGS-UND HANDELSGE      2\n",
       "'QINGDAO RUIJING MACHINERY CO.,LTD.      1\n",
       "'REGINA' KOURANTIDIS CHR. NIKOLAOS       1\n",
       "'RIDKOSNI GAZY PJSC                      1\n",
       "'SHENZHEN CLEVER ELECTRONIC CO. LTD      1\n",
       "'SOFIA MED' SA                           6\n",
       "'STER-GAZ' WYTWARZANIE URZADZEN          1\n",
       "'T ACHTERHUIS HISTORISCHE BOUWMATER      8\n",
       "'TASEV SEZER GRANIT MERMER MAD.INS       1\n",
       "'WINGTAI (ZHONGSHAN) CO.LTD              1\n",
       "'WINNINGTON METAL AND PLASTIC MFG        1\n",
       "'WUHU MATY AIR-CONDITIONING EQUIPME      1\n",
       "(1) AGCO FEUCHT GMBH,                    1\n",
       "(1) EXPOLANKA FREIGHT (PVT) LTD          1\n",
       "(297274764)KARDEMIR DIS TICARET A       54\n",
       "(297274764)KARDEMIR DIS TICARET AS      43\n",
       "(ACEITES ABRIL)                          1\n",
       "(AIX EN GROUP CO.,LIMITED )              1\n",
       "(ALMONDELI) ALMONDELI , S.L              1\n",
       "(ALQUIMIA MURCIA, S.L )                  1\n",
       "(ASIA PACIFIC)                           1\n",
       "(BLUEBARK) NABER, ADAM                   2\n",
       "(CANONDA) THIEN PHU CO., LTD             4\n",
       "(CISA-EXPORTADORA)                      26\n",
       "(CY)                                     1\n",
       "(FAROLIVA) FAROLIVA S.L                  1\n",
       "(FORMERLY HINDUSTAN POLYAMIDES &         2\n",
       "(H.D) TRADING                            3\n",
       "(H.K.) FRASIER LIMITED.                  1\n",
       "(H.K.)FRASIER LIMITED                    1\n",
       "(HANGZHOU) HUA TONG INDUSTRIAL INC       4\n",
       "(HANGZHOU) HUA TONG INDUSTRIES INC       1\n",
       "(HANGZHOU) HUA TONG INDUSTRIES INC.     86\n",
       "(HANGZHOU) HUA TONG INDUSTRIES INCO     32\n",
       "(HANGZHOU) HUATONG INDUSTRIAL INC       27\n",
       "(HANGZHOU) HUATONG INDUSTRIES INC        2\n",
       "(HANGZHOU)HUA TONG INDUSTRIES INC        8\n",
       "(HANGZHOU)HUA TONG INDUSTRIES INC.      77\n",
       "(HANGZHOU)HUATONG INDUSTRIES INC.        1\n",
       "(HORCHATA MERCADER)                      1\n",
       "(ISTANBUL GLASS INDUSTRY INC.)           1\n",
       "(LUXEAPERS) LUXEAPERS, S.L.              1\n",
       "(MI SWACO)SAKHALIN BRANCH OF OOO T       1\n",
       "(NANHAI) HONG GUANG SHENG SHOES CO.      2\n",
       "(PACIFIC CUSTOM) XIAMEN PDF CO.,         2\n",
       "(PATATAS LOS LEONES)                     1\n",
       "(QINGDAO) HAIER MEDICAL & LABORATOR      1\n",
       "(QINGDAO)HAIER MEDICAL AND LABORATO      3\n",
       "(SHANGHAI) TRADING                       2\n",
       "(SOCIETE DE COMMERCIALISATION DE CA      1\n",
       "(SPRC) SOCIEDAD PORTUARIA REGIONAL       1\n",
       "(SUSEO-DONG,19THFI.,SUSEOBLDG),          3\n",
       "(TEAC CORPORATION, JAPAN)                1\n",
       "(TENGZHONCITY)YUANTE COMMERCIAL AND      8\n",
       "(TENGZHOUCITY)YUANTE COMMERCIAL AND      1\n",
       "(ULS)UNI LOGISTICS SYSTEM              307\n",
       "(USA)NI HAO CHINESE LLC (TAIWAN BRA      3\n",
       "(USCI+91370200553967756C)                1\n",
       "(VIET NAM)CHENG FENG ENTERPRISES         2\n",
       "(WANG YANG ) C/O SHANGHAI HAPPY MOV      1\n",
       "(WHOLLY OWNED BY KEYBRIDGE COMPANY       2\n",
       "(WUXI ZHONGDE NEW DECORATION             1\n",
       "Name: count, dtype: int64"
      ]
     },
     "execution_count": 8,
     "metadata": {},
     "output_type": "execute_result"
    }
   ],
   "source": [
    "shipper_test['shipper_party_name'].value_counts().sort_index().head(90)"
   ]
  },
  {
   "cell_type": "code",
   "execution_count": 6,
   "metadata": {},
   "outputs": [],
   "source": [
    "shipper_test = shipper_test[['identifier', 'shipper_party_name', 'country_code']]"
   ]
  },
  {
   "cell_type": "code",
   "execution_count": 8,
   "metadata": {},
   "outputs": [
    {
     "name": "stdout",
     "output_type": "stream",
     "text": [
      "<class 'pandas.core.frame.DataFrame'>\n",
      "RangeIndex: 10000000 entries, 0 to 9999999\n",
      "Data columns (total 3 columns):\n",
      " #   Column              Non-Null Count     Dtype \n",
      "---  ------              --------------     ----- \n",
      " 0   identifier          10000000 non-null  int64 \n",
      " 1   shipper_party_name  10000000 non-null  object\n",
      " 2   country_code        3208767 non-null   object\n",
      "dtypes: int64(1), object(2)\n",
      "memory usage: 228.9+ MB\n"
     ]
    }
   ],
   "source": [
    "shipper_test.info(show_counts=True)"
   ]
  },
  {
   "cell_type": "markdown",
   "metadata": {},
   "source": [
    "### Dealing with Names"
   ]
  },
  {
   "cell_type": "code",
   "execution_count": 12,
   "metadata": {},
   "outputs": [],
   "source": [
    "shipper_sample_cleaned = shipper_sample.apply(lambda row: clean_row(row, alpha_2_set, country_dict), axis=1)\n",
    "shipper_sample_cleaned = shipper_sample_cleaned[['identifier', 'shipper_party_name', 'country_code']]"
   ]
  },
  {
   "cell_type": "markdown",
   "metadata": {},
   "source": [
    "## Mapping names to id numbers"
   ]
  },
  {
   "cell_type": "code",
   "execution_count": 22,
   "metadata": {},
   "outputs": [
    {
     "data": {
      "text/html": [
       "<div>\n",
       "<style scoped>\n",
       "    .dataframe tbody tr th:only-of-type {\n",
       "        vertical-align: middle;\n",
       "    }\n",
       "\n",
       "    .dataframe tbody tr th {\n",
       "        vertical-align: top;\n",
       "    }\n",
       "\n",
       "    .dataframe thead th {\n",
       "        text-align: right;\n",
       "    }\n",
       "</style>\n",
       "<table border=\"1\" class=\"dataframe\">\n",
       "  <thead>\n",
       "    <tr style=\"text-align: right;\">\n",
       "      <th></th>\n",
       "      <th>identifier</th>\n",
       "      <th>shipper_party_name</th>\n",
       "      <th>country_code</th>\n",
       "      <th>id</th>\n",
       "    </tr>\n",
       "  </thead>\n",
       "  <tbody>\n",
       "    <tr>\n",
       "      <th>0</th>\n",
       "      <td>201801010</td>\n",
       "      <td>JET FAST COMPANY LIMITED</td>\n",
       "      <td>TW</td>\n",
       "      <td>0</td>\n",
       "    </tr>\n",
       "    <tr>\n",
       "      <th>1</th>\n",
       "      <td>201801011</td>\n",
       "      <td>UNION WONDERFUL MACHINERY LTD.</td>\n",
       "      <td>TW</td>\n",
       "      <td>1</td>\n",
       "    </tr>\n",
       "    <tr>\n",
       "      <th>2</th>\n",
       "      <td>201801012</td>\n",
       "      <td>SUMEEKO INDUSTRIES CO.,LTD.</td>\n",
       "      <td>TW</td>\n",
       "      <td>2</td>\n",
       "    </tr>\n",
       "    <tr>\n",
       "      <th>3</th>\n",
       "      <td>201801013</td>\n",
       "      <td>YUTY INDUSTRIES CO. LTD.</td>\n",
       "      <td>TW</td>\n",
       "      <td>3</td>\n",
       "    </tr>\n",
       "    <tr>\n",
       "      <th>4</th>\n",
       "      <td>201801014</td>\n",
       "      <td>BE SOUND CO., LTD.</td>\n",
       "      <td>TW</td>\n",
       "      <td>4</td>\n",
       "    </tr>\n",
       "    <tr>\n",
       "      <th>...</th>\n",
       "      <td>...</td>\n",
       "      <td>...</td>\n",
       "      <td>...</td>\n",
       "      <td>...</td>\n",
       "    </tr>\n",
       "    <tr>\n",
       "      <th>494</th>\n",
       "      <td>20180101612</td>\n",
       "      <td>CHIN LIH HSING PRECISION</td>\n",
       "      <td>NaN</td>\n",
       "      <td>364</td>\n",
       "    </tr>\n",
       "    <tr>\n",
       "      <th>495</th>\n",
       "      <td>20180101613</td>\n",
       "      <td>CHIN LIH HSING PRECISION</td>\n",
       "      <td>NaN</td>\n",
       "      <td>364</td>\n",
       "    </tr>\n",
       "    <tr>\n",
       "      <th>496</th>\n",
       "      <td>20180101614</td>\n",
       "      <td>NEW LAND LIGHTING(HK) INDUSTRY CO.,</td>\n",
       "      <td>NaN</td>\n",
       "      <td>365</td>\n",
       "    </tr>\n",
       "    <tr>\n",
       "      <th>497</th>\n",
       "      <td>20180101615</td>\n",
       "      <td>AURORA AUTO PARTS C.,LTD</td>\n",
       "      <td>CN</td>\n",
       "      <td>366</td>\n",
       "    </tr>\n",
       "    <tr>\n",
       "      <th>498</th>\n",
       "      <td>20180101616</td>\n",
       "      <td>IBS ASIA CORPORATION</td>\n",
       "      <td>HK</td>\n",
       "      <td>367</td>\n",
       "    </tr>\n",
       "  </tbody>\n",
       "</table>\n",
       "<p>499 rows × 4 columns</p>\n",
       "</div>"
      ],
      "text/plain": [
       "      identifier                   shipper_party_name country_code   id\n",
       "0      201801010             JET FAST COMPANY LIMITED           TW    0\n",
       "1      201801011       UNION WONDERFUL MACHINERY LTD.           TW    1\n",
       "2      201801012          SUMEEKO INDUSTRIES CO.,LTD.           TW    2\n",
       "3      201801013             YUTY INDUSTRIES CO. LTD.           TW    3\n",
       "4      201801014                   BE SOUND CO., LTD.           TW    4\n",
       "..           ...                                  ...          ...  ...\n",
       "494  20180101612             CHIN LIH HSING PRECISION          NaN  364\n",
       "495  20180101613             CHIN LIH HSING PRECISION          NaN  364\n",
       "496  20180101614  NEW LAND LIGHTING(HK) INDUSTRY CO.,          NaN  365\n",
       "497  20180101615             AURORA AUTO PARTS C.,LTD           CN  366\n",
       "498  20180101616                 IBS ASIA CORPORATION           HK  367\n",
       "\n",
       "[499 rows x 4 columns]"
      ]
     },
     "execution_count": 22,
     "metadata": {},
     "output_type": "execute_result"
    }
   ],
   "source": [
    "shipper_id_dict = {}\n",
    "shipper_id_count = 0\n",
    "\n",
    "for name in shipper_sample_cleaned['shipper_party_name'].unique():\n",
    "    shipper_id_dict[name] = shipper_id_count\n",
    "    shipper_id_count += 1\n",
    "\n",
    "shipper_sample_cleaned['id'] = shipper_sample_cleaned['shipper_party_name'].map(shipper_id_dict)\n",
    "shipper_sample_cleaned\n"
   ]
  },
  {
   "cell_type": "markdown",
   "metadata": {},
   "source": [
    "### Combine shipper csv's to one file"
   ]
  },
  {
   "cell_type": "code",
   "execution_count": 26,
   "metadata": {},
   "outputs": [],
   "source": [
    "# shipper_raw_path = '/Users/jesseputnam/cs-learning/skillstorm/project01/data/final_raw/shipper.csv'\n",
    "\n",
    "# shipper_0 = pd.read_csv('/Users/jesseputnam/cs-learning/skillstorm/project01/data/2018/shipper_2018_part_0.csv', usecols=shipper_keep_cols)\n",
    "# shipper_1 = pd.read_csv('/Users/jesseputnam/cs-learning/skillstorm/project01/data/2018/shipper_2018_part_1.csv', usecols=shipper_keep_cols)\n",
    "# shipper_2 = pd.read_csv('/Users/jesseputnam/cs-learning/skillstorm/project01/data/2019/shipper_2019_part_0.csv', usecols=shipper_keep_cols)\n",
    "# shipper_3 = pd.read_csv('/Users/jesseputnam/cs-learning/skillstorm/project01/data/2019/shipper_2019_part_1.csv', usecols=shipper_keep_cols)\n",
    "# shipper_4 = pd.read_csv('/Users/jesseputnam/cs-learning/skillstorm/project01/data/2020/shipper_2020_part_0.csv', usecols=shipper_keep_cols)\n",
    "# shipper_5 = pd.read_csv('/Users/jesseputnam/cs-learning/skillstorm/project01/data/2020/shipper_2020_part_1.csv', usecols=shipper_keep_cols)"
   ]
  },
  {
   "cell_type": "code",
   "execution_count": 27,
   "metadata": {},
   "outputs": [],
   "source": []
  },
  {
   "cell_type": "code",
   "execution_count": null,
   "metadata": {},
   "outputs": [],
   "source": [
    "consignee_sample = pd.read_csv('/Users/jesseputnam/cs-learning/skillstorm/project01/data/sample/consignee_2018.csv')\n",
    "consignee_sample.info()"
   ]
  },
  {
   "cell_type": "code",
   "execution_count": 5,
   "metadata": {},
   "outputs": [],
   "source": [
    "consignee_cols = ['identifier', 'consignee_name', 'consignee_address_1', 'country_code']\n",
    "\n",
    "consignee_full = pd.read_csv('/Users/jesseputnam/cs-learning/skillstorm/project01/data/2018/consignee_2018_part_0.csv', usecols=consignee_cols)\n",
    "consignee_full['consignee_name'].fillna('N/A', inplace=True)"
   ]
  },
  {
   "cell_type": "code",
   "execution_count": null,
   "metadata": {},
   "outputs": [],
   "source": [
    "consignee_full.info(show_counts=True)"
   ]
  },
  {
   "cell_type": "markdown",
   "metadata": {},
   "source": [
    "- Remove erroneous country codes"
   ]
  },
  {
   "cell_type": "code",
   "execution_count": 6,
   "metadata": {},
   "outputs": [],
   "source": [
    "consignee_full_clean = consignee_full.apply(lambda row: clean_consignee(row, alpha_2_set), axis=1)"
   ]
  },
  {
   "cell_type": "code",
   "execution_count": null,
   "metadata": {},
   "outputs": [],
   "source": [
    "consignee_full['consignee_name'].value_counts(sort=False).sort_index().head(50)"
   ]
  },
  {
   "cell_type": "code",
   "execution_count": null,
   "metadata": {},
   "outputs": [],
   "source": [
    "consignee_full_clean['consignee_name'].value_counts(sort=False).sort_index().head(50)"
   ]
  },
  {
   "cell_type": "code",
   "execution_count": 9,
   "metadata": {},
   "outputs": [],
   "source": [
    "consignee_id_dict = get_id_nums(consignee_full_clean['consignee_name'])\n",
    "consignee_full_clean['id'] = consignee_full_clean['consignee_name'].map(consignee_id_dict)"
   ]
  },
  {
   "cell_type": "code",
   "execution_count": null,
   "metadata": {},
   "outputs": [],
   "source": [
    "consignee_full_clean['id'].value_counts()"
   ]
  },
  {
   "cell_type": "code",
   "execution_count": null,
   "metadata": {},
   "outputs": [],
   "source": []
  }
 ],
 "metadata": {
  "kernelspec": {
   "display_name": "Python 3",
   "language": "python",
   "name": "python3"
  },
  "language_info": {
   "codemirror_mode": {
    "name": "ipython",
    "version": 3
   },
   "file_extension": ".py",
   "mimetype": "text/x-python",
   "name": "python",
   "nbconvert_exporter": "python",
   "pygments_lexer": "ipython3",
   "version": "3.11.5"
  },
  "orig_nbformat": 4
 },
 "nbformat": 4,
 "nbformat_minor": 2
}
