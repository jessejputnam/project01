{
 "cells": [
  {
   "cell_type": "code",
   "execution_count": 1,
   "metadata": {},
   "outputs": [],
   "source": [
    "import pandas as pd\n",
    "import numpy as np\n",
    "from utils.clean_shipper import clean_row"
   ]
  },
  {
   "cell_type": "code",
   "execution_count": 29,
   "metadata": {},
   "outputs": [],
   "source": [
    "pd.set_option('display.max_rows', 100)"
   ]
  },
  {
   "cell_type": "code",
   "execution_count": 4,
   "metadata": {},
   "outputs": [],
   "source": [
    "ct = pd.read_csv('/Users/jesseputnam/cs-learning/skillstorm/project01/data/final/countries.csv')"
   ]
  },
  {
   "cell_type": "markdown",
   "metadata": {},
   "source": [
    "## Country Work"
   ]
  },
  {
   "cell_type": "code",
   "execution_count": 2,
   "metadata": {},
   "outputs": [],
   "source": [
    "countries_cols = ['name', 'alpha-2', 'region', 'sub-region']\n",
    "countries = pd.read_csv('/Users/jesseputnam/cs-learning/skillstorm/project01/data/all.csv', usecols=countries_cols, keep_default_na=False)\n",
    "\n",
    "# Change countries index column to be alpha-2 values and rename to id\n",
    "countries.set_index('alpha-2', inplace=True)\n",
    "countries.index.name = 'id'\n",
    "\n",
    "alpha_2_set = set(countries.index)\n",
    "\n",
    "country_dict = {x[1].upper(): x[0] for x in countries.itertuples()}\n",
    "country_dict['TAIWAN'] = 'TW'\n",
    "country_dict['SOUTH KOREA'] = 'KR'\n",
    "country_dict['SHANGHAI CN'] = 'CN'\n",
    "country_dict['SHANGHAI'] = 'CN'\n",
    "country_dict['SHANGHAI .'] = 'CN'\n",
    "country_dict['HONG KONG .'] = 'CN'\n",
    "country_dict['TAIPEI .'] = 'TW'"
   ]
  },
  {
   "cell_type": "code",
   "execution_count": 6,
   "metadata": {},
   "outputs": [],
   "source": [
    "countries_file_path = '/Users/jesseputnam/cs-learning/skillstorm/project01/data/final/countries.csv'\n",
    "countries.to_csv(countries_file_path)"
   ]
  },
  {
   "cell_type": "code",
   "execution_count": 7,
   "metadata": {},
   "outputs": [],
   "source": [
    "header_keep_cols = ['conveyance_id', 'vessel_name', 'vessel_country_code', 'carrier_code', 'identifier', 'estimated_arrival_date', 'actual_arrival_date', 'foreign_port_of_lading', 'place_of_receipt', 'port_of_unlading', 'record_status_indicator']\n",
    "\n",
    "header_2018_0 = pd.read_csv('/Users/jesseputnam/cs-learning/skillstorm/project01/data/2018/header_2018_part_0.csv', parse_dates=['estimated_arrival_date', 'actual_arrival_date'], usecols=header_keep_cols)"
   ]
  },
  {
   "cell_type": "code",
   "execution_count": null,
   "metadata": {},
   "outputs": [
    {
     "data": {
      "text/html": [
       "<div>\n",
       "<style scoped>\n",
       "    .dataframe tbody tr th:only-of-type {\n",
       "        vertical-align: middle;\n",
       "    }\n",
       "\n",
       "    .dataframe tbody tr th {\n",
       "        vertical-align: top;\n",
       "    }\n",
       "\n",
       "    .dataframe thead th {\n",
       "        text-align: right;\n",
       "    }\n",
       "</style>\n",
       "<table border=\"1\" class=\"dataframe\">\n",
       "  <thead>\n",
       "    <tr style=\"text-align: right;\">\n",
       "      <th></th>\n",
       "      <th>identifier</th>\n",
       "      <th>carrier_code</th>\n",
       "      <th>vessel_country_code</th>\n",
       "      <th>vessel_name</th>\n",
       "      <th>port_of_unlading</th>\n",
       "      <th>estimated_arrival_date</th>\n",
       "      <th>foreign_port_of_lading</th>\n",
       "      <th>record_status_indicator</th>\n",
       "      <th>place_of_receipt</th>\n",
       "      <th>conveyance_id</th>\n",
       "      <th>actual_arrival_date</th>\n",
       "    </tr>\n",
       "  </thead>\n",
       "  <tbody>\n",
       "    <tr>\n",
       "      <th>1026717</th>\n",
       "      <td>2018012038125</td>\n",
       "      <td>EGLV</td>\n",
       "      <td>GB</td>\n",
       "      <td>EVER SIGMA</td>\n",
       "      <td>Los Angeles, California</td>\n",
       "      <td>2018-01-18</td>\n",
       "      <td>Yantian,China (Mainland)</td>\n",
       "      <td>New</td>\n",
       "      <td>YANTIAN, CHINA</td>\n",
       "      <td>9300398</td>\n",
       "      <td>2018-01-19</td>\n",
       "    </tr>\n",
       "  </tbody>\n",
       "</table>\n",
       "</div>"
      ],
      "text/plain": [
       "            identifier carrier_code vessel_country_code vessel_name  \\\n",
       "1026717  2018012038125         EGLV                  GB  EVER SIGMA   \n",
       "\n",
       "                port_of_unlading estimated_arrival_date  \\\n",
       "1026717  Los Angeles, California             2018-01-18   \n",
       "\n",
       "           foreign_port_of_lading record_status_indicator place_of_receipt  \\\n",
       "1026717  Yantian,China (Mainland)                     New   YANTIAN, CHINA   \n",
       "\n",
       "        conveyance_id actual_arrival_date  \n",
       "1026717       9300398          2018-01-19  "
      ]
     },
     "execution_count": 105,
     "metadata": {},
     "output_type": "execute_result"
    }
   ],
   "source": [
    "# header_2018_0.info()\n",
    "# header_2018_0[header_2018_0['record_status_indicator'] == 'Deleted']\n",
    "# header_2018_0[['vessel_name', 'vessel_country_code']].value_counts(sort=False).tail(100)\n",
    "# header_2018_0[['vessel_name', 'vessel_country_code', 'carrier_code']].value_counts(sort=False).tail(100)\n",
    "# header_2018_0.loc[header_2018_0['vessel_name'] == 'EVER SIGMA']\n",
    "# header_2018_0[['port_of_unlading', 'foreign_port_of_lading']].value_counts()\n",
    "header_2018_0[header_2018_0['identifier'] == 2018012038125]"
   ]
  },
  {
   "cell_type": "code",
   "execution_count": null,
   "metadata": {},
   "outputs": [],
   "source": [
    "header_2018_0.info()"
   ]
  },
  {
   "cell_type": "markdown",
   "metadata": {},
   "source": [
    "# Shipper work"
   ]
  },
  {
   "cell_type": "code",
   "execution_count": 9,
   "metadata": {},
   "outputs": [],
   "source": [
    "shipper_sample = pd.read_csv('/Users/jesseputnam/cs-learning/skillstorm/project01/data/sample/shipper_2018.csv')"
   ]
  },
  {
   "cell_type": "code",
   "execution_count": 3,
   "metadata": {},
   "outputs": [],
   "source": [
    "shipper_keep_cols = ['identifier', 'shipper_party_name', 'shipper_party_address_1', 'shipper_party_address_2', 'shipper_party_address_3', 'shipper_party_address_4', 'country_code']\n",
    "\n",
    "shipper_2018_0 = pd.read_csv('/Users/jesseputnam/cs-learning/skillstorm/project01/data/2018/shipper_2018_part_0.csv', index_col=False, usecols=shipper_keep_cols)\n",
    "\n",
    "# Dealing with missing names\n",
    "shipper_2018_0['shipper_party_name'].fillna('N/A', inplace=True)"
   ]
  },
  {
   "cell_type": "code",
   "execution_count": 4,
   "metadata": {},
   "outputs": [],
   "source": [
    "shipper_test = shipper_2018_0.apply(lambda row: clean_row(row, alpha_2_set, country_dict), axis=1)"
   ]
  },
  {
   "cell_type": "code",
   "execution_count": 6,
   "metadata": {},
   "outputs": [],
   "source": [
    "shipper_test = shipper_test[['identifier', 'shipper_party_name', 'country_code']]"
   ]
  },
  {
   "cell_type": "code",
   "execution_count": 8,
   "metadata": {},
   "outputs": [
    {
     "name": "stdout",
     "output_type": "stream",
     "text": [
      "<class 'pandas.core.frame.DataFrame'>\n",
      "RangeIndex: 10000000 entries, 0 to 9999999\n",
      "Data columns (total 3 columns):\n",
      " #   Column              Non-Null Count     Dtype \n",
      "---  ------              --------------     ----- \n",
      " 0   identifier          10000000 non-null  int64 \n",
      " 1   shipper_party_name  10000000 non-null  object\n",
      " 2   country_code        3208767 non-null   object\n",
      "dtypes: int64(1), object(2)\n",
      "memory usage: 228.9+ MB\n"
     ]
    }
   ],
   "source": [
    "shipper_test.info(show_counts=True)"
   ]
  },
  {
   "cell_type": "markdown",
   "metadata": {},
   "source": [
    "### Dealing with Names"
   ]
  },
  {
   "cell_type": "code",
   "execution_count": 12,
   "metadata": {},
   "outputs": [],
   "source": [
    "shipper_sample_cleaned = shipper_sample.apply(lambda row: clean_row(row, alpha_2_set, country_dict), axis=1)\n",
    "shipper_sample_cleaned = shipper_sample_cleaned[['identifier', 'shipper_party_name', 'country_code']]"
   ]
  },
  {
   "cell_type": "code",
   "execution_count": 14,
   "metadata": {},
   "outputs": [
    {
     "name": "stdout",
     "output_type": "stream",
     "text": [
      "<class 'pandas.core.frame.DataFrame'>\n",
      "RangeIndex: 499 entries, 0 to 498\n",
      "Data columns (total 3 columns):\n",
      " #   Column              Non-Null Count  Dtype \n",
      "---  ------              --------------  ----- \n",
      " 0   identifier          499 non-null    int64 \n",
      " 1   shipper_party_name  499 non-null    object\n",
      " 2   country_code        187 non-null    object\n",
      "dtypes: int64(1), object(2)\n",
      "memory usage: 11.8+ KB\n"
     ]
    }
   ],
   "source": []
  },
  {
   "cell_type": "markdown",
   "metadata": {},
   "source": [
    "## Mapping names to id numbers"
   ]
  },
  {
   "cell_type": "code",
   "execution_count": 22,
   "metadata": {},
   "outputs": [
    {
     "data": {
      "text/html": [
       "<div>\n",
       "<style scoped>\n",
       "    .dataframe tbody tr th:only-of-type {\n",
       "        vertical-align: middle;\n",
       "    }\n",
       "\n",
       "    .dataframe tbody tr th {\n",
       "        vertical-align: top;\n",
       "    }\n",
       "\n",
       "    .dataframe thead th {\n",
       "        text-align: right;\n",
       "    }\n",
       "</style>\n",
       "<table border=\"1\" class=\"dataframe\">\n",
       "  <thead>\n",
       "    <tr style=\"text-align: right;\">\n",
       "      <th></th>\n",
       "      <th>identifier</th>\n",
       "      <th>shipper_party_name</th>\n",
       "      <th>country_code</th>\n",
       "      <th>id</th>\n",
       "    </tr>\n",
       "  </thead>\n",
       "  <tbody>\n",
       "    <tr>\n",
       "      <th>0</th>\n",
       "      <td>201801010</td>\n",
       "      <td>JET FAST COMPANY LIMITED</td>\n",
       "      <td>TW</td>\n",
       "      <td>0</td>\n",
       "    </tr>\n",
       "    <tr>\n",
       "      <th>1</th>\n",
       "      <td>201801011</td>\n",
       "      <td>UNION WONDERFUL MACHINERY LTD.</td>\n",
       "      <td>TW</td>\n",
       "      <td>1</td>\n",
       "    </tr>\n",
       "    <tr>\n",
       "      <th>2</th>\n",
       "      <td>201801012</td>\n",
       "      <td>SUMEEKO INDUSTRIES CO.,LTD.</td>\n",
       "      <td>TW</td>\n",
       "      <td>2</td>\n",
       "    </tr>\n",
       "    <tr>\n",
       "      <th>3</th>\n",
       "      <td>201801013</td>\n",
       "      <td>YUTY INDUSTRIES CO. LTD.</td>\n",
       "      <td>TW</td>\n",
       "      <td>3</td>\n",
       "    </tr>\n",
       "    <tr>\n",
       "      <th>4</th>\n",
       "      <td>201801014</td>\n",
       "      <td>BE SOUND CO., LTD.</td>\n",
       "      <td>TW</td>\n",
       "      <td>4</td>\n",
       "    </tr>\n",
       "    <tr>\n",
       "      <th>...</th>\n",
       "      <td>...</td>\n",
       "      <td>...</td>\n",
       "      <td>...</td>\n",
       "      <td>...</td>\n",
       "    </tr>\n",
       "    <tr>\n",
       "      <th>494</th>\n",
       "      <td>20180101612</td>\n",
       "      <td>CHIN LIH HSING PRECISION</td>\n",
       "      <td>NaN</td>\n",
       "      <td>364</td>\n",
       "    </tr>\n",
       "    <tr>\n",
       "      <th>495</th>\n",
       "      <td>20180101613</td>\n",
       "      <td>CHIN LIH HSING PRECISION</td>\n",
       "      <td>NaN</td>\n",
       "      <td>364</td>\n",
       "    </tr>\n",
       "    <tr>\n",
       "      <th>496</th>\n",
       "      <td>20180101614</td>\n",
       "      <td>NEW LAND LIGHTING(HK) INDUSTRY CO.,</td>\n",
       "      <td>NaN</td>\n",
       "      <td>365</td>\n",
       "    </tr>\n",
       "    <tr>\n",
       "      <th>497</th>\n",
       "      <td>20180101615</td>\n",
       "      <td>AURORA AUTO PARTS C.,LTD</td>\n",
       "      <td>CN</td>\n",
       "      <td>366</td>\n",
       "    </tr>\n",
       "    <tr>\n",
       "      <th>498</th>\n",
       "      <td>20180101616</td>\n",
       "      <td>IBS ASIA CORPORATION</td>\n",
       "      <td>HK</td>\n",
       "      <td>367</td>\n",
       "    </tr>\n",
       "  </tbody>\n",
       "</table>\n",
       "<p>499 rows × 4 columns</p>\n",
       "</div>"
      ],
      "text/plain": [
       "      identifier                   shipper_party_name country_code   id\n",
       "0      201801010             JET FAST COMPANY LIMITED           TW    0\n",
       "1      201801011       UNION WONDERFUL MACHINERY LTD.           TW    1\n",
       "2      201801012          SUMEEKO INDUSTRIES CO.,LTD.           TW    2\n",
       "3      201801013             YUTY INDUSTRIES CO. LTD.           TW    3\n",
       "4      201801014                   BE SOUND CO., LTD.           TW    4\n",
       "..           ...                                  ...          ...  ...\n",
       "494  20180101612             CHIN LIH HSING PRECISION          NaN  364\n",
       "495  20180101613             CHIN LIH HSING PRECISION          NaN  364\n",
       "496  20180101614  NEW LAND LIGHTING(HK) INDUSTRY CO.,          NaN  365\n",
       "497  20180101615             AURORA AUTO PARTS C.,LTD           CN  366\n",
       "498  20180101616                 IBS ASIA CORPORATION           HK  367\n",
       "\n",
       "[499 rows x 4 columns]"
      ]
     },
     "execution_count": 22,
     "metadata": {},
     "output_type": "execute_result"
    }
   ],
   "source": [
    "shipper_id_dict = {}\n",
    "shipper_id_count = 0\n",
    "\n",
    "for name in shipper_sample_cleaned['shipper_party_name'].unique():\n",
    "    shipper_id_dict[name] = shipper_id_count\n",
    "    shipper_id_count += 1\n",
    "\n",
    "shipper_sample_cleaned['id'] = shipper_sample_cleaned['shipper_party_name'].map(shipper_id_dict)\n",
    "shipper_sample_cleaned\n"
   ]
  },
  {
   "cell_type": "markdown",
   "metadata": {},
   "source": [
    "### Combine shipper csv's to one file"
   ]
  },
  {
   "cell_type": "code",
   "execution_count": 26,
   "metadata": {},
   "outputs": [],
   "source": [
    "shipper_raw_path = '/Users/jesseputnam/cs-learning/skillstorm/project01/data/final_raw/shipper.csv'\n",
    "\n",
    "shipper_0 = pd.read_csv('/Users/jesseputnam/cs-learning/skillstorm/project01/data/2018/shipper_2018_part_0.csv', usecols=shipper_keep_cols)\n",
    "shipper_1 = pd.read_csv('/Users/jesseputnam/cs-learning/skillstorm/project01/data/2018/shipper_2018_part_1.csv', usecols=shipper_keep_cols)\n",
    "shipper_2 = pd.read_csv('/Users/jesseputnam/cs-learning/skillstorm/project01/data/2019/shipper_2019_part_0.csv', usecols=shipper_keep_cols)\n",
    "shipper_3 = pd.read_csv('/Users/jesseputnam/cs-learning/skillstorm/project01/data/2019/shipper_2019_part_1.csv', usecols=shipper_keep_cols)\n",
    "shipper_4 = pd.read_csv('/Users/jesseputnam/cs-learning/skillstorm/project01/data/2020/shipper_2020_part_0.csv', usecols=shipper_keep_cols)\n",
    "shipper_5 = pd.read_csv('/Users/jesseputnam/cs-learning/skillstorm/project01/data/2020/shipper_2020_part_1.csv', usecols=shipper_keep_cols)"
   ]
  },
  {
   "cell_type": "code",
   "execution_count": 27,
   "metadata": {},
   "outputs": [],
   "source": [
    "shipper_0.to_csv(shipper_raw_path, mode='x')\n",
    "shipper_1.to_csv(shipper_raw_path, mode='a')\n",
    "shipper_2.to_csv(shipper_raw_path, mode='a')\n",
    "shipper_3.to_csv(shipper_raw_path, mode='a')\n",
    "shipper_4.to_csv(shipper_raw_path, mode='a')\n",
    "shipper_5.to_csv(shipper_raw_path, mode='a')"
   ]
  }
 ],
 "metadata": {
  "kernelspec": {
   "display_name": "Python 3",
   "language": "python",
   "name": "python3"
  },
  "language_info": {
   "codemirror_mode": {
    "name": "ipython",
    "version": 3
   },
   "file_extension": ".py",
   "mimetype": "text/x-python",
   "name": "python",
   "nbconvert_exporter": "python",
   "pygments_lexer": "ipython3",
   "version": "3.11.5"
  },
  "orig_nbformat": 4
 },
 "nbformat": 4,
 "nbformat_minor": 2
}
