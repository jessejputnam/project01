{
 "cells": [
  {
   "cell_type": "markdown",
   "metadata": {},
   "source": [
    "# Proposal"
   ]
  },
  {
   "cell_type": "markdown",
   "metadata": {},
   "source": [
    "## Use Case"
   ]
  },
  {
   "cell_type": "markdown",
   "metadata": {},
   "source": [
    "#### Big Question\n",
    "- Which shippers are most/least reliable (arrival time delta between estimated and actual)?\n",
    "\n",
    "#### Sub Questions\n",
    "- Which are the most reliable shippers per country/region/subregion\n",
    "- Which carrier companies are the most reliable?\n",
    "- What, if any, were the reliability changes over the years?\n",
    "    - How did covid affect reliability metrics of shipment times?\n",
    "- Which consignees chose their shippers wisest?"
   ]
  },
  {
   "cell_type": "markdown",
   "metadata": {},
   "source": [
    "# ETL Pipeline"
   ]
  },
  {
   "cell_type": "code",
   "execution_count": 1,
   "metadata": {},
   "outputs": [],
   "source": [
    "import pandas as pd\n",
    "\n",
    "from lib.utils import get_id_nums, clean_row, remove_incorrect_codes, data_fetch_url, data_send_url"
   ]
  },
  {
   "cell_type": "markdown",
   "metadata": {},
   "source": [
    "## Countries"
   ]
  },
  {
   "cell_type": "markdown",
   "metadata": {},
   "source": [
    "- Get table of countries with alpha-2 code that includes region from repository\n",
    "    - https://github.com/lukes/ISO-3166-Countries-with-Regional-Codes"
   ]
  },
  {
   "cell_type": "code",
   "execution_count": 28,
   "metadata": {},
   "outputs": [],
   "source": [
    "countries_cols = ['name', 'alpha-2', 'region', 'sub-region']\n",
    "# keep_default_na=False because Namibia's code is NA\n",
    "countries = pd.read_csv(data_send_url('bronze', 'country_data'), usecols=countries_cols, keep_default_na=False)\n",
    "\n",
    "extra_codes = pd.DataFrame(\n",
    "    {'name': ['Czechia', 'Netherland Antilles', 'Germany', 'European Union'], \n",
    "    'alpha-2': ['XC', 'AN', 'DD', 'EU'], \n",
    "    'region': ['Europe', 'Americas', 'Europe', 'Europe'], \n",
    "    'sub-region': ['Eastern Europe', 'Latin America and the Caribbean', 'Western Europe', 'Western Europe']}\n",
    "    )\n",
    "\n",
    "extra_codes\n",
    "countries = pd.concat([countries, extra_codes], ignore_index=True, keys=['alpha-2', 'name'])\n",
    "\n",
    "# Change countries index column to be alpha-2 values and rename to id\n",
    "countries.set_index('alpha-2', inplace=True)\n",
    "countries.index.name = 'id'\n",
    "countries.sort_index(inplace=True)\n",
    "\n",
    "# Create country code set with O(1) lookup for table cleaning\n",
    "alpha_2_set = set(countries.index)\n",
    "\n",
    "# Create country name dictionary with O(1) lookup for table cleaning\n",
    "country_dict = {x[1].upper(): x[0] for x in countries.itertuples()}\n",
    "\n",
    "# Add some statistically siginificant outliers, including common 2 common 'typos'\n",
    "country_dict['TAIWAN'] = 'TW'\n",
    "country_dict['SOUTH KOREA'] = 'KR'\n",
    "country_dict['SHANGHAI CN'] = 'CN'\n",
    "country_dict['SHANGHAI'] = 'CN'\n",
    "country_dict['SHANGHAI .'] = 'CN'\n",
    "country_dict['HONG KONG .'] = 'CN'\n",
    "country_dict['TAIPEI .'] = 'TW'\n",
    "country_dict['USA'] = 'US'\n",
    "country_dict['U.S.A.'] = 'US'"
   ]
  },
  {
   "cell_type": "markdown",
   "metadata": {},
   "source": [
    "## Shipper"
   ]
  },
  {
   "cell_type": "markdown",
   "metadata": {},
   "source": [
    "- Read CSVs to DataFrames with only necessary columns"
   ]
  },
  {
   "cell_type": "code",
   "execution_count": 8,
   "metadata": {},
   "outputs": [],
   "source": [
    "shipper_0 = pd.read_csv(data_fetch_url('bronze', 'shipper', '18', '0'))\n",
    "shipper_1 = pd.read_csv(data_fetch_url('bronze', 'shipper', '18', '1'))\n",
    "shipper_2 = pd.read_csv(data_fetch_url('bronze', 'shipper', '19', '0'))\n",
    "shipper_3 = pd.read_csv(data_fetch_url('bronze', 'shipper', '19', '1'))\n",
    "shipper_4 = pd.read_csv(data_fetch_url('bronze', 'shipper', '20', '0'))\n",
    "shipper_5 = pd.read_csv(data_fetch_url('bronze', 'shipper', '20', '1'))"
   ]
  },
  {
   "cell_type": "markdown",
   "metadata": {},
   "source": [
    "- Concatenate shippers DataFrames to single DataFrame"
   ]
  },
  {
   "cell_type": "code",
   "execution_count": 9,
   "metadata": {},
   "outputs": [],
   "source": [
    "shippers = pd.concat([shipper_0, shipper_1, shipper_2, shipper_3, shipper_4, shipper_5], ignore_index=True)"
   ]
  },
  {
   "cell_type": "code",
   "execution_count": 8,
   "metadata": {},
   "outputs": [],
   "source": [
    "# Replace NaN in name with Unknown\n",
    "shippers['shipper_party_name'].fillna('N/A', inplace=True)"
   ]
  },
  {
   "cell_type": "markdown",
   "metadata": {},
   "source": [
    "- Clean shipper rows and remove remaining unnecessary columns - (see utils.py for **CLEAN_ROW** function)"
   ]
  },
  {
   "cell_type": "code",
   "execution_count": 9,
   "metadata": {},
   "outputs": [],
   "source": [
    "shipper_clean = shippers.apply(lambda row: clean_row(row, 'shipper_party', alpha_2_set, country_dict), axis=1)"
   ]
  },
  {
   "cell_type": "markdown",
   "metadata": {},
   "source": [
    "- **Result:** out of 40,240,366 values\n",
    "\n",
    "\n",
    "|  | Before Cleaning | After Cleaning |\n",
    "| - | - | - |\n",
    "| country_codes #| 9,911,774 | 13,100,153| \n",
    "| country_codes %| 24.6% | 32.55% |"
   ]
  },
  {
   "cell_type": "markdown",
   "metadata": {},
   "source": [
    "- Create shipper id column and map IDs by name - (see utils.py for **GET_ID_NUMS** function)"
   ]
  },
  {
   "cell_type": "code",
   "execution_count": 13,
   "metadata": {},
   "outputs": [],
   "source": [
    "shipper_id_dict = get_id_nums(shipper_clean['shipper_party_name'])\n",
    "shipper_clean['shipper_id'] = shipper_clean['shipper_party_name'].map(shipper_id_dict)"
   ]
  },
  {
   "cell_type": "markdown",
   "metadata": {},
   "source": [
    "- Write cleaned data to CSV (time consuming process -- no mistakes)"
   ]
  },
  {
   "cell_type": "code",
   "execution_count": null,
   "metadata": {},
   "outputs": [],
   "source": [
    "shipper_fail_safe_path = data_send_url('fail_safe', 'shipper_clean')\n",
    "shipper_clean.to_csv(shipper_fail_safe_path, mode='w')"
   ]
  },
  {
   "cell_type": "markdown",
   "metadata": {},
   "source": [
    "## Consignee"
   ]
  },
  {
   "cell_type": "markdown",
   "metadata": {},
   "source": [
    "- copy CSVs to DataFrames"
   ]
  },
  {
   "cell_type": "code",
   "execution_count": 27,
   "metadata": {},
   "outputs": [],
   "source": [
    "consignee_0 = pd.read_csv(data_fetch_url('bronze', 'consignee', '18', '0'))\n",
    "consignee_1 = pd.read_csv(data_fetch_url('bronze', 'consignee', '18', '1'))\n",
    "consignee_2 = pd.read_csv(data_fetch_url('bronze', 'consignee', '19', '0'))\n",
    "consignee_3 = pd.read_csv(data_fetch_url('bronze', 'consignee', '19', '1'))\n",
    "consignee_4 = pd.read_csv(data_fetch_url('bronze', 'consignee', '20', '0'))\n",
    "consignee_5 = pd.read_csv(data_fetch_url('bronze', 'consignee', '20', '1'))"
   ]
  },
  {
   "cell_type": "markdown",
   "metadata": {},
   "source": [
    "- Concatenate to single DataFrame"
   ]
  },
  {
   "cell_type": "code",
   "execution_count": 29,
   "metadata": {},
   "outputs": [],
   "source": [
    "consignees = pd.concat([consignee_0, consignee_1, consignee_2, consignee_3, consignee_4, consignee_5], ignore_index=True)"
   ]
  },
  {
   "cell_type": "markdown",
   "metadata": {},
   "source": [
    "- Fill NaN names with N/A"
   ]
  },
  {
   "cell_type": "code",
   "execution_count": 9,
   "metadata": {},
   "outputs": [],
   "source": [
    "consignees['consignee_name'].fillna('N/A', inplace=True)"
   ]
  },
  {
   "cell_type": "markdown",
   "metadata": {},
   "source": [
    "- Clean names and country codes, remove unneceessary columns"
   ]
  },
  {
   "cell_type": "code",
   "execution_count": null,
   "metadata": {},
   "outputs": [],
   "source": [
    "consignee_clean = consignees.apply(lambda row: clean_row(row, 'consignee', alpha_2_set, country_dict), axis=1)"
   ]
  },
  {
   "cell_type": "markdown",
   "metadata": {},
   "source": [
    "- Map IDs to consignees by name"
   ]
  },
  {
   "cell_type": "code",
   "execution_count": 37,
   "metadata": {},
   "outputs": [],
   "source": [
    "consignee_id_dict = get_id_nums(consignee_clean['consignee_name'])\n",
    "consignee_clean['consignee_id'] = consignee_clean['consignee_name'].map(consignee_id_dict)"
   ]
  },
  {
   "cell_type": "markdown",
   "metadata": {},
   "source": [
    "- Save expensive task to CSV in case of errors"
   ]
  },
  {
   "cell_type": "code",
   "execution_count": 38,
   "metadata": {},
   "outputs": [],
   "source": [
    "consignee_fail_safe_path = data_send_url('fail_safe', 'consignee_clean')\n",
    "consignee_clean.to_csv(consignee_fail_safe_path, mode='w')"
   ]
  },
  {
   "cell_type": "markdown",
   "metadata": {},
   "source": [
    "## Header"
   ]
  },
  {
   "cell_type": "markdown",
   "metadata": {},
   "source": [
    "- Read header CSV files"
   ]
  },
  {
   "cell_type": "code",
   "execution_count": null,
   "metadata": {},
   "outputs": [],
   "source": [
    "header_0 = pd.read_csv(data_fetch_url('bronze', 'header', '18', '0'))\n",
    "header_1 = pd.read_csv(data_fetch_url('bronze', 'header', '18', '1'))\n",
    "header_2 = pd.read_csv(data_fetch_url('bronze', 'header', '18', '2'))\n",
    "header_3 = pd.read_csv(data_fetch_url('bronze', 'header', '18', '3'))\n",
    "header_4 = pd.read_csv(data_fetch_url('bronze', 'header', '19', '0'))\n",
    "header_5 = pd.read_csv(data_fetch_url('bronze', 'header', '19', '1'))\n",
    "header_6 = pd.read_csv(data_fetch_url('bronze', 'header', '19', '2'))\n",
    "header_7 = pd.read_csv(data_fetch_url('bronze', 'header', '19', '3'))\n",
    "header_8 = pd.read_csv(data_fetch_url('bronze', 'header', '20', '0'))\n",
    "header_9 = pd.read_csv(data_fetch_url('bronze', 'header', '20', '1'))\n",
    "header_10 = pd.read_csv(data_fetch_url('bronze', 'header', '20', '2'))"
   ]
  },
  {
   "cell_type": "markdown",
   "metadata": {},
   "source": [
    "- Concat to a single DataFrame"
   ]
  },
  {
   "cell_type": "code",
   "execution_count": 3,
   "metadata": {},
   "outputs": [],
   "source": [
    "headers = pd.concat([header_0, header_1, header_2, header_3, header_4, header_5, header_6, header_7, header_8, header_9, header_10], ignore_index=True)"
   ]
  },
  {
   "cell_type": "markdown",
   "metadata": {},
   "source": [
    "### Vessel Table"
   ]
  },
  {
   "cell_type": "markdown",
   "metadata": {},
   "source": [
    "- Separate out vessel table"
   ]
  },
  {
   "cell_type": "code",
   "execution_count": 5,
   "metadata": {},
   "outputs": [],
   "source": [
    "vessel_silver_cols = ['vessel_name', 'vessel_country_code', 'carrier_code', 'conveyance_id_qualifier', 'conveyance_id']\n",
    "vessels = headers[['identifier'] + vessel_silver_cols]\n",
    "vessels.loc[:, 'vessel_name'] = vessels['vessel_name'].fillna('N/A')\n",
    "vessels.loc[:, 'vessel_country_code'] = vessels['vessel_country_code'].fillna('N/A')"
   ]
  },
  {
   "cell_type": "markdown",
   "metadata": {},
   "source": [
    "- Get unique vessels from name + country and assign ids"
   ]
  },
  {
   "cell_type": "code",
   "execution_count": null,
   "metadata": {},
   "outputs": [],
   "source": [
    "vessels['temp'] = vessels['vessel_name'] + ' ' + vessels['vessel_country_code']\n",
    "vessel_id_dict = get_id_nums(vessels['temp'])\n",
    "vessels['vessel_id'] = vessels['temp'].map(vessel_id_dict)"
   ]
  },
  {
   "cell_type": "markdown",
   "metadata": {},
   "source": [
    "- Merge with header on identifier to assign vessel_id as foreign key"
   ]
  },
  {
   "cell_type": "code",
   "execution_count": 7,
   "metadata": {},
   "outputs": [],
   "source": [
    "headers = headers.merge(vessels[['identifier', 'vessel_id']], on=['identifier'], how='inner')"
   ]
  },
  {
   "cell_type": "markdown",
   "metadata": {},
   "source": [
    "- Remove repeat vessels, drop identifier and temp column, set index as id"
   ]
  },
  {
   "cell_type": "code",
   "execution_count": 22,
   "metadata": {},
   "outputs": [],
   "source": [
    "vessels.drop_duplicates(subset=['temp'], inplace=True)\n",
    "vessels.drop(labels=['identifier', 'temp'], axis=1, inplace=True)\n",
    "vessels.set_index(keys='vessel_id', inplace=True)"
   ]
  },
  {
   "cell_type": "markdown",
   "metadata": {},
   "source": [
    "- Remove erroneous or unknown country codes"
   ]
  },
  {
   "cell_type": "code",
   "execution_count": 30,
   "metadata": {},
   "outputs": [],
   "source": [
    "vessels['vessel_country_code'] = vessels['vessel_country_code'].apply(lambda row: remove_incorrect_codes(row, alpha_2_set))"
   ]
  },
  {
   "cell_type": "markdown",
   "metadata": {},
   "source": [
    "- Remove vessel columns and columns with non-nulls <= 10%"
   ]
  },
  {
   "cell_type": "code",
   "execution_count": 9,
   "metadata": {},
   "outputs": [],
   "source": [
    "notify = 'secondary_notify_party_'\n",
    "insig_cols = [\n",
    "        'port_of_destination', \n",
    "        'foreign_port_of_destination', \n",
    "        'foreign_port_of_destination_qualifier', \n",
    "        'in_bond_entry_type', \n",
    "        notify + '2', notify + '3', notify + '4', notify + '5', \n",
    "        notify + '6', notify + '7', notify + '8', notify + '9', notify + '10'\n",
    "    ]\n",
    "\n",
    "headers.drop(vessel_silver_cols + insig_cols, inplace=True, axis=1)"
   ]
  },
  {
   "cell_type": "markdown",
   "metadata": {},
   "source": [
    "## Junction Tables"
   ]
  },
  {
   "cell_type": "code",
   "execution_count": 42,
   "metadata": {},
   "outputs": [],
   "source": [
    "identifier_rename = {'identifier': 'shipment_id'}"
   ]
  },
  {
   "cell_type": "markdown",
   "metadata": {},
   "source": [
    "### Shipper_Shipment"
   ]
  },
  {
   "cell_type": "code",
   "execution_count": 36,
   "metadata": {},
   "outputs": [],
   "source": [
    "shipper_shipment = shipper_clean[['identifier', 'shipper_id']].copy()\n",
    "shipper_shipment.index.name = 'shipper_shipment_id'\n",
    "shipper_shipment.rename(columns=identifier_rename, inplace=True)"
   ]
  },
  {
   "cell_type": "markdown",
   "metadata": {},
   "source": [
    "### Consignee_Shipment"
   ]
  },
  {
   "cell_type": "code",
   "execution_count": 43,
   "metadata": {},
   "outputs": [],
   "source": [
    "consignee_shipment = consignee_clean[['identifier', 'consignee_id']].copy()\n",
    "consignee_shipment.index.name = 'cosignee_shipment_id'\n",
    "consignee_shipment.rename(columns=identifier_rename, inplace=True)"
   ]
  },
  {
   "cell_type": "markdown",
   "metadata": {},
   "source": [
    "## Silver Layer Creation"
   ]
  },
  {
   "cell_type": "markdown",
   "metadata": {},
   "source": [
    "![](/Users/jesseputnam/cs-learning/skillstorm/project01/silver_erd.png)"
   ]
  },
  {
   "cell_type": "markdown",
   "metadata": {},
   "source": [
    "- Remove identifier from consignee and shipper, drop duplicates on id, change index to IDs"
   ]
  },
  {
   "cell_type": "code",
   "execution_count": 63,
   "metadata": {},
   "outputs": [],
   "source": [
    "shipper_clean.drop(['identifier'], axis=1, inplace=True)\n",
    "shipper_clean.drop_duplicates(subset=['shipper_id'], inplace=True)\n",
    "shipper_clean.set_index(['shipper_id'], inplace=True)"
   ]
  },
  {
   "cell_type": "code",
   "execution_count": 71,
   "metadata": {},
   "outputs": [],
   "source": [
    "consignee_clean.drop(['identifier'], axis=1, inplace=True)\n",
    "consignee_clean.drop_duplicates(subset=['consignee_id'], inplace=True)\n",
    "consignee_clean.set_index(['consignee_id'], inplace=True)"
   ]
  },
  {
   "cell_type": "markdown",
   "metadata": {},
   "source": [
    "- Change index on header to identifier"
   ]
  },
  {
   "cell_type": "code",
   "execution_count": null,
   "metadata": {},
   "outputs": [],
   "source": [
    "headers.set_index(['identifier'], inplace=True)\n",
    "headers.index.name = 'shipment_id'"
   ]
  },
  {
   "cell_type": "markdown",
   "metadata": {},
   "source": [
    "- Upload shipper, shipment, shipper_shipment, consignee_shipment, consignee as as csv for SQL batch loading"
   ]
  },
  {
   "cell_type": "code",
   "execution_count": 34,
   "metadata": {},
   "outputs": [],
   "source": [
    "headers.to_csv(data_send_url('silver', 'shipment'), mode='w')\n",
    "vessels.to_csv(data_send_url('silver', 'vessel'), mode='w')\n",
    "shipper_clean.to_csv(data_send_url('silver', 'shipper'), mode='w')\n",
    "consignee_clean.to_csv(data_send_url('silver', 'consignee'), mode='w')\n",
    "shipper_shipment.to_csv(data_send_url('silver', 'shipper_shipment'), mode='w')\n",
    "consignee_shipment.to_csv(data_send_url('silver', 'consignee_shipment'), mode='w')\n",
    "countries.to_csv(data_send_url('silver', 'country'), mode='w')"
   ]
  },
  {
   "cell_type": "markdown",
   "metadata": {},
   "source": [
    "## Gold Layer Creation"
   ]
  },
  {
   "cell_type": "markdown",
   "metadata": {},
   "source": [
    "![ERD](/Users/jesseputnam/cs-learning/skillstorm/project01/erd.png)"
   ]
  },
  {
   "cell_type": "markdown",
   "metadata": {},
   "source": [
    "- Prep tables for Gold layer"
   ]
  },
  {
   "cell_type": "code",
   "execution_count": null,
   "metadata": {},
   "outputs": [],
   "source": [
    "shipper_clean.rename(columns={\"shipper_party_name\": \"shipper_name\"}, inplace=True)"
   ]
  },
  {
   "cell_type": "code",
   "execution_count": 16,
   "metadata": {},
   "outputs": [],
   "source": [
    "# Choose columns to keep\n",
    "shipper_cols = ['shipper_party_name', 'country_code']\n",
    "consignee_cols = ['consignee_name', 'country_code']\n",
    "header_cols = ['vessel_id', 'estimated_arrival_date','actual_arrival_date']\n",
    "vessel_cols = ['vessel_name', 'vessel_country_code', 'carrier_code']"
   ]
  },
  {
   "cell_type": "markdown",
   "metadata": {},
   "source": [
    "- Upload 'denormalized' gold layer tables to folder for virtual mount"
   ]
  },
  {
   "cell_type": "code",
   "execution_count": 19,
   "metadata": {},
   "outputs": [],
   "source": [
    "countries.to_csv(data_send_url('gold', 'country'), mode='w')\n",
    "vessels[vessel_cols].to_csv(data_send_url('gold', 'vessel'), mode='w')\n",
    "headers[header_cols].to_csv(data_send_url('gold', 'shipment'), mode='w')\n",
    "shipper_clean[shipper_cols].to_csv(data_send_url('gold', 'shipper'), mode='w')\n",
    "consignee_clean[consignee_cols].to_csv(data_send_url('gold', 'consignee'), mode='w')\n",
    "shipper_shipment.to_csv(data_send_url('gold', 'shipper_shipment'), mode='w')\n",
    "consignee_shipment.to_csv(data_send_url('gold', 'consignee_shipment'), mode='w')"
   ]
  },
  {
   "cell_type": "markdown",
   "metadata": {},
   "source": [
    "### Late Emendation"
   ]
  },
  {
   "cell_type": "markdown",
   "metadata": {},
   "source": [
    "- After everything, and only during SQL querying, I noticed an overlooked error -- dates outside the range of 2017-2020 which caused arrival deltas of between 300 and 3000 days.\n",
    "- Late into the project, with time not on my side, I decided to fix it at the gold layer - as crunching the data from the silver layer would take too much time\n",
    "- If I had more time, I would have added this cleaning step to the silver layer"
   ]
  },
  {
   "cell_type": "markdown",
   "metadata": {},
   "source": [
    "- My fix was to drop all dates outside the specified years"
   ]
  },
  {
   "cell_type": "code",
   "execution_count": 17,
   "metadata": {},
   "outputs": [],
   "source": [
    "sh_fix = pd.read_csv(data_send_url('gold', 'shipment'), parse_dates=['estimated_arrival_date', 'actual_arrival_date'], index_col=[0])"
   ]
  },
  {
   "cell_type": "code",
   "execution_count": 19,
   "metadata": {},
   "outputs": [],
   "source": [
    "sh_fixed = sh_fix[(sh_fix['estimated_arrival_date'].dt.year.isin([2018, 2019, 2020])) & (sh_fix['actual_arrival_date'].dt.year.isin([2018, 2019, 2020]))]"
   ]
  },
  {
   "cell_type": "code",
   "execution_count": 21,
   "metadata": {},
   "outputs": [],
   "source": [
    "sh_fixed.to_csv(data_send_url('gold', 'shipment'))"
   ]
  },
  {
   "cell_type": "markdown",
   "metadata": {},
   "source": [
    "### SQL Database "
   ]
  },
  {
   "cell_type": "code",
   "execution_count": 2,
   "metadata": {},
   "outputs": [],
   "source": [
    "import pyodbc\n",
    "import os"
   ]
  },
  {
   "cell_type": "code",
   "execution_count": 3,
   "metadata": {},
   "outputs": [],
   "source": [
    "server = os.getenv('SERVER')\n",
    "username = os.getenv('USER')\n",
    "password = os.getenv('PASSWORD')\n",
    "driver = os.getenv('DRIVER')"
   ]
  },
  {
   "cell_type": "markdown",
   "metadata": {},
   "source": [
    "#### SQL Table Creation"
   ]
  },
  {
   "cell_type": "code",
   "execution_count": 5,
   "metadata": {},
   "outputs": [
    {
     "name": "stdout",
     "output_type": "stream",
     "text": [
      "Connected Successfully!\n",
      "\n",
      "USE statement executed\n",
      "CREATE DATABASE statement executed\n",
      "USE statement executed\n",
      "CREATE TABLE statement executed\n",
      "CREATE TABLE statement executed\n",
      "CREATE TABLE statement executed\n",
      "CREATE TABLE statement executed\n",
      "CREATE TABLE statement executed\n",
      "CREATE TABLE statement executed\n",
      "CREATE TABLE statement executed\n",
      "Connection closed\n",
      "\n"
     ]
    }
   ],
   "source": [
    "create_tables_file = '/Users/jesseputnam/cs-learning/skillstorm/project01/sql/create_db_tables.sql'\n",
    "\n",
    "try: \n",
    "    conn = pyodbc.connect(driver=driver, server=server, uid=username, pwd=password, autocommit=True)\n",
    "    cursor = conn.cursor()\n",
    "    print(\"Connected Successfully!\\n\")\n",
    "    \n",
    "    with open(create_tables_file, 'r') as f:\n",
    "        sql_statements = f.read().replace('\\n', '').strip().split(\";\")\n",
    "        sql_statements = [x + ';' for x in sql_statements if x]\n",
    "\n",
    "        for statement in sql_statements:\n",
    "            cursor.execute(statement)\n",
    "\n",
    "            split = statement.split('    ')\n",
    "            if split[0].split()[0] == 'USE':\n",
    "                cmd_run = split[0].split()[0]\n",
    "            else:\n",
    "                cmd_run = f\"{split[1].split()[0]} {split[1].split()[1]}\"\n",
    "\n",
    "            print(f\"{cmd_run} statement executed\")\n",
    "\n",
    "except pyodbc.Error as e:\n",
    "    print(f\"Error: {e}\")\n",
    "finally:\n",
    "    if conn:\n",
    "        conn.close()\n",
    "        print('Connection closed\\n')\n",
    "    else:\n",
    "        print('No connection was established')"
   ]
  },
  {
   "cell_type": "markdown",
   "metadata": {},
   "source": [
    "#### Bulk Insert from Gold Layer"
   ]
  },
  {
   "cell_type": "code",
   "execution_count": 6,
   "metadata": {},
   "outputs": [
    {
     "name": "stdout",
     "output_type": "stream",
     "text": [
      "Connected Successfully!\n",
      "\n",
      "USE ams  statement executed\n",
      "BULK INSERT dbo.country statement executed\n",
      "BULK INSERT dbo.vessel statement executed\n",
      "BULK INSERT dbo.shipment statement executed\n",
      "BULK INSERT dbo.shipper statement executed\n",
      "BULK INSERT dbo.consignee statement executed\n",
      "BULK INSERT dbo.shipper_shipment statement executed\n",
      "BULK INSERT dbo.consignee_shipment statement executed\n",
      "\n",
      "Connection closed\n"
     ]
    }
   ],
   "source": [
    "bulk_load_file = '/Users/jesseputnam/cs-learning/skillstorm/project01/sql/load_db_tables.sql'\n",
    "\n",
    "try: \n",
    "    conn = pyodbc.connect(driver=driver, server=server, uid=username, pwd=password, autocommit=True)\n",
    "    cursor = conn.cursor()\n",
    "    print(\"Connected Successfully!\\n\")\n",
    "\n",
    "    with open(bulk_load_file, 'r') as f:\n",
    "        sql_statements = f.read().replace('\\n', '').split(\";\")\n",
    "        sql_statements = [x for x in sql_statements if x]\n",
    "\n",
    "        for statement in sql_statements:\n",
    "            cursor.execute(statement)\n",
    "            words = statement.split()\n",
    "            print(f\"{words[0]} {words[1]} {words[2] if len(words) > 2 else ''} statement executed\")\n",
    "\n",
    "except pyodbc.Error as e:\n",
    "    print(f\"Error: {e}\")\n",
    "finally:\n",
    "    if conn:\n",
    "        conn.close()\n",
    "        print('\\nConnection closed')\n",
    "    else:\n",
    "        print('\\nNo connection was established')"
   ]
  },
  {
   "cell_type": "markdown",
   "metadata": {},
   "source": [
    "# Analysis"
   ]
  },
  {
   "cell_type": "markdown",
   "metadata": {},
   "source": [
    "### SQL Queries"
   ]
  },
  {
   "cell_type": "code",
   "execution_count": 37,
   "metadata": {},
   "outputs": [],
   "source": [
    "# SELECT statements vars\n",
    "avg_delta = 'AVG(t.delta) AS avg_delta'\n",
    "total_shipments = 'COUNT(t.delta) AS total_shipments'\n",
    "delta = 'CAST(DATEDIFF(day, sh.estimated_arrival_date, sh.actual_arrival_date) AS FLOAT) AS delta'\n",
    "\n",
    "# JOIN statement vars\n",
    "shipper_shipment_to_shipment = 'shipper_shipment ss ON sh.shipment_id = ss.shipment_id'\n",
    "shipper_to_shipper_shipment = 'shipper s ON ss.shipper_id = s.shipper_id'\n",
    "country_to_shipper = 'country c ON s.shipper_country_code = c.country_id'\n",
    "vessel_to_shipment = 'vessel v ON sh.vessel_id = v.vessel_id'\n",
    "\n",
    "# WHERE statement vars\n",
    "years_equal = '(YEAR(sh.actual_arrival_date) = YEAR(sh.estimated_arrival_date))'\n",
    "delta_in_variance = 'ABS(DATEDIFF(day, sh.estimated_arrival_date, sh.actual_arrival_date)) < 60'\n",
    "min_shipments_met = 'delta_t.total_shipments > 100'\n",
    "\n",
    "\n",
    "statement_1 = f'''\n",
    "SELECT TOP 15 * FROM \n",
    "(\n",
    "    SELECT t.shipper_name, {avg_delta}, {total_shipments}\n",
    "    FROM \n",
    "        (\n",
    "            SELECT s.shipper_name, {delta}\n",
    "            FROM shipment sh\n",
    "            JOIN {shipper_shipment_to_shipment}\n",
    "            JOIN {shipper_to_shipper_shipment}\n",
    "            WHERE {years_equal} AND {delta_in_variance}\n",
    "        ) AS t\n",
    "    GROUP BY t.shipper_name\n",
    ") AS delta_t\n",
    "WHERE {min_shipments_met}\n",
    "ORDER BY delta_t.avg_delta ASC\n",
    "'''\n",
    "\n",
    "statement_2 = f'''\n",
    "SELECT TOP 15 * FROM \n",
    "(\n",
    "    SELECT t.shipper_name, {avg_delta}, {total_shipments}\n",
    "    FROM \n",
    "        (\n",
    "            SELECT s.shipper_name, {delta}\n",
    "            FROM shipment sh\n",
    "            JOIN {shipper_shipment_to_shipment}\n",
    "            JOIN {shipper_to_shipper_shipment}\n",
    "            WHERE {years_equal} AND {delta_in_variance}\n",
    "        ) AS t\n",
    "    GROUP BY t.shipper_name\n",
    ") AS delta_t\n",
    "WHERE {min_shipments_met}\n",
    "ORDER BY delta_t.avg_delta DESC\n",
    "'''\n",
    "\n",
    "statement_3 = f'''\n",
    "SELECT TOP 15 * FROM \n",
    "(\n",
    "    SELECT t.country_name, {avg_delta}, {total_shipments}\n",
    "    FROM \n",
    "        (\n",
    "            SELECT c.country_name, {delta}\n",
    "            FROM shipment sh\n",
    "            JOIN {shipper_shipment_to_shipment}\n",
    "            JOIN {shipper_to_shipper_shipment}\n",
    "            JOIN {country_to_shipper}\n",
    "            WHERE s.shipper_country_code IS NOT NULL AND {years_equal} AND {delta_in_variance}\n",
    "        ) AS t\n",
    "    GROUP BY t.country_name\n",
    ") AS delta_t\n",
    "WHERE {min_shipments_met}\n",
    "ORDER BY delta_t.avg_delta ASC\n",
    "'''\n",
    "\n",
    "statement_4 = f'''\n",
    "SELECT TOP 15 * FROM \n",
    "(\n",
    "    SELECT t.country_name, {avg_delta}, {total_shipments}\n",
    "    FROM \n",
    "        (\n",
    "            SELECT c.country_name, {delta}\n",
    "            FROM shipment sh\n",
    "            JOIN {shipper_shipment_to_shipment}\n",
    "            JOIN {shipper_to_shipper_shipment}\n",
    "            JOIN {country_to_shipper}\n",
    "            WHERE s.shipper_country_code IS NOT NULL AND {years_equal} AND {delta_in_variance}\n",
    "        ) AS t\n",
    "    GROUP BY t.country_name\n",
    ") AS delta_t\n",
    "WHERE {min_shipments_met}\n",
    "ORDER BY delta_t.avg_delta DESC\n",
    "'''\n",
    "\n",
    "statement_5 = f'''\n",
    "SELECT * FROM \n",
    "(\n",
    "    SELECT t.region, {avg_delta}, {total_shipments}\n",
    "    FROM \n",
    "        (\n",
    "            SELECT c.region, {delta}\n",
    "            FROM shipment sh\n",
    "            JOIN {shipper_shipment_to_shipment}\n",
    "            JOIN {shipper_to_shipper_shipment}\n",
    "            JOIN {country_to_shipper}\n",
    "            WHERE \n",
    "                s.shipper_country_code IS NOT NULL\n",
    "                AND c.region IS NOT NULL\n",
    "                AND {years_equal} \n",
    "                AND {delta_in_variance}\n",
    "        ) AS t\n",
    "    GROUP BY t.region\n",
    ") AS delta_t\n",
    "WHERE {min_shipments_met}\n",
    "ORDER BY delta_t.avg_delta ASC\n",
    "'''\n",
    "\n",
    "statement_6 = f'''\n",
    "SELECT * FROM \n",
    "(\n",
    "    SELECT t.sub_region, {avg_delta}, {total_shipments}\n",
    "    FROM \n",
    "        (\n",
    "            SELECT c.sub_region, {delta}\n",
    "            FROM shipment sh\n",
    "            JOIN {shipper_shipment_to_shipment}\n",
    "            JOIN {shipper_to_shipper_shipment}\n",
    "            JOIN {country_to_shipper}\n",
    "            WHERE \n",
    "                s.shipper_country_code IS NOT NULL\n",
    "                AND c.sub_region IS NOT NULL\n",
    "                AND {years_equal} \n",
    "                AND {delta_in_variance}\n",
    "        ) AS t\n",
    "    GROUP BY t.sub_region\n",
    ") AS delta_t\n",
    "WHERE {min_shipments_met}\n",
    "ORDER BY delta_t.avg_delta ASC\n",
    "'''\n",
    "\n",
    "statement_7 = f'''\n",
    "SELECT TOP 15 * FROM \n",
    "(\n",
    "    SELECT t.vessel_id, t.vessel_name, {avg_delta}, {total_shipments}\n",
    "    FROM \n",
    "        (\n",
    "            SELECT v.vessel_id, v.vessel_name, {delta}\n",
    "            FROM shipment sh\n",
    "            JOIN {vessel_to_shipment}\n",
    "            WHERE {years_equal} AND {delta_in_variance}\n",
    "        ) AS t\n",
    "    GROUP BY t.vessel_id, t.vessel_name\n",
    ") AS delta_t\n",
    "WHERE {min_shipments_met}\n",
    "ORDER BY delta_t.avg_delta ASC\n",
    "'''\n",
    "\n",
    "statement_8 = f'''\n",
    "SELECT TOP 15 * FROM \n",
    "(\n",
    "    SELECT t.vessel_id, t.vessel_name, {avg_delta}, {total_shipments}\n",
    "    FROM \n",
    "        (\n",
    "            SELECT v.vessel_id, v.vessel_name, {delta}\n",
    "            FROM shipment sh\n",
    "            JOIN {vessel_to_shipment}\n",
    "            WHERE {years_equal} AND {delta_in_variance}\n",
    "        ) AS t\n",
    "    GROUP BY t.vessel_id, t.vessel_name\n",
    ") AS delta_t\n",
    "WHERE {min_shipments_met}\n",
    "ORDER BY delta_t.avg_delta DESC\n",
    "'''\n",
    "\n",
    "statement_9 = f'''\n",
    "SELECT * FROM \n",
    "(\n",
    "    SELECT t.year, {avg_delta}, {total_shipments}s\n",
    "    FROM \n",
    "        (\n",
    "            SELECT YEAR(sh.actual_arrival_date) AS year, {delta}\n",
    "            FROM shipment sh\n",
    "            WHERE {years_equal} AND {delta_in_variance}\n",
    "        ) AS t\n",
    "    GROUP BY t.year\n",
    ") AS delta_t\n",
    "WHERE {min_shipments_met}\n",
    "ORDER BY delta_t.year ASC\n",
    "'''\n",
    "\n",
    "statement_10 = f'''\n",
    "SELECT TOP 15 * FROM \n",
    "(\n",
    "    SELECT t.consignee_name, {avg_delta}, {total_shipments}\n",
    "    FROM \n",
    "        (\n",
    "            SELECT c.consignee_name, {delta}\n",
    "            FROM shipment sh\n",
    "            JOIN consignee_shipment cs ON cs.shipment_id = sh.shipment_id\n",
    "            JOIN consignee c ON c.consignee_id = cs.consignee_id\n",
    "            WHERE \n",
    "                {years_equal} AND {delta_in_variance}\n",
    "        ) AS t\n",
    "    GROUP BY t.consignee_name\n",
    ") AS delta_t\n",
    "WHERE {min_shipments_met}\n",
    "ORDER BY delta_t.avg_delta ASC\n",
    "'''"
   ]
  },
  {
   "cell_type": "markdown",
   "metadata": {},
   "source": [
    "### SQL Execution"
   ]
  },
  {
   "cell_type": "code",
   "execution_count": 33,
   "metadata": {},
   "outputs": [
    {
     "name": "stdout",
     "output_type": "stream",
     "text": [
      "Connected Successfully!\n",
      "\n"
     ]
    },
    {
     "name": "stderr",
     "output_type": "stream",
     "text": [
      "/var/folders/8b/3qtjthpj3qqf5dzr_n4g__mw0000gn/T/ipykernel_67010/2924014295.py:6: UserWarning: pandas only supports SQLAlchemy connectable (engine/connection) or database string URI or sqlite3 DBAPI2 connection. Other DBAPI2 objects are not tested. Please consider using SQLAlchemy.\n",
      "  top_shippers = pd.read_sql(statement_1, conn)\n",
      "/var/folders/8b/3qtjthpj3qqf5dzr_n4g__mw0000gn/T/ipykernel_67010/2924014295.py:8: UserWarning: pandas only supports SQLAlchemy connectable (engine/connection) or database string URI or sqlite3 DBAPI2 connection. Other DBAPI2 objects are not tested. Please consider using SQLAlchemy.\n",
      "  top_countries = pd.read_sql(statement_3, conn)\n",
      "/var/folders/8b/3qtjthpj3qqf5dzr_n4g__mw0000gn/T/ipykernel_67010/2924014295.py:11: UserWarning: pandas only supports SQLAlchemy connectable (engine/connection) or database string URI or sqlite3 DBAPI2 connection. Other DBAPI2 objects are not tested. Please consider using SQLAlchemy.\n",
      "  sub_regions_ranked = pd.read_sql(statement_6, conn)\n"
     ]
    },
    {
     "name": "stdout",
     "output_type": "stream",
     "text": [
      "\n",
      "Connection closed\n",
      "\n"
     ]
    }
   ],
   "source": [
    "try: \n",
    "    conn = pyodbc.connect(driver=driver, server=server, uid=username, pwd=password, database='ams', autocommit=True)\n",
    "    cursor = conn.cursor()\n",
    "    print(\"Connected Successfully!\\n\")\n",
    "\n",
    "    top_shippers = pd.read_sql(statement_1, conn)\n",
    "    bottom_shippers = pd.read_sql(statement_2, conn)\n",
    "    top_countries = pd.read_sql(statement_3, conn)\n",
    "    bottom_countries = pd.read_sql(statement_4, conn)\n",
    "    regions_ranked = pd.read_sql(statement_5, conn)\n",
    "    sub_regions_ranked = pd.read_sql(statement_6, conn)\n",
    "    top_vessels = pd.read_sql(statement_7, conn)\n",
    "    bottom_vessels = pd.read_sql(statement_8, conn)\n",
    "    years = pd.read_sql(statement_9, conn)\n",
    "    most_savvy_consignees = pd.read_sql(statement_10, conn)\n",
    "    \n",
    "except pyodbc.Error as e:\n",
    "    print(f\"Error: {e}\")\n",
    "finally:\n",
    "    if conn:\n",
    "        conn.close()\n",
    "        print('\\nConnection closed\\n')\n",
    "    else:\n",
    "        print('\\nNo connection was established\\n')"
   ]
  },
  {
   "cell_type": "markdown",
   "metadata": {},
   "source": [
    "- View 1: Shippers with the best estimated vs actual arrival times"
   ]
  },
  {
   "cell_type": "code",
   "execution_count": 34,
   "metadata": {},
   "outputs": [
    {
     "data": {
      "text/html": [
       "<div>\n",
       "<style scoped>\n",
       "    .dataframe tbody tr th:only-of-type {\n",
       "        vertical-align: middle;\n",
       "    }\n",
       "\n",
       "    .dataframe tbody tr th {\n",
       "        vertical-align: top;\n",
       "    }\n",
       "\n",
       "    .dataframe thead th {\n",
       "        text-align: right;\n",
       "    }\n",
       "</style>\n",
       "<table border=\"1\" class=\"dataframe\">\n",
       "  <thead>\n",
       "    <tr style=\"text-align: right;\">\n",
       "      <th></th>\n",
       "      <th>shipper_name</th>\n",
       "      <th>avg_delta</th>\n",
       "      <th>total_shipments</th>\n",
       "    </tr>\n",
       "  </thead>\n",
       "  <tbody>\n",
       "    <tr>\n",
       "      <th>0</th>\n",
       "      <td>BOBCAT COMPANY</td>\n",
       "      <td>-40.365248</td>\n",
       "      <td>846</td>\n",
       "    </tr>\n",
       "    <tr>\n",
       "      <th>1</th>\n",
       "      <td>MABE MEXICO S DE RL DE CV</td>\n",
       "      <td>-27.034783</td>\n",
       "      <td>115</td>\n",
       "    </tr>\n",
       "    <tr>\n",
       "      <th>2</th>\n",
       "      <td>TREND TECHNOLOGIES MEXICO</td>\n",
       "      <td>-26.789189</td>\n",
       "      <td>185</td>\n",
       "    </tr>\n",
       "    <tr>\n",
       "      <th>3</th>\n",
       "      <td>MARGARITA S LIMES S A DE C V</td>\n",
       "      <td>-26.715909</td>\n",
       "      <td>176</td>\n",
       "    </tr>\n",
       "    <tr>\n",
       "      <th>4</th>\n",
       "      <td>TORAY ADVANCED TEXTILE MEXICO S A</td>\n",
       "      <td>-25.740113</td>\n",
       "      <td>354</td>\n",
       "    </tr>\n",
       "    <tr>\n",
       "      <th>5</th>\n",
       "      <td>SOC EXP Y COM VINA MAIPO SPA</td>\n",
       "      <td>-24.914729</td>\n",
       "      <td>129</td>\n",
       "    </tr>\n",
       "    <tr>\n",
       "      <th>6</th>\n",
       "      <td>GENERAL MOTORS DE MEXICO S DE</td>\n",
       "      <td>-24.421769</td>\n",
       "      <td>147</td>\n",
       "    </tr>\n",
       "    <tr>\n",
       "      <th>7</th>\n",
       "      <td>JOHNSON CONTROLS BE OPERATIONS</td>\n",
       "      <td>-24.072612</td>\n",
       "      <td>1267</td>\n",
       "    </tr>\n",
       "    <tr>\n",
       "      <th>8</th>\n",
       "      <td>HELLA AUTOMOTIVE MEXICO S A DE C V</td>\n",
       "      <td>-23.876289</td>\n",
       "      <td>194</td>\n",
       "    </tr>\n",
       "    <tr>\n",
       "      <th>9</th>\n",
       "      <td>FLEXITECH AUTOMOTIVE MEXICO, S. DE</td>\n",
       "      <td>-23.672414</td>\n",
       "      <td>174</td>\n",
       "    </tr>\n",
       "    <tr>\n",
       "      <th>10</th>\n",
       "      <td>CONTITECH MEXICANA S A DE C V</td>\n",
       "      <td>-23.398268</td>\n",
       "      <td>462</td>\n",
       "    </tr>\n",
       "    <tr>\n",
       "      <th>11</th>\n",
       "      <td>SILGAN DISPENSING SYSTEMS MEXICO</td>\n",
       "      <td>-23.357860</td>\n",
       "      <td>299</td>\n",
       "    </tr>\n",
       "    <tr>\n",
       "      <th>12</th>\n",
       "      <td>GD AFILIATES,S DE RL DE CV</td>\n",
       "      <td>-23.152263</td>\n",
       "      <td>243</td>\n",
       "    </tr>\n",
       "    <tr>\n",
       "      <th>13</th>\n",
       "      <td>OXFORD FROZEN FOODS LTD.</td>\n",
       "      <td>-23.048338</td>\n",
       "      <td>331</td>\n",
       "    </tr>\n",
       "    <tr>\n",
       "      <th>14</th>\n",
       "      <td>PROVEEDORA MEXICANA DE</td>\n",
       "      <td>-22.974359</td>\n",
       "      <td>117</td>\n",
       "    </tr>\n",
       "  </tbody>\n",
       "</table>\n",
       "</div>"
      ],
      "text/plain": [
       "                          shipper_name  avg_delta  total_shipments\n",
       "0                       BOBCAT COMPANY -40.365248              846\n",
       "1            MABE MEXICO S DE RL DE CV -27.034783              115\n",
       "2            TREND TECHNOLOGIES MEXICO -26.789189              185\n",
       "3         MARGARITA S LIMES S A DE C V -26.715909              176\n",
       "4    TORAY ADVANCED TEXTILE MEXICO S A -25.740113              354\n",
       "5         SOC EXP Y COM VINA MAIPO SPA -24.914729              129\n",
       "6        GENERAL MOTORS DE MEXICO S DE -24.421769              147\n",
       "7       JOHNSON CONTROLS BE OPERATIONS -24.072612             1267\n",
       "8   HELLA AUTOMOTIVE MEXICO S A DE C V -23.876289              194\n",
       "9   FLEXITECH AUTOMOTIVE MEXICO, S. DE -23.672414              174\n",
       "10       CONTITECH MEXICANA S A DE C V -23.398268              462\n",
       "11    SILGAN DISPENSING SYSTEMS MEXICO -23.357860              299\n",
       "12          GD AFILIATES,S DE RL DE CV -23.152263              243\n",
       "13            OXFORD FROZEN FOODS LTD. -23.048338              331\n",
       "14              PROVEEDORA MEXICANA DE -22.974359              117"
      ]
     },
     "execution_count": 34,
     "metadata": {},
     "output_type": "execute_result"
    }
   ],
   "source": [
    "top_shippers"
   ]
  },
  {
   "cell_type": "markdown",
   "metadata": {},
   "source": [
    "- View 2: Shippers with the worst estimated vs actual times"
   ]
  },
  {
   "cell_type": "code",
   "execution_count": 17,
   "metadata": {},
   "outputs": [
    {
     "data": {
      "text/html": [
       "<div>\n",
       "<style scoped>\n",
       "    .dataframe tbody tr th:only-of-type {\n",
       "        vertical-align: middle;\n",
       "    }\n",
       "\n",
       "    .dataframe tbody tr th {\n",
       "        vertical-align: top;\n",
       "    }\n",
       "\n",
       "    .dataframe thead th {\n",
       "        text-align: right;\n",
       "    }\n",
       "</style>\n",
       "<table border=\"1\" class=\"dataframe\">\n",
       "  <thead>\n",
       "    <tr style=\"text-align: right;\">\n",
       "      <th></th>\n",
       "      <th>shipper_name</th>\n",
       "      <th>avg_delta</th>\n",
       "      <th>total_shipments</th>\n",
       "    </tr>\n",
       "  </thead>\n",
       "  <tbody>\n",
       "    <tr>\n",
       "      <th>0</th>\n",
       "      <td>R.M. INTERNATIONAL</td>\n",
       "      <td>31.349057</td>\n",
       "      <td>106</td>\n",
       "    </tr>\n",
       "    <tr>\n",
       "      <th>1</th>\n",
       "      <td>SUKRITI DESIGNS PVT LTD</td>\n",
       "      <td>31.256881</td>\n",
       "      <td>109</td>\n",
       "    </tr>\n",
       "    <tr>\n",
       "      <th>2</th>\n",
       "      <td>TRUMPF LASER- &amp; SYSTEM-</td>\n",
       "      <td>30.346840</td>\n",
       "      <td>1851</td>\n",
       "    </tr>\n",
       "    <tr>\n",
       "      <th>3</th>\n",
       "      <td>ASCA SHIPPING GROUP</td>\n",
       "      <td>30.000000</td>\n",
       "      <td>135</td>\n",
       "    </tr>\n",
       "    <tr>\n",
       "      <th>4</th>\n",
       "      <td>TRUMPF MASCH.AUSTR.GMBH&amp;COKG</td>\n",
       "      <td>29.085603</td>\n",
       "      <td>771</td>\n",
       "    </tr>\n",
       "    <tr>\n",
       "      <th>5</th>\n",
       "      <td>ULTRAMAR AGENCIA MARITIMA LIMITADA</td>\n",
       "      <td>27.812500</td>\n",
       "      <td>192</td>\n",
       "    </tr>\n",
       "    <tr>\n",
       "      <th>6</th>\n",
       "      <td>ENSCO 8502 C/O ENSCO</td>\n",
       "      <td>27.235294</td>\n",
       "      <td>119</td>\n",
       "    </tr>\n",
       "    <tr>\n",
       "      <th>7</th>\n",
       "      <td>KLK INTERNATIONAL</td>\n",
       "      <td>26.211191</td>\n",
       "      <td>554</td>\n",
       "    </tr>\n",
       "    <tr>\n",
       "      <th>8</th>\n",
       "      <td>MINUTY SA</td>\n",
       "      <td>26.110787</td>\n",
       "      <td>343</td>\n",
       "    </tr>\n",
       "    <tr>\n",
       "      <th>9</th>\n",
       "      <td>ACS DOBFAR S.P.A.</td>\n",
       "      <td>25.094737</td>\n",
       "      <td>380</td>\n",
       "    </tr>\n",
       "    <tr>\n",
       "      <th>10</th>\n",
       "      <td>HORTON EUROPE GMBH &amp; CO. KG</td>\n",
       "      <td>24.801724</td>\n",
       "      <td>116</td>\n",
       "    </tr>\n",
       "    <tr>\n",
       "      <th>11</th>\n",
       "      <td>PARIKH PACKAGING PVT. LTD.</td>\n",
       "      <td>23.395161</td>\n",
       "      <td>124</td>\n",
       "    </tr>\n",
       "    <tr>\n",
       "      <th>12</th>\n",
       "      <td>TRUMPF SCHWEIZ AG</td>\n",
       "      <td>23.092732</td>\n",
       "      <td>399</td>\n",
       "    </tr>\n",
       "    <tr>\n",
       "      <th>13</th>\n",
       "      <td>BHARTI ARTS</td>\n",
       "      <td>21.589862</td>\n",
       "      <td>217</td>\n",
       "    </tr>\n",
       "    <tr>\n",
       "      <th>14</th>\n",
       "      <td>HASTKALA EXPORTS</td>\n",
       "      <td>20.942857</td>\n",
       "      <td>105</td>\n",
       "    </tr>\n",
       "  </tbody>\n",
       "</table>\n",
       "</div>"
      ],
      "text/plain": [
       "                          shipper_name  avg_delta  total_shipments\n",
       "0                   R.M. INTERNATIONAL  31.349057              106\n",
       "1              SUKRITI DESIGNS PVT LTD  31.256881              109\n",
       "2              TRUMPF LASER- & SYSTEM-  30.346840             1851\n",
       "3                  ASCA SHIPPING GROUP  30.000000              135\n",
       "4         TRUMPF MASCH.AUSTR.GMBH&COKG  29.085603              771\n",
       "5   ULTRAMAR AGENCIA MARITIMA LIMITADA  27.812500              192\n",
       "6                 ENSCO 8502 C/O ENSCO  27.235294              119\n",
       "7                    KLK INTERNATIONAL  26.211191              554\n",
       "8                            MINUTY SA  26.110787              343\n",
       "9                    ACS DOBFAR S.P.A.  25.094737              380\n",
       "10         HORTON EUROPE GMBH & CO. KG  24.801724              116\n",
       "11          PARIKH PACKAGING PVT. LTD.  23.395161              124\n",
       "12                   TRUMPF SCHWEIZ AG  23.092732              399\n",
       "13                         BHARTI ARTS  21.589862              217\n",
       "14                    HASTKALA EXPORTS  20.942857              105"
      ]
     },
     "execution_count": 17,
     "metadata": {},
     "output_type": "execute_result"
    }
   ],
   "source": [
    "bottom_shippers"
   ]
  },
  {
   "cell_type": "markdown",
   "metadata": {},
   "source": [
    "- View 3: Countries with the best estimated vs actual arrival times"
   ]
  },
  {
   "cell_type": "code",
   "execution_count": 35,
   "metadata": {},
   "outputs": [
    {
     "data": {
      "text/html": [
       "<div>\n",
       "<style scoped>\n",
       "    .dataframe tbody tr th:only-of-type {\n",
       "        vertical-align: middle;\n",
       "    }\n",
       "\n",
       "    .dataframe tbody tr th {\n",
       "        vertical-align: top;\n",
       "    }\n",
       "\n",
       "    .dataframe thead th {\n",
       "        text-align: right;\n",
       "    }\n",
       "</style>\n",
       "<table border=\"1\" class=\"dataframe\">\n",
       "  <thead>\n",
       "    <tr style=\"text-align: right;\">\n",
       "      <th></th>\n",
       "      <th>country_name</th>\n",
       "      <th>avg_delta</th>\n",
       "      <th>total_shipments</th>\n",
       "    </tr>\n",
       "  </thead>\n",
       "  <tbody>\n",
       "    <tr>\n",
       "      <th>0</th>\n",
       "      <td>Nicaragua</td>\n",
       "      <td>-0.367552</td>\n",
       "      <td>5572</td>\n",
       "    </tr>\n",
       "    <tr>\n",
       "      <th>1</th>\n",
       "      <td>Chile</td>\n",
       "      <td>-0.345799</td>\n",
       "      <td>85891</td>\n",
       "    </tr>\n",
       "    <tr>\n",
       "      <th>2</th>\n",
       "      <td>Mexico</td>\n",
       "      <td>-0.293571</td>\n",
       "      <td>154351</td>\n",
       "    </tr>\n",
       "    <tr>\n",
       "      <th>3</th>\n",
       "      <td>Lesotho</td>\n",
       "      <td>-0.110803</td>\n",
       "      <td>1805</td>\n",
       "    </tr>\n",
       "    <tr>\n",
       "      <th>4</th>\n",
       "      <td>Turks and Caicos Islands</td>\n",
       "      <td>0.249402</td>\n",
       "      <td>1672</td>\n",
       "    </tr>\n",
       "    <tr>\n",
       "      <th>5</th>\n",
       "      <td>Jamaica</td>\n",
       "      <td>0.397264</td>\n",
       "      <td>6872</td>\n",
       "    </tr>\n",
       "    <tr>\n",
       "      <th>6</th>\n",
       "      <td>El Salvador</td>\n",
       "      <td>0.532831</td>\n",
       "      <td>5437</td>\n",
       "    </tr>\n",
       "    <tr>\n",
       "      <th>7</th>\n",
       "      <td>Congo, Democratic Republic of the</td>\n",
       "      <td>0.554795</td>\n",
       "      <td>146</td>\n",
       "    </tr>\n",
       "    <tr>\n",
       "      <th>8</th>\n",
       "      <td>Dominican Republic</td>\n",
       "      <td>0.596171</td>\n",
       "      <td>26640</td>\n",
       "    </tr>\n",
       "    <tr>\n",
       "      <th>9</th>\n",
       "      <td>Guam</td>\n",
       "      <td>0.676183</td>\n",
       "      <td>3783</td>\n",
       "    </tr>\n",
       "    <tr>\n",
       "      <th>10</th>\n",
       "      <td>Gambia</td>\n",
       "      <td>0.686047</td>\n",
       "      <td>860</td>\n",
       "    </tr>\n",
       "    <tr>\n",
       "      <th>11</th>\n",
       "      <td>Antigua and Barbuda</td>\n",
       "      <td>0.691176</td>\n",
       "      <td>408</td>\n",
       "    </tr>\n",
       "    <tr>\n",
       "      <th>12</th>\n",
       "      <td>Bahamas</td>\n",
       "      <td>0.707030</td>\n",
       "      <td>12305</td>\n",
       "    </tr>\n",
       "    <tr>\n",
       "      <th>13</th>\n",
       "      <td>Virgin Islands (U.S.)</td>\n",
       "      <td>0.738026</td>\n",
       "      <td>8623</td>\n",
       "    </tr>\n",
       "    <tr>\n",
       "      <th>14</th>\n",
       "      <td>Northern Mariana Islands</td>\n",
       "      <td>0.765517</td>\n",
       "      <td>145</td>\n",
       "    </tr>\n",
       "  </tbody>\n",
       "</table>\n",
       "</div>"
      ],
      "text/plain": [
       "                         country_name  avg_delta  total_shipments\n",
       "0                           Nicaragua  -0.367552             5572\n",
       "1                               Chile  -0.345799            85891\n",
       "2                              Mexico  -0.293571           154351\n",
       "3                             Lesotho  -0.110803             1805\n",
       "4            Turks and Caicos Islands   0.249402             1672\n",
       "5                             Jamaica   0.397264             6872\n",
       "6                         El Salvador   0.532831             5437\n",
       "7   Congo, Democratic Republic of the   0.554795              146\n",
       "8                  Dominican Republic   0.596171            26640\n",
       "9                                Guam   0.676183             3783\n",
       "10                             Gambia   0.686047              860\n",
       "11                Antigua and Barbuda   0.691176              408\n",
       "12                            Bahamas   0.707030            12305\n",
       "13              Virgin Islands (U.S.)   0.738026             8623\n",
       "14           Northern Mariana Islands   0.765517              145"
      ]
     },
     "execution_count": 35,
     "metadata": {},
     "output_type": "execute_result"
    }
   ],
   "source": [
    "top_countries"
   ]
  },
  {
   "cell_type": "markdown",
   "metadata": {},
   "source": [
    "- View 4: Countries with the worst estimated vs actual arrival times"
   ]
  },
  {
   "cell_type": "code",
   "execution_count": 19,
   "metadata": {},
   "outputs": [
    {
     "data": {
      "text/html": [
       "<div>\n",
       "<style scoped>\n",
       "    .dataframe tbody tr th:only-of-type {\n",
       "        vertical-align: middle;\n",
       "    }\n",
       "\n",
       "    .dataframe tbody tr th {\n",
       "        vertical-align: top;\n",
       "    }\n",
       "\n",
       "    .dataframe thead th {\n",
       "        text-align: right;\n",
       "    }\n",
       "</style>\n",
       "<table border=\"1\" class=\"dataframe\">\n",
       "  <thead>\n",
       "    <tr style=\"text-align: right;\">\n",
       "      <th></th>\n",
       "      <th>country_name</th>\n",
       "      <th>avg_delta</th>\n",
       "      <th>total_shipments</th>\n",
       "    </tr>\n",
       "  </thead>\n",
       "  <tbody>\n",
       "    <tr>\n",
       "      <th>0</th>\n",
       "      <td>Suriname</td>\n",
       "      <td>9.380383</td>\n",
       "      <td>836</td>\n",
       "    </tr>\n",
       "    <tr>\n",
       "      <th>1</th>\n",
       "      <td>Guernsey</td>\n",
       "      <td>6.174658</td>\n",
       "      <td>292</td>\n",
       "    </tr>\n",
       "    <tr>\n",
       "      <th>2</th>\n",
       "      <td>Moldova, Republic of</td>\n",
       "      <td>4.923077</td>\n",
       "      <td>117</td>\n",
       "    </tr>\n",
       "    <tr>\n",
       "      <th>3</th>\n",
       "      <td>Iraq</td>\n",
       "      <td>4.914062</td>\n",
       "      <td>128</td>\n",
       "    </tr>\n",
       "    <tr>\n",
       "      <th>4</th>\n",
       "      <td>Kazakhstan</td>\n",
       "      <td>4.803371</td>\n",
       "      <td>178</td>\n",
       "    </tr>\n",
       "    <tr>\n",
       "      <th>5</th>\n",
       "      <td>Algeria</td>\n",
       "      <td>4.252525</td>\n",
       "      <td>198</td>\n",
       "    </tr>\n",
       "    <tr>\n",
       "      <th>6</th>\n",
       "      <td>Bosnia and Herzegovina</td>\n",
       "      <td>4.215785</td>\n",
       "      <td>1191</td>\n",
       "    </tr>\n",
       "    <tr>\n",
       "      <th>7</th>\n",
       "      <td>Albania</td>\n",
       "      <td>3.794964</td>\n",
       "      <td>278</td>\n",
       "    </tr>\n",
       "    <tr>\n",
       "      <th>8</th>\n",
       "      <td>Qatar</td>\n",
       "      <td>3.704545</td>\n",
       "      <td>220</td>\n",
       "    </tr>\n",
       "    <tr>\n",
       "      <th>9</th>\n",
       "      <td>Turkey</td>\n",
       "      <td>3.630559</td>\n",
       "      <td>135310</td>\n",
       "    </tr>\n",
       "    <tr>\n",
       "      <th>10</th>\n",
       "      <td>Lebanon</td>\n",
       "      <td>3.251832</td>\n",
       "      <td>1092</td>\n",
       "    </tr>\n",
       "    <tr>\n",
       "      <th>11</th>\n",
       "      <td>Bahrain</td>\n",
       "      <td>3.141892</td>\n",
       "      <td>592</td>\n",
       "    </tr>\n",
       "    <tr>\n",
       "      <th>12</th>\n",
       "      <td>Italy</td>\n",
       "      <td>2.985387</td>\n",
       "      <td>717978</td>\n",
       "    </tr>\n",
       "    <tr>\n",
       "      <th>13</th>\n",
       "      <td>Angola</td>\n",
       "      <td>2.983471</td>\n",
       "      <td>121</td>\n",
       "    </tr>\n",
       "    <tr>\n",
       "      <th>14</th>\n",
       "      <td>Mauritius</td>\n",
       "      <td>2.969058</td>\n",
       "      <td>711</td>\n",
       "    </tr>\n",
       "  </tbody>\n",
       "</table>\n",
       "</div>"
      ],
      "text/plain": [
       "              country_name  avg_delta  total_shipments\n",
       "0                 Suriname   9.380383              836\n",
       "1                 Guernsey   6.174658              292\n",
       "2     Moldova, Republic of   4.923077              117\n",
       "3                     Iraq   4.914062              128\n",
       "4               Kazakhstan   4.803371              178\n",
       "5                  Algeria   4.252525              198\n",
       "6   Bosnia and Herzegovina   4.215785             1191\n",
       "7                  Albania   3.794964              278\n",
       "8                    Qatar   3.704545              220\n",
       "9                   Turkey   3.630559           135310\n",
       "10                 Lebanon   3.251832             1092\n",
       "11                 Bahrain   3.141892              592\n",
       "12                   Italy   2.985387           717978\n",
       "13                  Angola   2.983471              121\n",
       "14               Mauritius   2.969058              711"
      ]
     },
     "execution_count": 19,
     "metadata": {},
     "output_type": "execute_result"
    }
   ],
   "source": [
    "bottom_countries"
   ]
  },
  {
   "cell_type": "markdown",
   "metadata": {},
   "source": [
    "- View 5: Regions ranked by estimated vs actual arrival times"
   ]
  },
  {
   "cell_type": "code",
   "execution_count": 20,
   "metadata": {},
   "outputs": [
    {
     "data": {
      "text/html": [
       "<div>\n",
       "<style scoped>\n",
       "    .dataframe tbody tr th:only-of-type {\n",
       "        vertical-align: middle;\n",
       "    }\n",
       "\n",
       "    .dataframe tbody tr th {\n",
       "        vertical-align: top;\n",
       "    }\n",
       "\n",
       "    .dataframe thead th {\n",
       "        text-align: right;\n",
       "    }\n",
       "</style>\n",
       "<table border=\"1\" class=\"dataframe\">\n",
       "  <thead>\n",
       "    <tr style=\"text-align: right;\">\n",
       "      <th></th>\n",
       "      <th>region</th>\n",
       "      <th>avg_delta</th>\n",
       "      <th>total_shipments</th>\n",
       "    </tr>\n",
       "  </thead>\n",
       "  <tbody>\n",
       "    <tr>\n",
       "      <th>0</th>\n",
       "      <td>Americas</td>\n",
       "      <td>0.924163</td>\n",
       "      <td>968831</td>\n",
       "    </tr>\n",
       "    <tr>\n",
       "      <th>1</th>\n",
       "      <td>Oceania</td>\n",
       "      <td>1.278483</td>\n",
       "      <td>174470</td>\n",
       "    </tr>\n",
       "    <tr>\n",
       "      <th>2</th>\n",
       "      <td>Asia</td>\n",
       "      <td>1.847987</td>\n",
       "      <td>7940698</td>\n",
       "    </tr>\n",
       "    <tr>\n",
       "      <th>3</th>\n",
       "      <td>Africa</td>\n",
       "      <td>1.874491</td>\n",
       "      <td>50817</td>\n",
       "    </tr>\n",
       "    <tr>\n",
       "      <th>4</th>\n",
       "      <td>Europe</td>\n",
       "      <td>2.284739</td>\n",
       "      <td>3299783</td>\n",
       "    </tr>\n",
       "  </tbody>\n",
       "</table>\n",
       "</div>"
      ],
      "text/plain": [
       "     region  avg_delta  total_shipments\n",
       "0  Americas   0.924163           968831\n",
       "1   Oceania   1.278483           174470\n",
       "2      Asia   1.847987          7940698\n",
       "3    Africa   1.874491            50817\n",
       "4    Europe   2.284739          3299783"
      ]
     },
     "execution_count": 20,
     "metadata": {},
     "output_type": "execute_result"
    }
   ],
   "source": [
    "regions_ranked"
   ]
  },
  {
   "cell_type": "markdown",
   "metadata": {},
   "source": [
    "- View 6: Sub-regions ranked by estimated vs actual arrival times"
   ]
  },
  {
   "cell_type": "code",
   "execution_count": 36,
   "metadata": {},
   "outputs": [
    {
     "data": {
      "text/html": [
       "<div>\n",
       "<style scoped>\n",
       "    .dataframe tbody tr th:only-of-type {\n",
       "        vertical-align: middle;\n",
       "    }\n",
       "\n",
       "    .dataframe tbody tr th {\n",
       "        vertical-align: top;\n",
       "    }\n",
       "\n",
       "    .dataframe thead th {\n",
       "        text-align: right;\n",
       "    }\n",
       "</style>\n",
       "<table border=\"1\" class=\"dataframe\">\n",
       "  <thead>\n",
       "    <tr style=\"text-align: right;\">\n",
       "      <th></th>\n",
       "      <th>sub_region</th>\n",
       "      <th>avg_delta</th>\n",
       "      <th>total_shipments</th>\n",
       "    </tr>\n",
       "  </thead>\n",
       "  <tbody>\n",
       "    <tr>\n",
       "      <th>0</th>\n",
       "      <td>Latin America and the Caribbean</td>\n",
       "      <td>0.622827</td>\n",
       "      <td>708964</td>\n",
       "    </tr>\n",
       "    <tr>\n",
       "      <th>1</th>\n",
       "      <td>Micronesia</td>\n",
       "      <td>0.807479</td>\n",
       "      <td>4680</td>\n",
       "    </tr>\n",
       "    <tr>\n",
       "      <th>2</th>\n",
       "      <td>Australia and New Zealand</td>\n",
       "      <td>1.264834</td>\n",
       "      <td>162687</td>\n",
       "    </tr>\n",
       "    <tr>\n",
       "      <th>3</th>\n",
       "      <td>Melanesia</td>\n",
       "      <td>1.570497</td>\n",
       "      <td>3681</td>\n",
       "    </tr>\n",
       "    <tr>\n",
       "      <th>4</th>\n",
       "      <td>South-eastern Asia</td>\n",
       "      <td>1.620012</td>\n",
       "      <td>687703</td>\n",
       "    </tr>\n",
       "    <tr>\n",
       "      <th>5</th>\n",
       "      <td>Sub-Saharan Africa</td>\n",
       "      <td>1.665743</td>\n",
       "      <td>34291</td>\n",
       "    </tr>\n",
       "    <tr>\n",
       "      <th>6</th>\n",
       "      <td>Eastern Asia</td>\n",
       "      <td>1.736373</td>\n",
       "      <td>6328502</td>\n",
       "    </tr>\n",
       "    <tr>\n",
       "      <th>7</th>\n",
       "      <td>Northern America</td>\n",
       "      <td>1.746263</td>\n",
       "      <td>259867</td>\n",
       "    </tr>\n",
       "    <tr>\n",
       "      <th>8</th>\n",
       "      <td>Eastern Europe</td>\n",
       "      <td>1.751605</td>\n",
       "      <td>224364</td>\n",
       "    </tr>\n",
       "    <tr>\n",
       "      <th>9</th>\n",
       "      <td>Western Europe</td>\n",
       "      <td>1.972198</td>\n",
       "      <td>1555346</td>\n",
       "    </tr>\n",
       "    <tr>\n",
       "      <th>10</th>\n",
       "      <td>Polynesia</td>\n",
       "      <td>2.257452</td>\n",
       "      <td>3422</td>\n",
       "    </tr>\n",
       "    <tr>\n",
       "      <th>11</th>\n",
       "      <td>Northern Africa</td>\n",
       "      <td>2.307636</td>\n",
       "      <td>16526</td>\n",
       "    </tr>\n",
       "    <tr>\n",
       "      <th>12</th>\n",
       "      <td>Northern Europe</td>\n",
       "      <td>2.385462</td>\n",
       "      <td>523263</td>\n",
       "    </tr>\n",
       "    <tr>\n",
       "      <th>13</th>\n",
       "      <td>Southern Asia</td>\n",
       "      <td>2.656000</td>\n",
       "      <td>740325</td>\n",
       "    </tr>\n",
       "    <tr>\n",
       "      <th>14</th>\n",
       "      <td>Southern Europe</td>\n",
       "      <td>2.839529</td>\n",
       "      <td>996810</td>\n",
       "    </tr>\n",
       "    <tr>\n",
       "      <th>15</th>\n",
       "      <td>Western Asia</td>\n",
       "      <td>3.285137</td>\n",
       "      <td>183961</td>\n",
       "    </tr>\n",
       "    <tr>\n",
       "      <th>16</th>\n",
       "      <td>Central Asia</td>\n",
       "      <td>4.560386</td>\n",
       "      <td>207</td>\n",
       "    </tr>\n",
       "  </tbody>\n",
       "</table>\n",
       "</div>"
      ],
      "text/plain": [
       "                         sub_region  avg_delta  total_shipments\n",
       "0   Latin America and the Caribbean   0.622827           708964\n",
       "1                        Micronesia   0.807479             4680\n",
       "2         Australia and New Zealand   1.264834           162687\n",
       "3                         Melanesia   1.570497             3681\n",
       "4                South-eastern Asia   1.620012           687703\n",
       "5                Sub-Saharan Africa   1.665743            34291\n",
       "6                      Eastern Asia   1.736373          6328502\n",
       "7                  Northern America   1.746263           259867\n",
       "8                    Eastern Europe   1.751605           224364\n",
       "9                    Western Europe   1.972198          1555346\n",
       "10                        Polynesia   2.257452             3422\n",
       "11                  Northern Africa   2.307636            16526\n",
       "12                  Northern Europe   2.385462           523263\n",
       "13                    Southern Asia   2.656000           740325\n",
       "14                  Southern Europe   2.839529           996810\n",
       "15                     Western Asia   3.285137           183961\n",
       "16                     Central Asia   4.560386              207"
      ]
     },
     "execution_count": 36,
     "metadata": {},
     "output_type": "execute_result"
    }
   ],
   "source": [
    "sub_regions_ranked"
   ]
  },
  {
   "cell_type": "markdown",
   "metadata": {},
   "source": [
    "- View 7: Vessels with the best estimated vs actual arrival times"
   ]
  },
  {
   "cell_type": "code",
   "execution_count": 22,
   "metadata": {},
   "outputs": [
    {
     "data": {
      "text/html": [
       "<div>\n",
       "<style scoped>\n",
       "    .dataframe tbody tr th:only-of-type {\n",
       "        vertical-align: middle;\n",
       "    }\n",
       "\n",
       "    .dataframe tbody tr th {\n",
       "        vertical-align: top;\n",
       "    }\n",
       "\n",
       "    .dataframe thead th {\n",
       "        text-align: right;\n",
       "    }\n",
       "</style>\n",
       "<table border=\"1\" class=\"dataframe\">\n",
       "  <thead>\n",
       "    <tr style=\"text-align: right;\">\n",
       "      <th></th>\n",
       "      <th>vessel_id</th>\n",
       "      <th>vessel_name</th>\n",
       "      <th>avg_delta</th>\n",
       "      <th>total_shipments</th>\n",
       "    </tr>\n",
       "  </thead>\n",
       "  <tbody>\n",
       "    <tr>\n",
       "      <th>0</th>\n",
       "      <td>4285</td>\n",
       "      <td>CHACABUCO</td>\n",
       "      <td>-31.107981</td>\n",
       "      <td>213</td>\n",
       "    </tr>\n",
       "    <tr>\n",
       "      <th>1</th>\n",
       "      <td>10801</td>\n",
       "      <td>ZIM SAN DIEGO</td>\n",
       "      <td>-30.300000</td>\n",
       "      <td>270</td>\n",
       "    </tr>\n",
       "    <tr>\n",
       "      <th>2</th>\n",
       "      <td>17541</td>\n",
       "      <td>CATTLEYA ACE</td>\n",
       "      <td>-20.983553</td>\n",
       "      <td>304</td>\n",
       "    </tr>\n",
       "    <tr>\n",
       "      <th>3</th>\n",
       "      <td>1067</td>\n",
       "      <td>MALLECO</td>\n",
       "      <td>-20.977612</td>\n",
       "      <td>134</td>\n",
       "    </tr>\n",
       "    <tr>\n",
       "      <th>4</th>\n",
       "      <td>25167</td>\n",
       "      <td>KEA</td>\n",
       "      <td>-18.698182</td>\n",
       "      <td>825</td>\n",
       "    </tr>\n",
       "    <tr>\n",
       "      <th>5</th>\n",
       "      <td>3379</td>\n",
       "      <td>MEXICO</td>\n",
       "      <td>-17.940701</td>\n",
       "      <td>371</td>\n",
       "    </tr>\n",
       "    <tr>\n",
       "      <th>6</th>\n",
       "      <td>36688</td>\n",
       "      <td>CSCL YELLOW SEA</td>\n",
       "      <td>-15.841584</td>\n",
       "      <td>101</td>\n",
       "    </tr>\n",
       "    <tr>\n",
       "      <th>7</th>\n",
       "      <td>13106</td>\n",
       "      <td>APL NORWAY</td>\n",
       "      <td>-15.344262</td>\n",
       "      <td>122</td>\n",
       "    </tr>\n",
       "    <tr>\n",
       "      <th>8</th>\n",
       "      <td>49441</td>\n",
       "      <td>MSC FLAVIA</td>\n",
       "      <td>-13.767145</td>\n",
       "      <td>627</td>\n",
       "    </tr>\n",
       "    <tr>\n",
       "      <th>9</th>\n",
       "      <td>40880</td>\n",
       "      <td>APL PARIS</td>\n",
       "      <td>-13.685185</td>\n",
       "      <td>108</td>\n",
       "    </tr>\n",
       "    <tr>\n",
       "      <th>10</th>\n",
       "      <td>20935</td>\n",
       "      <td>CMA CGM COLUMBIA</td>\n",
       "      <td>-13.657364</td>\n",
       "      <td>645</td>\n",
       "    </tr>\n",
       "    <tr>\n",
       "      <th>11</th>\n",
       "      <td>8973</td>\n",
       "      <td>ANGELIC ZEPHYR</td>\n",
       "      <td>-13.230769</td>\n",
       "      <td>104</td>\n",
       "    </tr>\n",
       "    <tr>\n",
       "      <th>12</th>\n",
       "      <td>5701</td>\n",
       "      <td>MSC FLAVIA</td>\n",
       "      <td>-12.940480</td>\n",
       "      <td>20279</td>\n",
       "    </tr>\n",
       "    <tr>\n",
       "      <th>13</th>\n",
       "      <td>21335</td>\n",
       "      <td>MALLECO</td>\n",
       "      <td>-12.111111</td>\n",
       "      <td>117</td>\n",
       "    </tr>\n",
       "    <tr>\n",
       "      <th>14</th>\n",
       "      <td>20812</td>\n",
       "      <td>SM TIANJIN</td>\n",
       "      <td>-12.104317</td>\n",
       "      <td>278</td>\n",
       "    </tr>\n",
       "  </tbody>\n",
       "</table>\n",
       "</div>"
      ],
      "text/plain": [
       "    vessel_id       vessel_name  avg_delta  total_shipments\n",
       "0        4285         CHACABUCO -31.107981              213\n",
       "1       10801     ZIM SAN DIEGO -30.300000              270\n",
       "2       17541      CATTLEYA ACE -20.983553              304\n",
       "3        1067           MALLECO -20.977612              134\n",
       "4       25167               KEA -18.698182              825\n",
       "5        3379            MEXICO -17.940701              371\n",
       "6       36688   CSCL YELLOW SEA -15.841584              101\n",
       "7       13106        APL NORWAY -15.344262              122\n",
       "8       49441        MSC FLAVIA -13.767145              627\n",
       "9       40880         APL PARIS -13.685185              108\n",
       "10      20935  CMA CGM COLUMBIA -13.657364              645\n",
       "11       8973    ANGELIC ZEPHYR -13.230769              104\n",
       "12       5701        MSC FLAVIA -12.940480            20279\n",
       "13      21335           MALLECO -12.111111              117\n",
       "14      20812        SM TIANJIN -12.104317              278"
      ]
     },
     "execution_count": 22,
     "metadata": {},
     "output_type": "execute_result"
    }
   ],
   "source": [
    "top_vessels"
   ]
  },
  {
   "cell_type": "markdown",
   "metadata": {},
   "source": [
    "- View 8: Vessels with the worst estimated vs actual arrival times"
   ]
  },
  {
   "cell_type": "code",
   "execution_count": 23,
   "metadata": {},
   "outputs": [
    {
     "data": {
      "text/html": [
       "<div>\n",
       "<style scoped>\n",
       "    .dataframe tbody tr th:only-of-type {\n",
       "        vertical-align: middle;\n",
       "    }\n",
       "\n",
       "    .dataframe tbody tr th {\n",
       "        vertical-align: top;\n",
       "    }\n",
       "\n",
       "    .dataframe thead th {\n",
       "        text-align: right;\n",
       "    }\n",
       "</style>\n",
       "<table border=\"1\" class=\"dataframe\">\n",
       "  <thead>\n",
       "    <tr style=\"text-align: right;\">\n",
       "      <th></th>\n",
       "      <th>vessel_id</th>\n",
       "      <th>vessel_name</th>\n",
       "      <th>avg_delta</th>\n",
       "      <th>total_shipments</th>\n",
       "    </tr>\n",
       "  </thead>\n",
       "  <tbody>\n",
       "    <tr>\n",
       "      <th>0</th>\n",
       "      <td>21495</td>\n",
       "      <td>GRACE BRIDGE</td>\n",
       "      <td>55.086823</td>\n",
       "      <td>979</td>\n",
       "    </tr>\n",
       "    <tr>\n",
       "      <th>1</th>\n",
       "      <td>16417</td>\n",
       "      <td>PAXI</td>\n",
       "      <td>47.841584</td>\n",
       "      <td>101</td>\n",
       "    </tr>\n",
       "    <tr>\n",
       "      <th>2</th>\n",
       "      <td>3703</td>\n",
       "      <td>COSCO PRIDE</td>\n",
       "      <td>41.508876</td>\n",
       "      <td>169</td>\n",
       "    </tr>\n",
       "    <tr>\n",
       "      <th>3</th>\n",
       "      <td>44552</td>\n",
       "      <td>MEISHAN BRIDGE</td>\n",
       "      <td>41.090604</td>\n",
       "      <td>596</td>\n",
       "    </tr>\n",
       "    <tr>\n",
       "      <th>4</th>\n",
       "      <td>19216</td>\n",
       "      <td>JPO AQUARIUS</td>\n",
       "      <td>40.712281</td>\n",
       "      <td>285</td>\n",
       "    </tr>\n",
       "    <tr>\n",
       "      <th>5</th>\n",
       "      <td>41198</td>\n",
       "      <td>HELIOS HIGHWAY</td>\n",
       "      <td>30.000000</td>\n",
       "      <td>587</td>\n",
       "    </tr>\n",
       "    <tr>\n",
       "      <th>6</th>\n",
       "      <td>18975</td>\n",
       "      <td>CMA CGM J. MADISON</td>\n",
       "      <td>29.693431</td>\n",
       "      <td>137</td>\n",
       "    </tr>\n",
       "    <tr>\n",
       "      <th>7</th>\n",
       "      <td>14941</td>\n",
       "      <td>EVER ETHIC</td>\n",
       "      <td>28.922849</td>\n",
       "      <td>337</td>\n",
       "    </tr>\n",
       "    <tr>\n",
       "      <th>8</th>\n",
       "      <td>39498</td>\n",
       "      <td>HOEGH CARIBA</td>\n",
       "      <td>27.846890</td>\n",
       "      <td>209</td>\n",
       "    </tr>\n",
       "    <tr>\n",
       "      <th>9</th>\n",
       "      <td>8153</td>\n",
       "      <td>PRETTY IVY</td>\n",
       "      <td>27.776000</td>\n",
       "      <td>125</td>\n",
       "    </tr>\n",
       "    <tr>\n",
       "      <th>10</th>\n",
       "      <td>22386</td>\n",
       "      <td>EVER EXCEL</td>\n",
       "      <td>27.488372</td>\n",
       "      <td>172</td>\n",
       "    </tr>\n",
       "    <tr>\n",
       "      <th>11</th>\n",
       "      <td>7524</td>\n",
       "      <td>ENSCO 8502</td>\n",
       "      <td>27.118519</td>\n",
       "      <td>135</td>\n",
       "    </tr>\n",
       "    <tr>\n",
       "      <th>12</th>\n",
       "      <td>32521</td>\n",
       "      <td>MSC BENEDETTA</td>\n",
       "      <td>26.032258</td>\n",
       "      <td>155</td>\n",
       "    </tr>\n",
       "    <tr>\n",
       "      <th>13</th>\n",
       "      <td>9277</td>\n",
       "      <td>MSC TORONTO</td>\n",
       "      <td>24.839014</td>\n",
       "      <td>1379</td>\n",
       "    </tr>\n",
       "    <tr>\n",
       "      <th>14</th>\n",
       "      <td>19765</td>\n",
       "      <td>HOEGH JEDDAH</td>\n",
       "      <td>24.578431</td>\n",
       "      <td>204</td>\n",
       "    </tr>\n",
       "  </tbody>\n",
       "</table>\n",
       "</div>"
      ],
      "text/plain": [
       "    vessel_id         vessel_name  avg_delta  total_shipments\n",
       "0       21495        GRACE BRIDGE  55.086823              979\n",
       "1       16417                PAXI  47.841584              101\n",
       "2        3703         COSCO PRIDE  41.508876              169\n",
       "3       44552      MEISHAN BRIDGE  41.090604              596\n",
       "4       19216        JPO AQUARIUS  40.712281              285\n",
       "5       41198      HELIOS HIGHWAY  30.000000              587\n",
       "6       18975  CMA CGM J. MADISON  29.693431              137\n",
       "7       14941          EVER ETHIC  28.922849              337\n",
       "8       39498        HOEGH CARIBA  27.846890              209\n",
       "9        8153          PRETTY IVY  27.776000              125\n",
       "10      22386          EVER EXCEL  27.488372              172\n",
       "11       7524          ENSCO 8502  27.118519              135\n",
       "12      32521       MSC BENEDETTA  26.032258              155\n",
       "13       9277         MSC TORONTO  24.839014             1379\n",
       "14      19765        HOEGH JEDDAH  24.578431              204"
      ]
     },
     "execution_count": 23,
     "metadata": {},
     "output_type": "execute_result"
    }
   ],
   "source": [
    "bottom_vessels"
   ]
  },
  {
   "cell_type": "markdown",
   "metadata": {},
   "source": [
    "- View 9: Years with average estimated vs actual arrival times"
   ]
  },
  {
   "cell_type": "code",
   "execution_count": 24,
   "metadata": {},
   "outputs": [
    {
     "data": {
      "text/html": [
       "<div>\n",
       "<style scoped>\n",
       "    .dataframe tbody tr th:only-of-type {\n",
       "        vertical-align: middle;\n",
       "    }\n",
       "\n",
       "    .dataframe tbody tr th {\n",
       "        vertical-align: top;\n",
       "    }\n",
       "\n",
       "    .dataframe thead th {\n",
       "        text-align: right;\n",
       "    }\n",
       "</style>\n",
       "<table border=\"1\" class=\"dataframe\">\n",
       "  <thead>\n",
       "    <tr style=\"text-align: right;\">\n",
       "      <th></th>\n",
       "      <th>year</th>\n",
       "      <th>avg_delta</th>\n",
       "      <th>total_shipments</th>\n",
       "    </tr>\n",
       "  </thead>\n",
       "  <tbody>\n",
       "    <tr>\n",
       "      <th>0</th>\n",
       "      <td>2018</td>\n",
       "      <td>1.798971</td>\n",
       "      <td>19954784</td>\n",
       "    </tr>\n",
       "    <tr>\n",
       "      <th>1</th>\n",
       "      <td>2019</td>\n",
       "      <td>1.480462</td>\n",
       "      <td>18760914</td>\n",
       "    </tr>\n",
       "    <tr>\n",
       "      <th>2</th>\n",
       "      <td>2020</td>\n",
       "      <td>1.585411</td>\n",
       "      <td>14674282</td>\n",
       "    </tr>\n",
       "  </tbody>\n",
       "</table>\n",
       "</div>"
      ],
      "text/plain": [
       "   year  avg_delta  total_shipments\n",
       "0  2018   1.798971         19954784\n",
       "1  2019   1.480462         18760914\n",
       "2  2020   1.585411         14674282"
      ]
     },
     "execution_count": 24,
     "metadata": {},
     "output_type": "execute_result"
    }
   ],
   "source": [
    "years"
   ]
  },
  {
   "cell_type": "markdown",
   "metadata": {},
   "source": [
    "- View 10: Consignees with the best estimated vs actual arrival times"
   ]
  },
  {
   "cell_type": "code",
   "execution_count": 25,
   "metadata": {},
   "outputs": [
    {
     "data": {
      "text/html": [
       "<div>\n",
       "<style scoped>\n",
       "    .dataframe tbody tr th:only-of-type {\n",
       "        vertical-align: middle;\n",
       "    }\n",
       "\n",
       "    .dataframe tbody tr th {\n",
       "        vertical-align: top;\n",
       "    }\n",
       "\n",
       "    .dataframe thead th {\n",
       "        text-align: right;\n",
       "    }\n",
       "</style>\n",
       "<table border=\"1\" class=\"dataframe\">\n",
       "  <thead>\n",
       "    <tr style=\"text-align: right;\">\n",
       "      <th></th>\n",
       "      <th>consignee_name</th>\n",
       "      <th>avg_delta</th>\n",
       "      <th>total_shipments</th>\n",
       "    </tr>\n",
       "  </thead>\n",
       "  <tbody>\n",
       "    <tr>\n",
       "      <th>0</th>\n",
       "      <td>JASON FURNITURE(HANGZHOU)CO.,LTD</td>\n",
       "      <td>-40.438389</td>\n",
       "      <td>844</td>\n",
       "    </tr>\n",
       "    <tr>\n",
       "      <th>1</th>\n",
       "      <td>OCEANROADS GMBH</td>\n",
       "      <td>-29.454545</td>\n",
       "      <td>110</td>\n",
       "    </tr>\n",
       "    <tr>\n",
       "      <th>2</th>\n",
       "      <td>VPA EXPORTERS</td>\n",
       "      <td>-28.936782</td>\n",
       "      <td>174</td>\n",
       "    </tr>\n",
       "    <tr>\n",
       "      <th>3</th>\n",
       "      <td>AMA S.P.A. VIA PUCCINI, 28</td>\n",
       "      <td>-27.313636</td>\n",
       "      <td>440</td>\n",
       "    </tr>\n",
       "    <tr>\n",
       "      <th>4</th>\n",
       "      <td>BUSYBEE KNITWEAR</td>\n",
       "      <td>-26.687688</td>\n",
       "      <td>333</td>\n",
       "    </tr>\n",
       "    <tr>\n",
       "      <th>5</th>\n",
       "      <td>IGIFT COMPANY LIMITED</td>\n",
       "      <td>-26.650794</td>\n",
       "      <td>126</td>\n",
       "    </tr>\n",
       "    <tr>\n",
       "      <th>6</th>\n",
       "      <td>TALLER NAGUISA S L</td>\n",
       "      <td>-25.901639</td>\n",
       "      <td>122</td>\n",
       "    </tr>\n",
       "    <tr>\n",
       "      <th>7</th>\n",
       "      <td>SPENCER GOLDFARB</td>\n",
       "      <td>-25.839901</td>\n",
       "      <td>406</td>\n",
       "    </tr>\n",
       "    <tr>\n",
       "      <th>8</th>\n",
       "      <td>YIWU WOQI PACKAGING CO LTD</td>\n",
       "      <td>-25.740113</td>\n",
       "      <td>354</td>\n",
       "    </tr>\n",
       "    <tr>\n",
       "      <th>9</th>\n",
       "      <td>GIANT CASTLE CO., LTD.</td>\n",
       "      <td>-25.051075</td>\n",
       "      <td>372</td>\n",
       "    </tr>\n",
       "    <tr>\n",
       "      <th>10</th>\n",
       "      <td>JIANGXI JINRUI HAIR PRODUCTS</td>\n",
       "      <td>-25.048780</td>\n",
       "      <td>123</td>\n",
       "    </tr>\n",
       "    <tr>\n",
       "      <th>11</th>\n",
       "      <td>HAINING TEXTIMETEXTILE CO.,LTD.</td>\n",
       "      <td>-24.745223</td>\n",
       "      <td>157</td>\n",
       "    </tr>\n",
       "    <tr>\n",
       "      <th>12</th>\n",
       "      <td>CH LIGHT TECHNOLOGY CO.,LTD.</td>\n",
       "      <td>-24.595556</td>\n",
       "      <td>225</td>\n",
       "    </tr>\n",
       "    <tr>\n",
       "      <th>13</th>\n",
       "      <td>SHANGHAI JUFA AUTO PARTS CO., LTD</td>\n",
       "      <td>-23.963636</td>\n",
       "      <td>110</td>\n",
       "    </tr>\n",
       "    <tr>\n",
       "      <th>14</th>\n",
       "      <td>MEDICHEM, S.A.</td>\n",
       "      <td>-23.962264</td>\n",
       "      <td>106</td>\n",
       "    </tr>\n",
       "  </tbody>\n",
       "</table>\n",
       "</div>"
      ],
      "text/plain": [
       "                       consignee_name  avg_delta  total_shipments\n",
       "0    JASON FURNITURE(HANGZHOU)CO.,LTD -40.438389              844\n",
       "1                     OCEANROADS GMBH -29.454545              110\n",
       "2                       VPA EXPORTERS -28.936782              174\n",
       "3          AMA S.P.A. VIA PUCCINI, 28 -27.313636              440\n",
       "4                    BUSYBEE KNITWEAR -26.687688              333\n",
       "5               IGIFT COMPANY LIMITED -26.650794              126\n",
       "6                  TALLER NAGUISA S L -25.901639              122\n",
       "7                    SPENCER GOLDFARB -25.839901              406\n",
       "8          YIWU WOQI PACKAGING CO LTD -25.740113              354\n",
       "9              GIANT CASTLE CO., LTD. -25.051075              372\n",
       "10       JIANGXI JINRUI HAIR PRODUCTS -25.048780              123\n",
       "11    HAINING TEXTIMETEXTILE CO.,LTD. -24.745223              157\n",
       "12       CH LIGHT TECHNOLOGY CO.,LTD. -24.595556              225\n",
       "13  SHANGHAI JUFA AUTO PARTS CO., LTD -23.963636              110\n",
       "14                     MEDICHEM, S.A. -23.962264              106"
      ]
     },
     "execution_count": 25,
     "metadata": {},
     "output_type": "execute_result"
    }
   ],
   "source": [
    "most_savvy_consignees"
   ]
  },
  {
   "cell_type": "code",
   "execution_count": null,
   "metadata": {},
   "outputs": [],
   "source": []
  }
 ],
 "metadata": {
  "kernelspec": {
   "display_name": "Python 3",
   "language": "python",
   "name": "python3"
  },
  "language_info": {
   "codemirror_mode": {
    "name": "ipython",
    "version": 3
   },
   "file_extension": ".py",
   "mimetype": "text/x-python",
   "name": "python",
   "nbconvert_exporter": "python",
   "pygments_lexer": "ipython3",
   "version": "3.11.5"
  },
  "orig_nbformat": 4
 },
 "nbformat": 4,
 "nbformat_minor": 2
}
