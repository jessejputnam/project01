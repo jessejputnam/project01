{
 "cells": [
  {
   "cell_type": "code",
   "execution_count": 70,
   "metadata": {},
   "outputs": [],
   "source": [
    "import pandas as pd\n",
    "import numpy as np"
   ]
  },
  {
   "cell_type": "markdown",
   "metadata": {},
   "source": [
    "## Set up countries table"
   ]
  },
  {
   "cell_type": "markdown",
   "metadata": {},
   "source": [
    "- Get table of countries with alpha-2 code that includes region from repository\n",
    "    - https://github.com/lukes/ISO-3166-Countries-with-Regional-Codes\n",
    "- Remove the unnecessary columns, change the index field and rename to id"
   ]
  },
  {
   "cell_type": "code",
   "execution_count": 68,
   "metadata": {},
   "outputs": [],
   "source": [
    "countries_cols = ['name', 'alpha-2', 'region', 'sub-region']\n",
    "countries = pd.read_csv('/Users/jesseputnam/cs-learning/skillstorm/project01/data/all.csv', usecols=countries_cols)\n",
    "\n",
    "# Copy alpha-2 and name columns for country_lookup conversion table\n",
    "country_lookup = countries[['name', 'alpha-2']].copy()\n",
    "country_lookup['name'] = country_lookup['name'].str.upper()\n",
    "\n",
    "# For ease of searching, change 'Taiwan, Province of China' to 'Taiwan'\n",
    "country_lookup.loc[country_lookup['name'].str.contains('TAIWAN'),'name'] = 'TAIWAN'\n",
    "\n",
    "# Change countries index column to be alpha-2 values and rename to id\n",
    "countries.set_index('alpha-2', inplace=True)\n",
    "countries.index.name = 'id'\n",
    "\n",
    "# change country_lookup index col to name values\n",
    "country_lookup.set_index('name', inplace=True)"
   ]
  },
  {
   "cell_type": "markdown",
   "metadata": {},
   "source": [
    "- Convert altered countries dataframe to csv"
   ]
  },
  {
   "cell_type": "code",
   "execution_count": 12,
   "metadata": {},
   "outputs": [],
   "source": [
    "countries_file_path = '/Users/jesseputnam/cs-learning/skillstorm/project01/data/final/countries.csv'\n",
    "countries.to_csv(countries_file_path)\n"
   ]
  },
  {
   "cell_type": "markdown",
   "metadata": {},
   "source": [
    "- Set up lookup table to convert country names to country codes"
   ]
  },
  {
   "cell_type": "markdown",
   "metadata": {},
   "source": [
    "## Set up Shipper table"
   ]
  },
  {
   "cell_type": "code",
   "execution_count": 3,
   "metadata": {},
   "outputs": [],
   "source": [
    "# Choose columns to keep\n",
    "shipper_keep_cols = ['shipper_party_name', 'shipper_party_address_1', 'shipper_party_address_2', 'shipper_party_address_3', 'shipper_party_address_4', 'city', 'state_province', 'zip_code', 'country_code']\n",
    "\n",
    "# \n",
    "shipper_2018_0 = pd.read_csv('/Users/jesseputnam/cs-learning/skillstorm/project01/data/2018/shipper_2018_part_0.csv', index_col=False, usecols=shipper_keep_cols)\n",
    "shipper_2018_1 = pd.read_csv('/Users/jesseputnam/cs-learning/skillstorm/project01/data/2018/shipper_2018_part_1.csv', usecols=shipper_keep_cols)\n",
    "\n",
    "# Replace NaN in name with Unknown\n",
    "shipper_2018_0['shipper_party_name'].fillna('N/A', inplace=True)"
   ]
  },
  {
   "cell_type": "markdown",
   "metadata": {},
   "source": [
    "- Clean and consolidate "
   ]
  },
  {
   "cell_type": "code",
   "execution_count": null,
   "metadata": {},
   "outputs": [],
   "source": [
    "def clean_mr_mrs_error(row):\n",
    "    \"\"\"Cleans the error where a non-quotation surrounded name where 'Mr AND/OR MRS.,' appears and erroneously splits the names to the next column\"\"\"\n",
    "\n",
    "    row['shipper_party_name'] = row['shipper_party_address_1']\n",
    "    row['shipper_party_address_1'] = row['shipper_party_address_2']\n",
    "    row['shipper_party_address_2'] = row['shipper_party_address_3']\n",
    "    row['shipper_party_address_3'] = row['shipper_party_address_4']\n",
    "    row['shipper_party_address_4'] = np.nan\n",
    "    return row\n",
    "\n",
    "def combine_addresses(row, cols):\n",
    "    \"\"\"Combine address columns if not NaN for the number of columns wanted, starting at 1, end inclusive\"\"\"\n",
    "\n",
    "    output = ''\n",
    "    for i in range(cols):\n",
    "        address_col = str(row[f\"shipper_party_address_{i + 1}\"]) + ' '\n",
    "        if not pd.isna(address_col):\n",
    "            output += address_col\n",
    "    return output.strip()\n",
    "\n",
    "def handle_n_address_cols(row, n):\n",
    "    \"\"\"Handle consolidating address columns from column n\"\"\"\n",
    "\n",
    "    if row[f'shipper_party_address_{n}'] in countries.index:\n",
    "        row['country_code'] = row[f'shipper_party_address_{n}']\n",
    "    elif row[f'shipper_party_address_{n}'] in country_lookup.index:\n",
    "        row['country_code'] = country_lookup.loc[row[f'shipper_party_address_{n}']]['alpha-2']\n",
    "    else:\n",
    "        row['country_code'] = 'N/A'\n",
    "        row['shipper_party_address_1'] = combine_addresses(row, n)\n",
    "        return row\n",
    "    row['shipper_party_address_1'] = combine_addresses(row, n - 1)\n",
    "    return row\n",
    "\n",
    "def clean_row(row):\n",
    "    \"\"\"Cleans the row by fixing naming issues, consolidating address, and adding correct country code if found\"\"\"\n",
    "\n",
    "    # Handle the mr/mrs error\n",
    "    if 'mr. and/or' in row['shipper_party_name'].lower():\n",
    "        row = clean_mr_mrs_error(row)\n",
    "\n",
    "    # Consolidate address columns\n",
    "    if row['country_code'] is not np.nan:\n",
    "        if row['country_code'] in countries.index:\n",
    "            row['shipper_party_address_1'] = combine_addresses(row, 4)\n",
    "            return row\n",
    "    if not pd.isna(row['shipper_party_address_4']):\n",
    "        return handle_n_address_cols(row, 4)\n",
    "    if not pd.isna(row['shipper_party_address_3']):\n",
    "        return handle_n_address_cols(row, 3)\n",
    "    if not pd.isna(row['shipper_party_address_2']):\n",
    "        return handle_n_address_cols(row, 2)\n",
    "    if not pd.isna(row['shipper_party_address_1']):\n",
    "        return handle_n_address_cols(row, 1)\n",
    "        \n",
    "    return row"
   ]
  },
  {
   "cell_type": "code",
   "execution_count": 7,
   "metadata": {},
   "outputs": [
    {
     "name": "stdout",
     "output_type": "stream",
     "text": [
      "<class 'pandas.core.frame.DataFrame'>\n",
      "RangeIndex: 4654643 entries, 0 to 4654642\n",
      "Data columns (total 9 columns):\n",
      " #   Column                   Non-Null Count    Dtype \n",
      "---  ------                   --------------    ----- \n",
      " 0   shipper_party_name       4654640 non-null  object\n",
      " 1   shipper_party_address_1  4654639 non-null  object\n",
      " 2   shipper_party_address_2  4090433 non-null  object\n",
      " 3   shipper_party_address_3  2934400 non-null  object\n",
      " 4   shipper_party_address_4  503952 non-null   object\n",
      " 5   city                     1214756 non-null  object\n",
      " 6   state_province           407030 non-null   object\n",
      " 7   zip_code                 595539 non-null   object\n",
      " 8   country_code             1164673 non-null  object\n",
      "dtypes: object(9)\n",
      "memory usage: 319.6+ MB\n"
     ]
    }
   ],
   "source": [
    "shipper_2018_1.info(show_counts=True)"
   ]
  },
  {
   "cell_type": "code",
   "execution_count": null,
   "metadata": {},
   "outputs": [],
   "source": [
    "\n",
    "shipper_2018_0.to_csv('/Users/jesseputnam/cs-learning/skillstorm/project01/data/final/shippers')"
   ]
  }
 ],
 "metadata": {
  "kernelspec": {
   "display_name": "Python 3",
   "language": "python",
   "name": "python3"
  },
  "language_info": {
   "codemirror_mode": {
    "name": "ipython",
    "version": 3
   },
   "file_extension": ".py",
   "mimetype": "text/x-python",
   "name": "python",
   "nbconvert_exporter": "python",
   "pygments_lexer": "ipython3",
   "version": "3.11.5"
  },
  "orig_nbformat": 4
 },
 "nbformat": 4,
 "nbformat_minor": 2
}
