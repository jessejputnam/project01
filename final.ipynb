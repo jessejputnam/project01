{
 "cells": [
  {
   "cell_type": "markdown",
   "metadata": {},
   "source": [
    "# Proposal"
   ]
  },
  {
   "cell_type": "markdown",
   "metadata": {},
   "source": [
    "## Use Case"
   ]
  },
  {
   "cell_type": "markdown",
   "metadata": {},
   "source": [
    "#### Big Question\n",
    "- Which shippers are most/least reliable (arrival time delta between estimated and actual)?\n",
    "\n",
    "#### Sub Questions\n",
    "- Which are the most reliable shippers per country/region/subregion\n",
    "- Which carrier companies are the most reliable?\n",
    "- What, if any, were the reliability changes over the years?\n",
    "    - How did covid affect reliability metrics of shipment times?\n",
    "- Which consignees chose their shippers wisest?"
   ]
  },
  {
   "cell_type": "markdown",
   "metadata": {},
   "source": [
    "# ETL Pipeline"
   ]
  },
  {
   "cell_type": "code",
   "execution_count": 5,
   "metadata": {},
   "outputs": [],
   "source": [
    "import pandas as pd\n",
    "\n",
    "from lib.utils import get_id_nums, clean_row, remove_incorrect_codes, data_fetch_url, data_send_url"
   ]
  },
  {
   "cell_type": "markdown",
   "metadata": {},
   "source": [
    "## Set up countries table"
   ]
  },
  {
   "cell_type": "markdown",
   "metadata": {},
   "source": [
    "- Get table of countries with alpha-2 code that includes region from repository\n",
    "    - https://github.com/lukes/ISO-3166-Countries-with-Regional-Codes"
   ]
  },
  {
   "cell_type": "code",
   "execution_count": 28,
   "metadata": {},
   "outputs": [],
   "source": [
    "countries_cols = ['name', 'alpha-2', 'region', 'sub-region']\n",
    "countries = pd.read_csv(data_send_url('bronze', 'country_data'), usecols=countries_cols, keep_default_na=False)\n",
    "\n",
    "extra_codes = pd.DataFrame(\n",
    "    {'name': ['Czechia', 'Netherland Antilles', 'Germany', 'European Union'], \n",
    "    'alpha-2': ['XC', 'AN', 'DD', 'EU'], \n",
    "    'region': ['Europe', 'Americas', 'Europe', 'Europe'], \n",
    "    'sub-region': ['Eastern Europe', 'Latin America and the Caribbean', 'Western Europe', 'Western Europe']}\n",
    "    )\n",
    "\n",
    "extra_codes\n",
    "countries = pd.concat([countries, extra_codes], ignore_index=True, keys=['alpha-2', 'name'])\n",
    "\n",
    "# Change countries index column to be alpha-2 values and rename to id\n",
    "countries.set_index('alpha-2', inplace=True)\n",
    "countries.index.name = 'id'\n",
    "countries.sort_index(inplace=True)\n",
    "\n",
    "# Create country code set with O(1) lookup for table cleaning\n",
    "alpha_2_set = set(countries.index)\n",
    "\n",
    "# Create country name dictionary with O(1) lookup for table cleaning\n",
    "country_dict = {x[1].upper(): x[0] for x in countries.itertuples()}\n",
    "\n",
    "# Add some statistically siginificant outliers, including common 2 common 'typos'\n",
    "country_dict['TAIWAN'] = 'TW'\n",
    "country_dict['SOUTH KOREA'] = 'KR'\n",
    "country_dict['SHANGHAI CN'] = 'CN'\n",
    "country_dict['SHANGHAI'] = 'CN'\n",
    "country_dict['SHANGHAI .'] = 'CN'\n",
    "country_dict['HONG KONG .'] = 'CN'\n",
    "country_dict['TAIPEI .'] = 'TW'\n",
    "country_dict['USA'] = 'US'\n",
    "country_dict['U.S.A.'] = 'US'"
   ]
  },
  {
   "cell_type": "markdown",
   "metadata": {},
   "source": [
    "## Shipper"
   ]
  },
  {
   "cell_type": "markdown",
   "metadata": {},
   "source": [
    "- Read CSVs to DataFrames with only necessary columns"
   ]
  },
  {
   "cell_type": "code",
   "execution_count": 8,
   "metadata": {},
   "outputs": [],
   "source": [
    "shipper_0 = pd.read_csv(data_fetch_url('bronze', 'shipper', '18', '0'))\n",
    "shipper_1 = pd.read_csv(data_fetch_url('bronze', 'shipper', '18', '1'))\n",
    "shipper_2 = pd.read_csv(data_fetch_url('bronze', 'shipper', '19', '0'))\n",
    "shipper_3 = pd.read_csv(data_fetch_url('bronze', 'shipper', '19', '1'))\n",
    "shipper_4 = pd.read_csv(data_fetch_url('bronze', 'shipper', '20', '0'))\n",
    "shipper_5 = pd.read_csv(data_fetch_url('bronze', 'shipper', '20', '1'))"
   ]
  },
  {
   "cell_type": "markdown",
   "metadata": {},
   "source": [
    "- Concatenate shippers DataFrames to single DataFrame"
   ]
  },
  {
   "cell_type": "code",
   "execution_count": 9,
   "metadata": {},
   "outputs": [],
   "source": [
    "shippers = pd.concat([shipper_0, shipper_1, shipper_2, shipper_3, shipper_4, shipper_5], ignore_index=True)"
   ]
  },
  {
   "cell_type": "code",
   "execution_count": 8,
   "metadata": {},
   "outputs": [],
   "source": [
    "# Replace NaN in name with Unknown\n",
    "shippers['shipper_party_name'].fillna('N/A', inplace=True)"
   ]
  },
  {
   "cell_type": "markdown",
   "metadata": {},
   "source": [
    "- Clean shipper rows and remove remaining unnecessary columns - (see utils.py for **CLEAN_ROW** function)"
   ]
  },
  {
   "cell_type": "code",
   "execution_count": 9,
   "metadata": {},
   "outputs": [],
   "source": [
    "shipper_clean = shippers.apply(lambda row: clean_row(row, 'shipper_party', alpha_2_set, country_dict), axis=1)"
   ]
  },
  {
   "cell_type": "markdown",
   "metadata": {},
   "source": [
    "- **Result:** out of 40,240,366 values\n",
    "\n",
    "\n",
    "|  | Before Cleaning | After Cleaning |\n",
    "| - | - | - |\n",
    "| country_codes #| 9,911,774 | 13,100,153| \n",
    "| country_codes %| 24.6% | 32.55% |"
   ]
  },
  {
   "cell_type": "markdown",
   "metadata": {},
   "source": [
    "- Create shipper id column and map IDs by name - (see utils.py for **GET_ID_NUMS** function)"
   ]
  },
  {
   "cell_type": "code",
   "execution_count": 13,
   "metadata": {},
   "outputs": [],
   "source": [
    "shipper_id_dict = get_id_nums(shipper_clean['shipper_party_name'])\n",
    "shipper_clean['shipper_id'] = shipper_clean['shipper_party_name'].map(shipper_id_dict)"
   ]
  },
  {
   "cell_type": "markdown",
   "metadata": {},
   "source": [
    "- Write cleaned data to CSV (time consuming process -- no mistakes)"
   ]
  },
  {
   "cell_type": "code",
   "execution_count": null,
   "metadata": {},
   "outputs": [],
   "source": [
    "shipper_fail_safe_path = data_send_url('fail_safe', 'shipper_clean')\n",
    "shipper_clean.to_csv(shipper_fail_safe_path, mode='w')"
   ]
  },
  {
   "cell_type": "markdown",
   "metadata": {},
   "source": [
    "## Consignee"
   ]
  },
  {
   "cell_type": "markdown",
   "metadata": {},
   "source": [
    "- copy CSVs to DataFrames"
   ]
  },
  {
   "cell_type": "code",
   "execution_count": 27,
   "metadata": {},
   "outputs": [],
   "source": [
    "consignee_0 = pd.read_csv(data_fetch_url('bronze', 'consignee', '18', '0'))\n",
    "consignee_1 = pd.read_csv(data_fetch_url('bronze', 'consignee', '18', '1'))\n",
    "consignee_2 = pd.read_csv(data_fetch_url('bronze', 'consignee', '19', '0'))\n",
    "consignee_3 = pd.read_csv(data_fetch_url('bronze', 'consignee', '19', '1'))\n",
    "consignee_4 = pd.read_csv(data_fetch_url('bronze', 'consignee', '20', '0'))\n",
    "consignee_5 = pd.read_csv(data_fetch_url('bronze', 'consignee', '20', '1'))"
   ]
  },
  {
   "cell_type": "markdown",
   "metadata": {},
   "source": [
    "- Concatenate to single DataFrame"
   ]
  },
  {
   "cell_type": "code",
   "execution_count": 29,
   "metadata": {},
   "outputs": [],
   "source": [
    "consignees = pd.concat([consignee_0, consignee_1, consignee_2, consignee_3, consignee_4, consignee_5], ignore_index=True)"
   ]
  },
  {
   "cell_type": "markdown",
   "metadata": {},
   "source": [
    "- Fill NaN names with N/A"
   ]
  },
  {
   "cell_type": "code",
   "execution_count": 9,
   "metadata": {},
   "outputs": [],
   "source": [
    "consignees['consignee_name'].fillna('N/A', inplace=True)"
   ]
  },
  {
   "cell_type": "markdown",
   "metadata": {},
   "source": [
    "- Clean names and country codes, remove unneceessary columns"
   ]
  },
  {
   "cell_type": "code",
   "execution_count": null,
   "metadata": {},
   "outputs": [],
   "source": [
    "consignee_clean = consignees.apply(lambda row: clean_row(row, 'consignee', alpha_2_set, country_dict), axis=1)"
   ]
  },
  {
   "cell_type": "markdown",
   "metadata": {},
   "source": [
    "- Map IDs to consignees by name"
   ]
  },
  {
   "cell_type": "code",
   "execution_count": 37,
   "metadata": {},
   "outputs": [],
   "source": [
    "consignee_id_dict = get_id_nums(consignee_clean['consignee_name'])\n",
    "consignee_clean['consignee_id'] = consignee_clean['consignee_name'].map(consignee_id_dict)"
   ]
  },
  {
   "cell_type": "markdown",
   "metadata": {},
   "source": [
    "- Save expensive task to CSV in case of errors"
   ]
  },
  {
   "cell_type": "code",
   "execution_count": 38,
   "metadata": {},
   "outputs": [],
   "source": [
    "consignee_fail_safe_path = data_send_url('fail_safe', 'consignee_clean')\n",
    "consignee_clean.to_csv(consignee_fail_safe_path, mode='w')"
   ]
  },
  {
   "cell_type": "markdown",
   "metadata": {},
   "source": [
    "## Header"
   ]
  },
  {
   "cell_type": "markdown",
   "metadata": {},
   "source": [
    "- Read header CSV files"
   ]
  },
  {
   "cell_type": "code",
   "execution_count": null,
   "metadata": {},
   "outputs": [],
   "source": [
    "header_0 = pd.read_csv(data_fetch_url('bronze', 'header', '18', '0'))\n",
    "header_1 = pd.read_csv(data_fetch_url('bronze', 'header', '18', '1'))\n",
    "header_2 = pd.read_csv(data_fetch_url('bronze', 'header', '18', '2'))\n",
    "header_3 = pd.read_csv(data_fetch_url('bronze', 'header', '18', '3'))\n",
    "header_4 = pd.read_csv(data_fetch_url('bronze', 'header', '19', '0'))\n",
    "header_5 = pd.read_csv(data_fetch_url('bronze', 'header', '19', '1'))\n",
    "header_6 = pd.read_csv(data_fetch_url('bronze', 'header', '19', '2'))\n",
    "header_7 = pd.read_csv(data_fetch_url('bronze', 'header', '19', '3'))\n",
    "header_8 = pd.read_csv(data_fetch_url('bronze', 'header', '20', '0'))\n",
    "header_9 = pd.read_csv(data_fetch_url('bronze', 'header', '20', '1'))\n",
    "header_10 = pd.read_csv(data_fetch_url('bronze', 'header', '20', '2'))"
   ]
  },
  {
   "cell_type": "markdown",
   "metadata": {},
   "source": [
    "- Concat to a single DataFrame"
   ]
  },
  {
   "cell_type": "code",
   "execution_count": 3,
   "metadata": {},
   "outputs": [],
   "source": [
    "headers = pd.concat([header_0, header_1, header_2, header_3, header_4, header_5, header_6, header_7, header_8, header_9, header_10], ignore_index=True)"
   ]
  },
  {
   "cell_type": "markdown",
   "metadata": {},
   "source": [
    "### Vessel Table"
   ]
  },
  {
   "cell_type": "markdown",
   "metadata": {},
   "source": [
    "- Separate out vessel table"
   ]
  },
  {
   "cell_type": "code",
   "execution_count": 5,
   "metadata": {},
   "outputs": [],
   "source": [
    "vessel_silver_cols = ['vessel_name', 'vessel_country_code', 'carrier_code', 'conveyance_id_qualifier', 'conveyance_id']\n",
    "vessels = headers[['identifier'] + vessel_silver_cols]\n",
    "vessels.loc[:, 'vessel_name'] = vessels['vessel_name'].fillna('N/A')\n",
    "vessels.loc[:, 'vessel_country_code'] = vessels['vessel_country_code'].fillna('N/A')"
   ]
  },
  {
   "cell_type": "markdown",
   "metadata": {},
   "source": [
    "- Get unique vessels from name + country and assign ids"
   ]
  },
  {
   "cell_type": "code",
   "execution_count": null,
   "metadata": {},
   "outputs": [],
   "source": [
    "vessels['temp'] = vessels['vessel_name'] + ' ' + vessels['vessel_country_code']\n",
    "vessel_id_dict = get_id_nums(vessels['temp'])\n",
    "vessels['vessel_id'] = vessels['temp'].map(vessel_id_dict)"
   ]
  },
  {
   "cell_type": "markdown",
   "metadata": {},
   "source": [
    "- Merge with header on identifier to assign vessel_id as foreign key"
   ]
  },
  {
   "cell_type": "code",
   "execution_count": 7,
   "metadata": {},
   "outputs": [],
   "source": [
    "headers = headers.merge(vessels[['identifier', 'vessel_id']], on=['identifier'], how='inner')"
   ]
  },
  {
   "cell_type": "markdown",
   "metadata": {},
   "source": [
    "- Remove repeat vessels, drop identifier and temp column, set index as id"
   ]
  },
  {
   "cell_type": "code",
   "execution_count": 22,
   "metadata": {},
   "outputs": [],
   "source": [
    "vessels.drop_duplicates(subset=['temp'], inplace=True)\n",
    "vessels.drop(labels=['identifier', 'temp'], axis=1, inplace=True)\n",
    "vessels.set_index(keys='vessel_id', inplace=True)"
   ]
  },
  {
   "cell_type": "markdown",
   "metadata": {},
   "source": [
    "- Remove erroneous or unknown country codes"
   ]
  },
  {
   "cell_type": "code",
   "execution_count": 30,
   "metadata": {},
   "outputs": [],
   "source": [
    "vessels['vessel_country_code'] = vessels['vessel_country_code'].apply(lambda row: remove_incorrect_codes(row, alpha_2_set))"
   ]
  },
  {
   "cell_type": "markdown",
   "metadata": {},
   "source": [
    "- Remove vessel columns and columns with non-nulls <= 10%"
   ]
  },
  {
   "cell_type": "code",
   "execution_count": 9,
   "metadata": {},
   "outputs": [],
   "source": [
    "notify = 'secondary_notify_party_'\n",
    "insig_cols = [\n",
    "        'port_of_destination', \n",
    "        'foreign_port_of_destination', \n",
    "        'foreign_port_of_destination_qualifier', \n",
    "        'in_bond_entry_type', \n",
    "        notify + '2', notify + '3', notify + '4', notify + '5', \n",
    "        notify + '6', notify + '7', notify + '8', notify + '9', notify + '10'\n",
    "    ]\n",
    "\n",
    "headers.drop(vessel_silver_cols + insig_cols, inplace=True, axis=1)"
   ]
  },
  {
   "cell_type": "markdown",
   "metadata": {},
   "source": [
    "## Junction Tables"
   ]
  },
  {
   "cell_type": "code",
   "execution_count": 42,
   "metadata": {},
   "outputs": [],
   "source": [
    "identifier_rename = {'identifier': 'shipment_id'}"
   ]
  },
  {
   "cell_type": "markdown",
   "metadata": {},
   "source": [
    "### Shipper_Shipment"
   ]
  },
  {
   "cell_type": "code",
   "execution_count": 36,
   "metadata": {},
   "outputs": [],
   "source": [
    "shipper_shipment = shipper_clean[['identifier', 'shipper_id']].copy()\n",
    "shipper_shipment.index.name = 'shipper_shipment_id'\n",
    "shipper_shipment.rename(columns=identifier_rename, inplace=True)"
   ]
  },
  {
   "cell_type": "markdown",
   "metadata": {},
   "source": [
    "### Consignee_Shipment"
   ]
  },
  {
   "cell_type": "code",
   "execution_count": 43,
   "metadata": {},
   "outputs": [],
   "source": [
    "consignee_shipment = consignee_clean[['identifier', 'consignee_id']].copy()\n",
    "consignee_shipment.index.name = 'cosignee_shipment_id'\n",
    "consignee_shipment.rename(columns=identifier_rename, inplace=True)"
   ]
  },
  {
   "cell_type": "markdown",
   "metadata": {},
   "source": [
    "## Silver Layer Creation"
   ]
  },
  {
   "cell_type": "markdown",
   "metadata": {},
   "source": [
    "![](/Users/jesseputnam/cs-learning/skillstorm/project01/silver_erd.png)"
   ]
  },
  {
   "cell_type": "markdown",
   "metadata": {},
   "source": [
    "- Remove identifier from consignee and shipper, drop duplicates on id, change index to IDs"
   ]
  },
  {
   "cell_type": "code",
   "execution_count": 63,
   "metadata": {},
   "outputs": [],
   "source": [
    "shipper_clean.drop(['identifier'], axis=1, inplace=True)\n",
    "shipper_clean.drop_duplicates(subset=['shipper_id'], inplace=True)\n",
    "shipper_clean.set_index(['shipper_id'], inplace=True)"
   ]
  },
  {
   "cell_type": "code",
   "execution_count": 71,
   "metadata": {},
   "outputs": [],
   "source": [
    "consignee_clean.drop(['identifier'], axis=1, inplace=True)\n",
    "consignee_clean.drop_duplicates(subset=['consignee_id'], inplace=True)\n",
    "consignee_clean.set_index(['consignee_id'], inplace=True)"
   ]
  },
  {
   "cell_type": "markdown",
   "metadata": {},
   "source": [
    "- Change index on header to identifier"
   ]
  },
  {
   "cell_type": "code",
   "execution_count": null,
   "metadata": {},
   "outputs": [],
   "source": [
    "headers.set_index(['identifier'], inplace=True)\n",
    "headers.index.name = 'shipment_id'"
   ]
  },
  {
   "cell_type": "markdown",
   "metadata": {},
   "source": [
    "- Upload shipper, shipment, shipper_shipment, consignee_shipment, consignee as as csv for SQL batch loading"
   ]
  },
  {
   "cell_type": "code",
   "execution_count": 34,
   "metadata": {},
   "outputs": [],
   "source": [
    "headers.to_csv(data_send_url('silver', 'shipment'), mode='w')\n",
    "vessels.to_csv(data_send_url('silver', 'vessel'), mode='w')\n",
    "shipper_clean.to_csv(data_send_url('silver', 'shipper'), mode='w')\n",
    "consignee_clean.to_csv(data_send_url('silver', 'consignee'), mode='w')\n",
    "shipper_shipment.to_csv(data_send_url('silver', 'shipper_shipment'), mode='w')\n",
    "consignee_shipment.to_csv(data_send_url('silver', 'consignee_shipment'), mode='w')\n",
    "countries.to_csv(data_send_url('silver', 'country'), mode='w')"
   ]
  },
  {
   "cell_type": "markdown",
   "metadata": {},
   "source": [
    "## Gold Layer Creation"
   ]
  },
  {
   "cell_type": "markdown",
   "metadata": {},
   "source": [
    "![ERD](/Users/jesseputnam/cs-learning/skillstorm/project01/erd.png)"
   ]
  },
  {
   "cell_type": "markdown",
   "metadata": {},
   "source": [
    "- Prep tables for Gold layer"
   ]
  },
  {
   "cell_type": "code",
   "execution_count": null,
   "metadata": {},
   "outputs": [],
   "source": [
    "shipper_clean.rename(columns={\"shipper_party_name\": \"shipper_name\"}, inplace=True)"
   ]
  },
  {
   "cell_type": "code",
   "execution_count": 16,
   "metadata": {},
   "outputs": [],
   "source": [
    "# Choose columns to keep\n",
    "shipper_cols = ['shipper_party_name', 'country_code']\n",
    "consignee_cols = ['consignee_name', 'country_code']\n",
    "header_cols = ['vessel_id', 'estimated_arrival_date','actual_arrival_date']\n",
    "vessel_cols = ['vessel_name', 'vessel_country_code', 'carrier_code']"
   ]
  },
  {
   "cell_type": "markdown",
   "metadata": {},
   "source": [
    "- Upload 'denormalized' gold layer tables to folder for virtual mount"
   ]
  },
  {
   "cell_type": "code",
   "execution_count": 19,
   "metadata": {},
   "outputs": [],
   "source": [
    "countries.to_csv(data_send_url('gold', 'country'), mode='w')\n",
    "vessels[vessel_cols].to_csv(data_send_url('gold', 'vessel'), mode='w')\n",
    "headers[header_cols].to_csv(data_send_url('gold', 'shipment'), mode='w')\n",
    "shipper_clean[shipper_cols].to_csv(data_send_url('gold', 'shipper'), mode='w')\n",
    "consignee_clean[consignee_cols].to_csv(data_send_url('gold', 'consignee'), mode='w')\n",
    "shipper_shipment.to_csv(data_send_url('gold', 'shipper_shipment'), mode='w')\n",
    "consignee_shipment.to_csv(data_send_url('gold', 'consignee_shipment'), mode='w')"
   ]
  },
  {
   "cell_type": "markdown",
   "metadata": {},
   "source": [
    "### SQL Database "
   ]
  },
  {
   "cell_type": "code",
   "execution_count": 1,
   "metadata": {},
   "outputs": [],
   "source": [
    "import pyodbc\n",
    "import os"
   ]
  },
  {
   "cell_type": "code",
   "execution_count": 2,
   "metadata": {},
   "outputs": [],
   "source": [
    "server = os.getenv('SERVER')\n",
    "username = os.getenv('USER')\n",
    "password = os.getenv('PASSWORD')\n",
    "driver = os.getenv('DRIVER')"
   ]
  },
  {
   "cell_type": "markdown",
   "metadata": {},
   "source": [
    "#### SQL Table Creation"
   ]
  },
  {
   "cell_type": "code",
   "execution_count": 22,
   "metadata": {},
   "outputs": [
    {
     "name": "stdout",
     "output_type": "stream",
     "text": [
      "Connected Successfully!\n",
      "\n",
      "USE statement executed\n",
      "CREATE DATABASE statement executed\n",
      "USE statement executed\n",
      "CREATE TABLE statement executed\n",
      "CREATE TABLE statement executed\n",
      "CREATE TABLE statement executed\n",
      "CREATE TABLE statement executed\n",
      "CREATE TABLE statement executed\n",
      "CREATE TABLE statement executed\n",
      "CREATE TABLE statement executed\n",
      "Connection closed\n",
      "\n"
     ]
    }
   ],
   "source": [
    "create_tables_file = '/Users/jesseputnam/cs-learning/skillstorm/project01/sql/create_db_tables.sql'\n",
    "\n",
    "try: \n",
    "    conn = pyodbc.connect(driver=driver, server=server, uid=username, pwd=password, autocommit=True)\n",
    "    cursor = conn.cursor()\n",
    "    print(\"Connected Successfully!\\n\")\n",
    "    \n",
    "    with open(create_tables_file, 'r') as f:\n",
    "        sql_statements = f.read().replace('\\n', '').strip().split(\";\")\n",
    "        sql_statements = [x + ';' for x in sql_statements if x]\n",
    "\n",
    "        for statement in sql_statements:\n",
    "            cursor.execute(statement)\n",
    "\n",
    "            split = statement.split('    ')\n",
    "            if split[0].split()[0] == 'USE':\n",
    "                cmd_run = split[0].split()[0]\n",
    "            else:\n",
    "                cmd_run = f\"{split[1].split()[0]} {split[1].split()[1]}\"\n",
    "\n",
    "            print(f\"{cmd_run} statement executed\")\n",
    "\n",
    "except pyodbc.Error as e:\n",
    "    print(f\"Error: {e}\")\n",
    "finally:\n",
    "    if conn:\n",
    "        conn.close()\n",
    "        print('Connection closed\\n')\n",
    "    else:\n",
    "        print('No connection was established')"
   ]
  },
  {
   "cell_type": "markdown",
   "metadata": {},
   "source": [
    "#### Bulk Insert from Gold Layer"
   ]
  },
  {
   "cell_type": "code",
   "execution_count": 23,
   "metadata": {},
   "outputs": [
    {
     "name": "stdout",
     "output_type": "stream",
     "text": [
      "Connected Successfully!\n",
      "\n",
      "USE ams  statement executed\n",
      "BULK INSERT dbo.country statement executed\n",
      "BULK INSERT dbo.vessel statement executed\n",
      "BULK INSERT dbo.shipment statement executed\n",
      "BULK INSERT dbo.shipper statement executed\n",
      "BULK INSERT dbo.consignee statement executed\n",
      "BULK INSERT dbo.shipper_shipment statement executed\n",
      "BULK INSERT dbo.consignee_shipment statement executed\n",
      "Connection closed\n",
      "\n"
     ]
    }
   ],
   "source": [
    "bulk_load_file = '/Users/jesseputnam/cs-learning/skillstorm/project01/sql/load_db_tables.sql'\n",
    "\n",
    "try: \n",
    "    conn = pyodbc.connect(driver=driver, server=server, uid=username, pwd=password, autocommit=True)\n",
    "    cursor = conn.cursor()\n",
    "    print(\"Connected Successfully!\\n\")\n",
    "\n",
    "    with open(bulk_load_file, 'r') as f:\n",
    "        sql_statements = f.read().replace('\\n', '').split(\";\")\n",
    "        sql_statements = [x for x in sql_statements if x]\n",
    "\n",
    "        for statement in sql_statements:\n",
    "            cursor.execute(statement)\n",
    "            words = statement.split()\n",
    "            print(f\"{words[0]} {words[1]} {words[2] if len(words) > 2 else ''} statement executed\")\n",
    "\n",
    "except pyodbc.Error as e:\n",
    "    print(f\"Error: {e}\")\n",
    "finally:\n",
    "    if conn:\n",
    "        conn.close()\n",
    "        print('Connection closed\\n')\n",
    "    else:\n",
    "        print('No connection was established\\n')"
   ]
  },
  {
   "cell_type": "markdown",
   "metadata": {},
   "source": [
    "## Analysis"
   ]
  },
  {
   "cell_type": "code",
   "execution_count": 27,
   "metadata": {},
   "outputs": [
    {
     "name": "stdout",
     "output_type": "stream",
     "text": [
      "Connected Successfully!\n",
      "\n",
      "Connection closed\n",
      "\n",
      "('AD', 'Andorra', 'Europe', 'Southern Europe')\n",
      "('AE', 'United Arab Emirates', 'Asia', 'Western Asia')\n",
      "('AF', 'Afghanistan', 'Asia', 'Southern Asia')\n",
      "('AG', 'Antigua and Barbuda', 'Americas', 'Latin America and the Caribbean')\n",
      "('AI', 'Anguilla', 'Americas', 'Latin America and the Caribbean')\n",
      "('AL', 'Albania', 'Europe', 'Southern Europe')\n",
      "('AM', 'Armenia', 'Asia', 'Western Asia')\n",
      "('AN', 'Netherland Antilles', 'Americas', 'Latin America and the Caribbean')\n",
      "('AO', 'Angola', 'Africa', 'Sub-Saharan Africa')\n",
      "('AQ', 'Antarctica', None, None)\n",
      "('AR', 'Argentina', 'Americas', 'Latin America and the Caribbean')\n",
      "('AS', 'American Samoa', 'Oceania', 'Polynesia')\n",
      "('AT', 'Austria', 'Europe', 'Western Europe')\n",
      "('AU', 'Australia', 'Oceania', 'Australia and New Zealand')\n",
      "('AW', 'Aruba', 'Americas', 'Latin America and the Caribbean')\n",
      "('AX', '+àland Islands', 'Europe', 'Northern Europe')\n",
      "('AZ', 'Azerbaijan', 'Asia', 'Western Asia')\n",
      "('BA', 'Bosnia and Herzegovina', 'Europe', 'Southern Europe')\n",
      "('BB', 'Barbados', 'Americas', 'Latin America and the Caribbean')\n",
      "('BD', 'Bangladesh', 'Asia', 'Southern Asia')\n",
      "('BE', 'Belgium', 'Europe', 'Western Europe')\n",
      "('BF', 'Burkina Faso', 'Africa', 'Sub-Saharan Africa')\n",
      "('BG', 'Bulgaria', 'Europe', 'Eastern Europe')\n",
      "('BH', 'Bahrain', 'Asia', 'Western Asia')\n",
      "('BI', 'Burundi', 'Africa', 'Sub-Saharan Africa')\n",
      "('BJ', 'Benin', 'Africa', 'Sub-Saharan Africa')\n",
      "('BL', 'Saint Barth+¬lemy', 'Americas', 'Latin America and the Caribbean')\n",
      "('BM', 'Bermuda', 'Americas', 'Northern America')\n",
      "('BN', 'Brunei Darussalam', 'Asia', 'South-eastern Asia')\n",
      "('BO', 'Bolivia (Plurinational State of)', 'Americas', 'Latin America and the Caribbean')\n",
      "('BQ', 'Bonaire, Sint Eustatius and Saba', 'Americas', 'Latin America and the Caribbean')\n",
      "('BR', 'Brazil', 'Americas', 'Latin America and the Caribbean')\n",
      "('BS', 'Bahamas', 'Americas', 'Latin America and the Caribbean')\n",
      "('BT', 'Bhutan', 'Asia', 'Southern Asia')\n",
      "('BV', 'Bouvet Island', 'Americas', 'Latin America and the Caribbean')\n",
      "('BW', 'Botswana', 'Africa', 'Sub-Saharan Africa')\n",
      "('BY', 'Belarus', 'Europe', 'Eastern Europe')\n",
      "('BZ', 'Belize', 'Americas', 'Latin America and the Caribbean')\n",
      "('CA', 'Canada', 'Americas', 'Northern America')\n",
      "('CC', 'Cocos (Keeling) Islands', 'Oceania', 'Australia and New Zealand')\n",
      "('CD', 'Congo, Democratic Republic of the', 'Africa', 'Sub-Saharan Africa')\n",
      "('CF', 'Central African Republic', 'Africa', 'Sub-Saharan Africa')\n",
      "('CG', 'Congo', 'Africa', 'Sub-Saharan Africa')\n",
      "('CH', 'Switzerland', 'Europe', 'Western Europe')\n",
      "('CI', \"C+¦te d'Ivoire\", 'Africa', 'Sub-Saharan Africa')\n",
      "('CK', 'Cook Islands', 'Oceania', 'Polynesia')\n",
      "('CL', 'Chile', 'Americas', 'Latin America and the Caribbean')\n",
      "('CM', 'Cameroon', 'Africa', 'Sub-Saharan Africa')\n",
      "('CN', 'China', 'Asia', 'Eastern Asia')\n",
      "('CO', 'Colombia', 'Americas', 'Latin America and the Caribbean')\n",
      "('CR', 'Costa Rica', 'Americas', 'Latin America and the Caribbean')\n",
      "('CU', 'Cuba', 'Americas', 'Latin America and the Caribbean')\n",
      "('CV', 'Cabo Verde', 'Africa', 'Sub-Saharan Africa')\n",
      "('CW', 'Cura+ºao', 'Americas', 'Latin America and the Caribbean')\n",
      "('CX', 'Christmas Island', 'Oceania', 'Australia and New Zealand')\n",
      "('CY', 'Cyprus', 'Asia', 'Western Asia')\n",
      "('CZ', 'Czechia', 'Europe', 'Eastern Europe')\n",
      "('DD', 'Germany', 'Europe', 'Western Europe')\n",
      "('DE', 'Germany', 'Europe', 'Western Europe')\n",
      "('DJ', 'Djibouti', 'Africa', 'Sub-Saharan Africa')\n",
      "('DK', 'Denmark', 'Europe', 'Northern Europe')\n",
      "('DM', 'Dominica', 'Americas', 'Latin America and the Caribbean')\n",
      "('DO', 'Dominican Republic', 'Americas', 'Latin America and the Caribbean')\n",
      "('DZ', 'Algeria', 'Africa', 'Northern Africa')\n",
      "('EC', 'Ecuador', 'Americas', 'Latin America and the Caribbean')\n",
      "('EE', 'Estonia', 'Europe', 'Northern Europe')\n",
      "('EG', 'Egypt', 'Africa', 'Northern Africa')\n",
      "('EH', 'Western Sahara', 'Africa', 'Northern Africa')\n",
      "('ER', 'Eritrea', 'Africa', 'Sub-Saharan Africa')\n",
      "('ES', 'Spain', 'Europe', 'Southern Europe')\n",
      "('ET', 'Ethiopia', 'Africa', 'Sub-Saharan Africa')\n",
      "('EU', 'European Union', 'Europe', 'Western Europe')\n",
      "('FI', 'Finland', 'Europe', 'Northern Europe')\n",
      "('FJ', 'Fiji', 'Oceania', 'Melanesia')\n",
      "('FK', 'Falkland Islands (Malvinas)', 'Americas', 'Latin America and the Caribbean')\n",
      "('FM', 'Micronesia (Federated States of)', 'Oceania', 'Micronesia')\n",
      "('FO', 'Faroe Islands', 'Europe', 'Northern Europe')\n",
      "('FR', 'France', 'Europe', 'Western Europe')\n",
      "('GA', 'Gabon', 'Africa', 'Sub-Saharan Africa')\n",
      "('GB', 'United Kingdom of Great Britain and Northern Ireland', 'Europe', 'Northern Europe')\n",
      "('GD', 'Grenada', 'Americas', 'Latin America and the Caribbean')\n",
      "('GE', 'Georgia', 'Asia', 'Western Asia')\n",
      "('GF', 'French Guiana', 'Americas', 'Latin America and the Caribbean')\n",
      "('GG', 'Guernsey', 'Europe', 'Northern Europe')\n",
      "('GH', 'Ghana', 'Africa', 'Sub-Saharan Africa')\n",
      "('GI', 'Gibraltar', 'Europe', 'Southern Europe')\n",
      "('GL', 'Greenland', 'Americas', 'Northern America')\n",
      "('GM', 'Gambia', 'Africa', 'Sub-Saharan Africa')\n",
      "('GN', 'Guinea', 'Africa', 'Sub-Saharan Africa')\n",
      "('GP', 'Guadeloupe', 'Americas', 'Latin America and the Caribbean')\n",
      "('GQ', 'Equatorial Guinea', 'Africa', 'Sub-Saharan Africa')\n",
      "('GR', 'Greece', 'Europe', 'Southern Europe')\n",
      "('GS', 'South Georgia and the South Sandwich Islands', 'Americas', 'Latin America and the Caribbean')\n",
      "('GT', 'Guatemala', 'Americas', 'Latin America and the Caribbean')\n",
      "('GU', 'Guam', 'Oceania', 'Micronesia')\n",
      "('GW', 'Guinea-Bissau', 'Africa', 'Sub-Saharan Africa')\n",
      "('GY', 'Guyana', 'Americas', 'Latin America and the Caribbean')\n",
      "('HK', 'Hong Kong', 'Asia', 'Eastern Asia')\n",
      "('HM', 'Heard Island and McDonald Islands', 'Oceania', 'Australia and New Zealand')\n",
      "('HN', 'Honduras', 'Americas', 'Latin America and the Caribbean')\n",
      "('HR', 'Croatia', 'Europe', 'Southern Europe')\n",
      "('HT', 'Haiti', 'Americas', 'Latin America and the Caribbean')\n",
      "('HU', 'Hungary', 'Europe', 'Eastern Europe')\n",
      "('ID', 'Indonesia', 'Asia', 'South-eastern Asia')\n",
      "('IE', 'Ireland', 'Europe', 'Northern Europe')\n",
      "('IL', 'Israel', 'Asia', 'Western Asia')\n",
      "('IM', 'Isle of Man', 'Europe', 'Northern Europe')\n",
      "('IN', 'India', 'Asia', 'Southern Asia')\n",
      "('IO', 'British Indian Ocean Territory', 'Africa', 'Sub-Saharan Africa')\n",
      "('IQ', 'Iraq', 'Asia', 'Western Asia')\n",
      "('IR', 'Iran (Islamic Republic of)', 'Asia', 'Southern Asia')\n",
      "('IS', 'Iceland', 'Europe', 'Northern Europe')\n",
      "('IT', 'Italy', 'Europe', 'Southern Europe')\n",
      "('JE', 'Jersey', 'Europe', 'Northern Europe')\n",
      "('JM', 'Jamaica', 'Americas', 'Latin America and the Caribbean')\n",
      "('JO', 'Jordan', 'Asia', 'Western Asia')\n",
      "('JP', 'Japan', 'Asia', 'Eastern Asia')\n",
      "('KE', 'Kenya', 'Africa', 'Sub-Saharan Africa')\n",
      "('KG', 'Kyrgyzstan', 'Asia', 'Central Asia')\n",
      "('KH', 'Cambodia', 'Asia', 'South-eastern Asia')\n",
      "('KI', 'Kiribati', 'Oceania', 'Micronesia')\n",
      "('KM', 'Comoros', 'Africa', 'Sub-Saharan Africa')\n",
      "('KN', 'Saint Kitts and Nevis', 'Americas', 'Latin America and the Caribbean')\n",
      "('KP', \"Korea (Democratic People's Republic of)\", 'Asia', 'Eastern Asia')\n",
      "('KR', 'Korea, Republic of', 'Asia', 'Eastern Asia')\n",
      "('KW', 'Kuwait', 'Asia', 'Western Asia')\n",
      "('KY', 'Cayman Islands', 'Americas', 'Latin America and the Caribbean')\n",
      "('KZ', 'Kazakhstan', 'Asia', 'Central Asia')\n",
      "('LA', \"Lao People's Democratic Republic\", 'Asia', 'South-eastern Asia')\n",
      "('LB', 'Lebanon', 'Asia', 'Western Asia')\n",
      "('LC', 'Saint Lucia', 'Americas', 'Latin America and the Caribbean')\n",
      "('LI', 'Liechtenstein', 'Europe', 'Western Europe')\n",
      "('LK', 'Sri Lanka', 'Asia', 'Southern Asia')\n",
      "('LR', 'Liberia', 'Africa', 'Sub-Saharan Africa')\n",
      "('LS', 'Lesotho', 'Africa', 'Sub-Saharan Africa')\n",
      "('LT', 'Lithuania', 'Europe', 'Northern Europe')\n",
      "('LU', 'Luxembourg', 'Europe', 'Western Europe')\n",
      "('LV', 'Latvia', 'Europe', 'Northern Europe')\n",
      "('LY', 'Libya', 'Africa', 'Northern Africa')\n",
      "('MA', 'Morocco', 'Africa', 'Northern Africa')\n",
      "('MC', 'Monaco', 'Europe', 'Western Europe')\n",
      "('MD', 'Moldova, Republic of', 'Europe', 'Eastern Europe')\n",
      "('ME', 'Montenegro', 'Europe', 'Southern Europe')\n",
      "('MF', 'Saint Martin (French part)', 'Americas', 'Latin America and the Caribbean')\n",
      "('MG', 'Madagascar', 'Africa', 'Sub-Saharan Africa')\n",
      "('MH', 'Marshall Islands', 'Oceania', 'Micronesia')\n",
      "('MK', 'North Macedonia', 'Europe', 'Southern Europe')\n",
      "('ML', 'Mali', 'Africa', 'Sub-Saharan Africa')\n",
      "('MM', 'Myanmar', 'Asia', 'South-eastern Asia')\n",
      "('MN', 'Mongolia', 'Asia', 'Eastern Asia')\n",
      "('MO', 'Macao', 'Asia', 'Eastern Asia')\n",
      "('MP', 'Northern Mariana Islands', 'Oceania', 'Micronesia')\n",
      "('MQ', 'Martinique', 'Americas', 'Latin America and the Caribbean')\n",
      "('MR', 'Mauritania', 'Africa', 'Sub-Saharan Africa')\n",
      "('MS', 'Montserrat', 'Americas', 'Latin America and the Caribbean')\n",
      "('MT', 'Malta', 'Europe', 'Southern Europe')\n",
      "('MU', 'Mauritius', 'Africa', 'Sub-Saharan Africa')\n",
      "('MV', 'Maldives', 'Asia', 'Southern Asia')\n",
      "('MW', 'Malawi', 'Africa', 'Sub-Saharan Africa')\n",
      "('MX', 'Mexico', 'Americas', 'Latin America and the Caribbean')\n",
      "('MY', 'Malaysia', 'Asia', 'South-eastern Asia')\n",
      "('MZ', 'Mozambique', 'Africa', 'Sub-Saharan Africa')\n",
      "('NA', 'Namibia', 'Africa', 'Sub-Saharan Africa')\n",
      "('NC', 'New Caledonia', 'Oceania', 'Melanesia')\n",
      "('NE', 'Niger', 'Africa', 'Sub-Saharan Africa')\n",
      "('NF', 'Norfolk Island', 'Oceania', 'Australia and New Zealand')\n",
      "('NG', 'Nigeria', 'Africa', 'Sub-Saharan Africa')\n",
      "('NI', 'Nicaragua', 'Americas', 'Latin America and the Caribbean')\n",
      "('NL', 'Netherlands', 'Europe', 'Western Europe')\n",
      "('NO', 'Norway', 'Europe', 'Northern Europe')\n",
      "('NP', 'Nepal', 'Asia', 'Southern Asia')\n",
      "('NR', 'Nauru', 'Oceania', 'Micronesia')\n",
      "('NU', 'Niue', 'Oceania', 'Polynesia')\n",
      "('NZ', 'New Zealand', 'Oceania', 'Australia and New Zealand')\n",
      "('OM', 'Oman', 'Asia', 'Western Asia')\n",
      "('PA', 'Panama', 'Americas', 'Latin America and the Caribbean')\n",
      "('PE', 'Peru', 'Americas', 'Latin America and the Caribbean')\n",
      "('PF', 'French Polynesia', 'Oceania', 'Polynesia')\n",
      "('PG', 'Papua New Guinea', 'Oceania', 'Melanesia')\n",
      "('PH', 'Philippines', 'Asia', 'South-eastern Asia')\n",
      "('PK', 'Pakistan', 'Asia', 'Southern Asia')\n",
      "('PL', 'Poland', 'Europe', 'Eastern Europe')\n",
      "('PM', 'Saint Pierre and Miquelon', 'Americas', 'Northern America')\n",
      "('PN', 'Pitcairn', 'Oceania', 'Polynesia')\n",
      "('PR', 'Puerto Rico', 'Americas', 'Latin America and the Caribbean')\n",
      "('PS', 'Palestine, State of', 'Asia', 'Western Asia')\n",
      "('PT', 'Portugal', 'Europe', 'Southern Europe')\n",
      "('PW', 'Palau', 'Oceania', 'Micronesia')\n",
      "('PY', 'Paraguay', 'Americas', 'Latin America and the Caribbean')\n",
      "('QA', 'Qatar', 'Asia', 'Western Asia')\n",
      "('RE', 'R+¬union', 'Africa', 'Sub-Saharan Africa')\n",
      "('RO', 'Romania', 'Europe', 'Eastern Europe')\n",
      "('RS', 'Serbia', 'Europe', 'Southern Europe')\n",
      "('RU', 'Russian Federation', 'Europe', 'Eastern Europe')\n",
      "('RW', 'Rwanda', 'Africa', 'Sub-Saharan Africa')\n",
      "('SA', 'Saudi Arabia', 'Asia', 'Western Asia')\n",
      "('SB', 'Solomon Islands', 'Oceania', 'Melanesia')\n",
      "('SC', 'Seychelles', 'Africa', 'Sub-Saharan Africa')\n",
      "('SD', 'Sudan', 'Africa', 'Northern Africa')\n",
      "('SE', 'Sweden', 'Europe', 'Northern Europe')\n",
      "('SG', 'Singapore', 'Asia', 'South-eastern Asia')\n",
      "('SH', 'Saint Helena, Ascension and Tristan da Cunha', 'Africa', 'Sub-Saharan Africa')\n",
      "('SI', 'Slovenia', 'Europe', 'Southern Europe')\n",
      "('SJ', 'Svalbard and Jan Mayen', 'Europe', 'Northern Europe')\n",
      "('SK', 'Slovakia', 'Europe', 'Eastern Europe')\n",
      "('SL', 'Sierra Leone', 'Africa', 'Sub-Saharan Africa')\n",
      "('SM', 'San Marino', 'Europe', 'Southern Europe')\n",
      "('SN', 'Senegal', 'Africa', 'Sub-Saharan Africa')\n",
      "('SO', 'Somalia', 'Africa', 'Sub-Saharan Africa')\n",
      "('SR', 'Suriname', 'Americas', 'Latin America and the Caribbean')\n",
      "('SS', 'South Sudan', 'Africa', 'Sub-Saharan Africa')\n",
      "('ST', 'Sao Tome and Principe', 'Africa', 'Sub-Saharan Africa')\n",
      "('SV', 'El Salvador', 'Americas', 'Latin America and the Caribbean')\n",
      "('SX', 'Sint Maarten (Dutch part)', 'Americas', 'Latin America and the Caribbean')\n",
      "('SY', 'Syrian Arab Republic', 'Asia', 'Western Asia')\n",
      "('SZ', 'Eswatini', 'Africa', 'Sub-Saharan Africa')\n",
      "('TC', 'Turks and Caicos Islands', 'Americas', 'Latin America and the Caribbean')\n",
      "('TD', 'Chad', 'Africa', 'Sub-Saharan Africa')\n",
      "('TF', 'French Southern Territories', 'Africa', 'Sub-Saharan Africa')\n",
      "('TG', 'Togo', 'Africa', 'Sub-Saharan Africa')\n",
      "('TH', 'Thailand', 'Asia', 'South-eastern Asia')\n",
      "('TJ', 'Tajikistan', 'Asia', 'Central Asia')\n",
      "('TK', 'Tokelau', 'Oceania', 'Polynesia')\n",
      "('TL', 'Timor-Leste', 'Asia', 'South-eastern Asia')\n",
      "('TM', 'Turkmenistan', 'Asia', 'Central Asia')\n",
      "('TN', 'Tunisia', 'Africa', 'Northern Africa')\n",
      "('TO', 'Tonga', 'Oceania', 'Polynesia')\n",
      "('TR', 'Turkey', 'Asia', 'Western Asia')\n",
      "('TT', 'Trinidad and Tobago', 'Americas', 'Latin America and the Caribbean')\n",
      "('TV', 'Tuvalu', 'Oceania', 'Polynesia')\n",
      "('TW', 'Taiwan, Province of China', 'Asia', 'Eastern Asia')\n",
      "('TZ', 'Tanzania, United Republic of', 'Africa', 'Sub-Saharan Africa')\n",
      "('UA', 'Ukraine', 'Europe', 'Eastern Europe')\n",
      "('UG', 'Uganda', 'Africa', 'Sub-Saharan Africa')\n",
      "('UM', 'United States Minor Outlying Islands', 'Oceania', 'Micronesia')\n",
      "('US', 'United States of America', 'Americas', 'Northern America')\n",
      "('UY', 'Uruguay', 'Americas', 'Latin America and the Caribbean')\n",
      "('UZ', 'Uzbekistan', 'Asia', 'Central Asia')\n",
      "('VA', 'Holy See', 'Europe', 'Southern Europe')\n",
      "('VC', 'Saint Vincent and the Grenadines', 'Americas', 'Latin America and the Caribbean')\n",
      "('VE', 'Venezuela (Bolivarian Republic of)', 'Americas', 'Latin America and the Caribbean')\n",
      "('VG', 'Virgin Islands (British)', 'Americas', 'Latin America and the Caribbean')\n",
      "('VI', 'Virgin Islands (U.S.)', 'Americas', 'Latin America and the Caribbean')\n",
      "('VN', 'Viet Nam', 'Asia', 'South-eastern Asia')\n",
      "('VU', 'Vanuatu', 'Oceania', 'Melanesia')\n",
      "('WF', 'Wallis and Futuna', 'Oceania', 'Polynesia')\n",
      "('WS', 'Samoa', 'Oceania', 'Polynesia')\n",
      "('XC', 'Czechia', 'Europe', 'Eastern Europe')\n",
      "('YE', 'Yemen', 'Asia', 'Western Asia')\n",
      "('YT', 'Mayotte', 'Africa', 'Sub-Saharan Africa')\n",
      "('ZA', 'South Africa', 'Africa', 'Sub-Saharan Africa')\n",
      "('ZM', 'Zambia', 'Africa', 'Sub-Saharan Africa')\n",
      "('ZW', 'Zimbabwe', 'Africa', 'Sub-Saharan Africa')\n"
     ]
    }
   ],
   "source": [
    "try: \n",
    "    conn = pyodbc.connect(driver=driver, server=server, uid=username, pwd=password, database='ams', autocommit=True)\n",
    "    cursor = conn.cursor()\n",
    "    print(\"Connected Successfully!\\n\")\n",
    "\n",
    "    statement = 'SELECT * FROM country'\n",
    "    cursor.execute(statement)\n",
    "    rows = cursor.fetchall()\n",
    "\n",
    "except pyodbc.Error as e:\n",
    "    print(f\"Error: {e}\")\n",
    "finally:\n",
    "    if conn:\n",
    "        conn.close()\n",
    "        print('Connection closed\\n')\n",
    "    else:\n",
    "        print('No connection was established\\n')\n",
    "\n",
    "for row in rows:\n",
    "    print(row)"
   ]
  }
 ],
 "metadata": {
  "kernelspec": {
   "display_name": "Python 3",
   "language": "python",
   "name": "python3"
  },
  "language_info": {
   "codemirror_mode": {
    "name": "ipython",
    "version": 3
   },
   "file_extension": ".py",
   "mimetype": "text/x-python",
   "name": "python",
   "nbconvert_exporter": "python",
   "pygments_lexer": "ipython3",
   "version": "3.11.5"
  },
  "orig_nbformat": 4
 },
 "nbformat": 4,
 "nbformat_minor": 2
}
